{
 "cells": [
  {
   "cell_type": "code",
   "id": "initial_id",
   "metadata": {
    "collapsed": true,
    "ExecuteTime": {
     "end_time": "2024-09-21T21:39:55.912708Z",
     "start_time": "2024-09-21T21:39:49.565783Z"
    }
   },
   "source": [
    "from pyspark.sql import functions as F\n",
    "from pyspark.sql import SparkSession\n",
    "\n",
    "# Crear la sesión de Spark\n",
    "spark = SparkSession.builder.appName('ejercicio_3').getOrCreate()"
   ],
   "outputs": [
    {
     "name": "stderr",
     "output_type": "stream",
     "text": [
      "bash: warning: setlocale: LC_ALL: cannot change locale (en_US.UTF-8)\n",
      "bash: warning: setlocale: LC_ALL: cannot change locale (en_US.UTF-8)\n",
      "24/09/21 16:39:52 WARN Utils: Your hostname, Andres resolves to a loopback address: 127.0.1.1; using 10.255.255.254 instead (on interface lo)\n",
      "24/09/21 16:39:52 WARN Utils: Set SPARK_LOCAL_IP if you need to bind to another address\n",
      "Setting default log level to \"WARN\".\n",
      "To adjust logging level use sc.setLogLevel(newLevel). For SparkR, use setLogLevel(newLevel).\n",
      "24/09/21 16:39:53 WARN NativeCodeLoader: Unable to load native-hadoop library for your platform... using builtin-java classes where applicable\n"
     ]
    }
   ],
   "execution_count": 2
  },
  {
   "metadata": {
    "ExecuteTime": {
     "end_time": "2024-09-21T21:40:06.632179Z",
     "start_time": "2024-09-21T21:39:55.931334Z"
    }
   },
   "cell_type": "code",
   "source": [
    "# Leer los archivos\n",
    "df_cundinamarca = spark.read.csv('data/deptos/25_CUNDINAMARCA_R1.csv', header=True, inferSchema=True, encoding='UTF-8')\n",
    "df_internet = spark.read.csv('data/Internet_Fijo_Penetraci_n_Municipio.csv', header=True, inferSchema=True, encoding='UTF-8')"
   ],
   "id": "d58a86dd8ee6f0ef",
   "outputs": [
    {
     "name": "stderr",
     "output_type": "stream",
     "text": [
      "                                                                                \r"
     ]
    }
   ],
   "execution_count": 3
  },
  {
   "metadata": {
    "ExecuteTime": {
     "end_time": "2024-09-21T21:40:06.741234Z",
     "start_time": "2024-09-21T21:40:06.668685Z"
    }
   },
   "cell_type": "code",
   "source": [
    "# Convertir el campo DEPARTAMENTO y COD_DEPARTAMENTO a string en ambos datasets para que coincidan\n",
    "df_cundinamarca = df_cundinamarca.withColumn('DEPARTAMENTO', F.col('DEPARTAMENTO').cast('string'))\n",
    "df_internet = df_internet.withColumn('COD_DEPARTAMENTO', F.col('COD_DEPARTAMENTO').cast('string'))"
   ],
   "id": "b0bdd98209f75ac3",
   "outputs": [],
   "execution_count": 4
  },
  {
   "metadata": {
    "ExecuteTime": {
     "end_time": "2024-09-21T21:40:06.855261Z",
     "start_time": "2024-09-21T21:40:06.769747Z"
    }
   },
   "cell_type": "code",
   "source": [
    "# Renombrar las columnas en df_cundinamarca para evitar conflictos\n",
    "df_cundinamarca = df_cundinamarca.select([F.col(c).alias(f\"cundi_{c}\") for c in df_cundinamarca.columns])"
   ],
   "id": "a4f792f75c769f4b",
   "outputs": [],
   "execution_count": 5
  },
  {
   "metadata": {
    "ExecuteTime": {
     "end_time": "2024-09-21T21:40:06.940952Z",
     "start_time": "2024-09-21T21:40:06.884879Z"
    }
   },
   "cell_type": "code",
   "source": [
    "# Escapar columnas con caracteres especiales en df_internet\n",
    "df_internet = df_internet.select([F.col(f\"`{c}`\").alias(f\"int_{c.replace(' ', '_').replace('.', '_')}\") for c in df_internet.columns])"
   ],
   "id": "fe903d40ef92160e",
   "outputs": [],
   "execution_count": 6
  },
  {
   "metadata": {
    "ExecuteTime": {
     "end_time": "2024-09-21T21:40:07.054164Z",
     "start_time": "2024-09-21T21:40:06.967255Z"
    }
   },
   "cell_type": "code",
   "source": [
    "# Realizar un join filtrando por el código de departamento de Cundinamarca (25)\n",
    "df_cundinamarca_joined = df_cundinamarca.join(\n",
    "    df_internet.filter(F.col('int_COD_DEPARTAMENTO') == '25'),\n",
    "    df_cundinamarca['cundi_DEPARTAMENTO'] == df_internet['int_COD_DEPARTAMENTO'],\n",
    "    how='inner'\n",
    ")"
   ],
   "id": "85ddd1a6414987c3",
   "outputs": [],
   "execution_count": 7
  },
  {
   "metadata": {
    "ExecuteTime": {
     "end_time": "2024-09-21T21:01:10.794528Z",
     "start_time": "2024-09-21T21:01:09.733227Z"
    }
   },
   "cell_type": "code",
   "source": [
    "# Mostrar algunas filas en el editor para comprobar\n",
    "df_cundinamarca_joined.show()"
   ],
   "id": "cf087f9bf254689e",
   "outputs": [
    {
     "name": "stdout",
     "output_type": "stream",
     "text": [
      "+------------------+---------------+--------------------+---------------+-----------------------+------------------+---------------------+-----------------------------+-------+-------------+--------------------+----------------+-----------------+--------------------+--------------------------------+------------------+----------+\n",
      "|cundi_DEPARTAMENTO|cundi_MUNICIPIO|cundi_NUMERO_PREDIAL|cundi_DIRECCION|cundi_DESTINO_ECONOMICO|cundi_AREA_TERRENO|cundi_AREA_CONSTRUIDA|cundi_NUMERO_PREDIAL_ANTERIOR|int_AÑO|int_TRIMESTRE|int_COD_DEPARTAMENTO|int_DEPARTAMENTO|int_COD_MUNICIPIO|       int_MUNICIPIO|int_No__ACCESOS_FIJOS_A_INTERNET|int_POBLACIÓN_DANE|int_INDICE|\n",
      "+------------------+---------------+--------------------+---------------+-----------------------+------------------+---------------------+-----------------------------+-------+-------------+--------------------+----------------+-----------------+--------------------+--------------------------------+------------------+----------+\n",
      "|                25|          25001|25001000000000001...|     LA PALMA 1|                      D|              3190|                   59|         25001000000010003000|   2022|            3|                  25|    CUNDINAMARCA|            25851|               UTICA|                             173|              4755|    0,0364|\n",
      "|                25|          25001|25001000000000001...|     LA PALMA 1|                      D|              3190|                   59|         25001000000010003000|   2022|            3|                  25|    CUNDINAMARCA|            25488|                NILO|                             316|             12902|    0,0245|\n",
      "|                25|          25001|25001000000000001...|     LA PALMA 1|                      D|              3190|                   59|         25001000000010003000|   2022|            3|                  25|    CUNDINAMARCA|            25769|          SUBACHOQUE|                             719|             17956|      0,04|\n",
      "|                25|          25001|25001000000000001...|     LA PALMA 1|                      D|              3190|                   59|         25001000000010003000|   2021|            4|                  25|    CUNDINAMARCA|            25148|           CAPARRAPI|                             773|             13506|    0,0572|\n",
      "|                25|          25001|25001000000000001...|     LA PALMA 1|                      D|              3190|                   59|         25001000000010003000|   2022|            2|                  25|    CUNDINAMARCA|            25181|             CHOACHI|                            1050|             12363|    0,0849|\n",
      "|                25|          25001|25001000000000001...|     LA PALMA 1|                      D|              3190|                   59|         25001000000010003000|   2022|            3|                  25|    CUNDINAMARCA|            25151|             CAQUEZA|                            1247|             19257|    0,0648|\n",
      "|                25|          25001|25001000000000001...|     LA PALMA 1|                      D|              3190|                   59|         25001000000010003000|   2022|            3|                  25|    CUNDINAMARCA|            25799|               TENJO|                            3238|             25841|    0,1253|\n",
      "|                25|          25001|25001000000000001...|     LA PALMA 1|                      D|              3190|                   59|         25001000000010003000|   2022|            2|                  25|    CUNDINAMARCA|            25662|SAN JUAN DE RIO SECO|                             150|              9155|    0,0164|\n",
      "|                25|          25001|25001000000000001...|     LA PALMA 1|                      D|              3190|                   59|         25001000000010003000|   2022|            2|                  25|    CUNDINAMARCA|            25436|               MANTA|                             153|              4175|    0,0366|\n",
      "|                25|          25001|25001000000000001...|     LA PALMA 1|                      D|              3190|                   59|         25001000000010003000|   2022|            3|                  25|    CUNDINAMARCA|            25841|              UBAQUE|                             102|              7579|    0,0135|\n",
      "|                25|          25001|25001000000000001...|     LA PALMA 1|                      D|              3190|                   59|         25001000000010003000|   2021|            4|                  25|    CUNDINAMARCA|            25823|             TOPAIPI|                             139|              4454|    0,0312|\n",
      "|                25|          25001|25001000000000001...|     LA PALMA 1|                      D|              3190|                   59|         25001000000010003000|   2022|            3|                  25|    CUNDINAMARCA|            25402|             LA VEGA|                            2057|             19992|    0,1029|\n",
      "|                25|          25001|25001000000000001...|     LA PALMA 1|                      D|              3190|                   59|         25001000000010003000|   2022|            3|                  25|    CUNDINAMARCA|            25335|          GUAYABETAL|                             307|              7232|    0,0425|\n",
      "|                25|          25001|25001000000000001...|     LA PALMA 1|                      D|              3190|                   59|         25001000000010003000|   2022|            3|                  25|    CUNDINAMARCA|            25430|              MADRID|                           36961|            136374|     0,271|\n",
      "|                25|          25001|25001000000000001...|     LA PALMA 1|                      D|              3190|                   59|         25001000000010003000|   2022|            2|                  25|    CUNDINAMARCA|            25805|             TIBACUY|                              46|              4975|    0,0092|\n",
      "|                25|          25001|25001000000000001...|     LA PALMA 1|                      D|              3190|                   59|         25001000000010003000|   2021|            3|                  25|    CUNDINAMARCA|            25053|            ARBELAEZ|                             600|             11394|    0,0527|\n",
      "|                25|          25001|25001000000000001...|     LA PALMA 1|                      D|              3190|                   59|         25001000000010003000|   2022|            2|                  25|    CUNDINAMARCA|            25506|             VENECIA|                              13|              4771|    0,0027|\n",
      "|                25|          25001|25001000000000001...|     LA PALMA 1|                      D|              3190|                   59|         25001000000010003000|   2022|            1|                  25|    CUNDINAMARCA|            25645|SAN ANTONIO DEL T...|                             314|             13758|    0,0228|\n",
      "|                25|          25001|25001000000000001...|     LA PALMA 1|                      D|              3190|                   59|         25001000000010003000|   2019|            4|                  25|    CUNDINAMARCA|            25245|          EL COLEGIO|                             456|             25047|    0,0182|\n",
      "|                25|          25001|25001000000000001...|     LA PALMA 1|                      D|              3190|                   59|         25001000000010003000|   2021|            4|                  25|    CUNDINAMARCA|            25645|SAN ANTONIO DEL T...|                             188|             13339|    0,0141|\n",
      "+------------------+---------------+--------------------+---------------+-----------------------+------------------+---------------------+-----------------------------+-------+-------------+--------------------+----------------+-----------------+--------------------+--------------------------------+------------------+----------+\n",
      "only showing top 20 rows\n",
      "\n"
     ]
    }
   ],
   "execution_count": 7
  },
  {
   "metadata": {
    "ExecuteTime": {
     "end_time": "2024-09-21T21:34:33.857400Z",
     "start_time": "2024-09-21T21:01:10.884083Z"
    }
   },
   "cell_type": "code",
   "source": [
    "# Exportar el resultado para evitar problemas con el editor\n",
    "output_path = \"data/deptos/transformaciones/cundinamarca_joined.csv\"\n",
    "df_cundinamarca_joined.coalesce(1).write.csv(output_path, header=True, mode='overwrite')"
   ],
   "id": "9d07d3c60a6fb7f7",
   "outputs": [
    {
     "name": "stderr",
     "output_type": "stream",
     "text": [
      "                                                                                \r"
     ]
    }
   ],
   "execution_count": 8
  },
  {
   "metadata": {
    "ExecuteTime": {
     "end_time": "2024-09-21T21:37:43.867121Z",
     "start_time": "2024-09-21T21:37:43.285426Z"
    }
   },
   "cell_type": "code",
   "source": [
    "# Cerrar la sesión de Spark al finalizar\n",
    "spark.stop()"
   ],
   "id": "6c6f29bf322d9cf0",
   "outputs": [],
   "execution_count": 9
  },
  {
   "metadata": {
    "ExecuteTime": {
     "end_time": "2024-09-21T21:40:07.099006Z",
     "start_time": "2024-09-21T21:40:07.087827Z"
    }
   },
   "cell_type": "code",
   "source": "df_cundinamarca_joined.printSchema()",
   "id": "603544049139c0fc",
   "outputs": [
    {
     "name": "stdout",
     "output_type": "stream",
     "text": [
      "root\n",
      " |-- cundi_DEPARTAMENTO: string (nullable = true)\n",
      " |-- cundi_MUNICIPIO: integer (nullable = true)\n",
      " |-- cundi_NUMERO_PREDIAL: decimal(30,0) (nullable = true)\n",
      " |-- cundi_DIRECCION: string (nullable = true)\n",
      " |-- cundi_DESTINO_ECONOMICO: string (nullable = true)\n",
      " |-- cundi_AREA_TERRENO: integer (nullable = true)\n",
      " |-- cundi_AREA_CONSTRUIDA: integer (nullable = true)\n",
      " |-- cundi_NUMERO_PREDIAL_ANTERIOR: decimal(20,0) (nullable = true)\n",
      " |-- int_AÑO: integer (nullable = true)\n",
      " |-- int_TRIMESTRE: integer (nullable = true)\n",
      " |-- int_COD_DEPARTAMENTO: string (nullable = true)\n",
      " |-- int_DEPARTAMENTO: string (nullable = true)\n",
      " |-- int_COD_MUNICIPIO: integer (nullable = true)\n",
      " |-- int_MUNICIPIO: string (nullable = true)\n",
      " |-- int_No__ACCESOS_FIJOS_A_INTERNET: integer (nullable = true)\n",
      " |-- int_POBLACIÓN_DANE: integer (nullable = true)\n",
      " |-- int_INDICE: string (nullable = true)\n",
      "\n"
     ]
    }
   ],
   "execution_count": 8
  },
  {
   "metadata": {
    "ExecuteTime": {
     "end_time": "2024-09-21T21:41:29.739804Z",
     "start_time": "2024-09-21T21:41:28.104401Z"
    }
   },
   "cell_type": "code",
   "source": [
    "# Mostrar algunas filas en el editor para comprobar\n",
    "df_cundinamarca_joined.show(1)"
   ],
   "id": "6a502b1134b919ba",
   "outputs": [
    {
     "name": "stdout",
     "output_type": "stream",
     "text": [
      "+------------------+---------------+--------------------+---------------+-----------------------+------------------+---------------------+-----------------------------+-------+-------------+--------------------+----------------+-----------------+-------------+--------------------------------+------------------+----------+\n",
      "|cundi_DEPARTAMENTO|cundi_MUNICIPIO|cundi_NUMERO_PREDIAL|cundi_DIRECCION|cundi_DESTINO_ECONOMICO|cundi_AREA_TERRENO|cundi_AREA_CONSTRUIDA|cundi_NUMERO_PREDIAL_ANTERIOR|int_AÑO|int_TRIMESTRE|int_COD_DEPARTAMENTO|int_DEPARTAMENTO|int_COD_MUNICIPIO|int_MUNICIPIO|int_No__ACCESOS_FIJOS_A_INTERNET|int_POBLACIÓN_DANE|int_INDICE|\n",
      "+------------------+---------------+--------------------+---------------+-----------------------+------------------+---------------------+-----------------------------+-------+-------------+--------------------+----------------+-----------------+-------------+--------------------------------+------------------+----------+\n",
      "|                25|          25001|25001000000000001...|     LA PALMA 1|                      D|              3190|                   59|         25001000000010003000|   2022|            3|                  25|    CUNDINAMARCA|            25851|        UTICA|                             173|              4755|    0,0364|\n",
      "+------------------+---------------+--------------------+---------------+-----------------------+------------------+---------------------+-----------------------------+-------+-------------+--------------------+----------------+-----------------+-------------+--------------------------------+------------------+----------+\n",
      "only showing top 1 row\n",
      "\n"
     ]
    }
   ],
   "execution_count": 9
  },
  {
   "metadata": {
    "ExecuteTime": {
     "end_time": "2024-09-21T21:43:23.029544Z",
     "start_time": "2024-09-21T21:43:21.376773Z"
    }
   },
   "cell_type": "code",
   "source": [
    "# Verificar si cundi_DEPARTAMENTO es igual a int_DEPARTAMENTO\n",
    "df_cundinamarca_joined.filter(F.col('cundi_DEPARTAMENTO') != F.col('int_DEPARTAMENTO')).select('cundi_DEPARTAMENTO', 'int_DEPARTAMENTO').show(10, truncate=False)\n",
    "\n",
    "# Verificar si cundi_MUNICIPIO es igual a int_MUNICIPIO\n",
    "df_cundinamarca_joined.filter(F.col('cundi_MUNICIPIO') != F.col('int_COD_MUNICIPIO')).select('cundi_MUNICIPIO', 'int_COD_MUNICIPIO').show(10, truncate=False)\n"
   ],
   "id": "9a9ac6e78f02078d",
   "outputs": [
    {
     "name": "stdout",
     "output_type": "stream",
     "text": [
      "+------------------+----------------+\n",
      "|cundi_DEPARTAMENTO|int_DEPARTAMENTO|\n",
      "+------------------+----------------+\n",
      "|25                |CUNDINAMARCA    |\n",
      "|25                |CUNDINAMARCA    |\n",
      "|25                |CUNDINAMARCA    |\n",
      "|25                |CUNDINAMARCA    |\n",
      "|25                |CUNDINAMARCA    |\n",
      "|25                |CUNDINAMARCA    |\n",
      "|25                |CUNDINAMARCA    |\n",
      "|25                |CUNDINAMARCA    |\n",
      "|25                |CUNDINAMARCA    |\n",
      "|25                |CUNDINAMARCA    |\n",
      "+------------------+----------------+\n",
      "only showing top 10 rows\n",
      "\n",
      "+---------------+-----------------+\n",
      "|cundi_MUNICIPIO|int_COD_MUNICIPIO|\n",
      "+---------------+-----------------+\n",
      "|25001          |25851            |\n",
      "|25001          |25488            |\n",
      "|25001          |25769            |\n",
      "|25001          |25148            |\n",
      "|25001          |25181            |\n",
      "|25001          |25151            |\n",
      "|25001          |25799            |\n",
      "|25001          |25662            |\n",
      "|25001          |25436            |\n",
      "|25001          |25841            |\n",
      "+---------------+-----------------+\n",
      "only showing top 10 rows\n",
      "\n"
     ]
    }
   ],
   "execution_count": 10
  },
  {
   "metadata": {
    "ExecuteTime": {
     "end_time": "2024-09-21T21:48:59.690909Z",
     "start_time": "2024-09-21T21:48:59.354611Z"
    }
   },
   "cell_type": "code",
   "source": [
    "# Filtrar e imprimir las filas donde int_MUNICIPIO sea igual a 25001\n",
    "df_cundinamarca_joined.filter(F.col('int_COD_MUNICIPIO') == 11001).select('cundi_MUNICIPIO', 'int_COD_MUNICIPIO', 'int_MUNICIPIO', 'int_POBLACIÓN_DANE').show(100, truncate=False)\n"
   ],
   "id": "9e1038d6fad24efa",
   "outputs": [
    {
     "name": "stdout",
     "output_type": "stream",
     "text": [
      "+---------------+-----------------+-------------+------------------+\n",
      "|cundi_MUNICIPIO|int_COD_MUNICIPIO|int_MUNICIPIO|int_POBLACIÓN_DANE|\n",
      "+---------------+-----------------+-------------+------------------+\n",
      "+---------------+-----------------+-------------+------------------+\n",
      "\n"
     ]
    }
   ],
   "execution_count": 12
  },
  {
   "metadata": {
    "ExecuteTime": {
     "end_time": "2024-09-21T22:23:04.888967Z",
     "start_time": "2024-09-21T22:23:02.783626Z"
    }
   },
   "cell_type": "code",
   "source": [
    "from pyspark.sql import functions as F\n",
    "\n",
    "# 1. Leer los archivos\n",
    "df_cundinamarca = spark.read.csv('data/deptos/25_CUNDINAMARCA_R1.csv', header=True, inferSchema=True, encoding='UTF-8')\n",
    "df_internet = spark.read.csv('data/Internet_Fijo_Penetraci_n_Municipio.csv', header=True, inferSchema=True, encoding='UTF-8')\n",
    "\n",
    "# 2. Renombrar la columna MUNICIPIO a NOMBRE_MUNICIPIO en df_internet para evitar conflictos\n",
    "df_internet = df_internet.withColumnRenamed(\"MUNICIPIO\", \"NOMBRE_MUNICIPIO\")\n",
    "\n",
    "# 3. Renombrar la columna DEPARTAMENTO en df_internet para evitar ambigüedad\n",
    "df_internet = df_internet.withColumnRenamed(\"DEPARTAMENTO\", \"INT_DEPARTAMENTO\")\n",
    "\n",
    "# 4. Renombrar columnas con espacios y caracteres especiales en df_internet\n",
    "df_internet = df_internet.withColumnRenamed(\"POBLACIÓN DANE\", \"POBLACION_DANE\") \\\n",
    "    .withColumnRenamed(\"No. ACCESOS FIJOS A INTERNET\", \"ACCESOS_FIJOS_A_INTERNET\")\n",
    "\n",
    "# 5. Realizar el join usando el código del municipio como clave\n",
    "df_joined = df_cundinamarca.join(\n",
    "    df_internet,\n",
    "    df_cundinamarca[\"MUNICIPIO\"] == df_internet[\"COD_MUNICIPIO\"],\n",
    "    how=\"inner\"\n",
    ")\n",
    "\n",
    "# 6. Eliminar duplicados basados en el código del municipio\n",
    "df_joined = df_joined.dropDuplicates([\"MUNICIPIO\", \"NOMBRE_MUNICIPIO\", \"DEPARTAMENTO\", \"POBLACION_DANE\"])\n",
    "\n",
    "# 7. Seleccionar y mostrar el código del municipio, su nombre, y el departamento\n",
    "df_joined.select('MUNICIPIO', 'NOMBRE_MUNICIPIO', 'DEPARTAMENTO', 'POBLACION_DANE').show(100, truncate=False)\n",
    "\n",
    "# 8. Contar el número de municipios únicos en Cundinamarca\n",
    "num_municipios_unicos = df_joined.select('MUNICIPIO').distinct().count()\n",
    "num_municipios_unicos"
   ],
   "id": "8407b1dbd673eb23",
   "outputs": [
    {
     "name": "stdout",
     "output_type": "stream",
     "text": [
      "+---------+----------------+------------+--------------+\n",
      "|MUNICIPIO|NOMBRE_MUNICIPIO|DEPARTAMENTO|POBLACION_DANE|\n",
      "+---------+----------------+------------+--------------+\n",
      "|25001    |AGUA DE DIOS    |25          |12813         |\n",
      "|25001    |AGUA DE DIOS    |25          |11966         |\n",
      "|25120    |CABRERA         |25          |5263          |\n",
      "|25120    |CABRERA         |25          |4885          |\n",
      "|25175    |CHIA            |25          |149570        |\n",
      "|25099    |BOJACA          |25          |11898         |\n",
      "|25001    |AGUA DE DIOS    |25          |12325         |\n",
      "|25148    |CAPARRAPI       |25          |12990         |\n",
      "|25148    |CAPARRAPI       |25          |13506         |\n",
      "|25086    |BELTRAN         |25          |1960          |\n",
      "|25148    |CAPARRAPI       |25          |13931         |\n",
      "|25099    |BOJACA          |25          |11535         |\n",
      "|25086    |BELTRAN         |25          |1885          |\n",
      "|25175    |CHIA            |25          |141308        |\n",
      "|25120    |CABRERA         |25          |5429          |\n",
      "|25099    |BOJACA          |25          |11092         |\n",
      "|25086    |BELTRAN         |25          |2022          |\n",
      "|25086    |BELTRAN         |25          |1832          |\n",
      "|25001    |AGUA DE DIOS    |25          |13217         |\n",
      "|25175    |CHIA            |25          |155541        |\n",
      "|25099    |BOJACA          |25          |10524         |\n",
      "|25175    |CHIA            |25          |160435        |\n",
      "|25120    |CABRERA         |25          |5062          |\n",
      "|25148    |CAPARRAPI       |25          |12714         |\n",
      "|25286    |FUNZA           |25          |112720        |\n",
      "|25183    |CHOCONTA        |25          |23892         |\n",
      "|25181    |CHOACHI         |25          |12363         |\n",
      "|25286    |FUNZA           |25          |105086        |\n",
      "|25183    |CHOCONTA        |25          |21425         |\n",
      "|25183    |CHOCONTA        |25          |23163         |\n",
      "|25286    |FUNZA           |25          |99387         |\n",
      "|25181    |CHOACHI         |25          |11986         |\n",
      "|25286    |FUNZA           |25          |109281        |\n",
      "|25181    |CHOACHI         |25          |11528         |\n",
      "|25183    |CHOCONTA        |25          |22278         |\n",
      "|25181    |CHOACHI         |25          |11213         |\n",
      "|25426    |MACHETA         |25          |6733          |\n",
      "|25339    |GUTIERREZ       |25          |3567          |\n",
      "|25324    |GUATAQUI        |25          |2973          |\n",
      "|25322    |GUASCA          |25          |16166         |\n",
      "|25295    |GACHANCIPA      |25          |19376         |\n",
      "|25295    |GACHANCIPA      |25          |20150         |\n",
      "|25426    |MACHETA         |25          |6527          |\n",
      "|25339    |GUTIERREZ       |25          |3478          |\n",
      "|25324    |GUATAQUI        |25          |2882          |\n",
      "|25402    |LA VEGA         |25          |19992         |\n",
      "|25339    |GUTIERREZ       |25          |3709          |\n",
      "|25322    |GUASCA          |25          |18160         |\n",
      "|25295    |GACHANCIPA      |25          |20784         |\n",
      "|25322    |GUASCA          |25          |16934         |\n",
      "|25339    |GUTIERREZ       |25          |3825          |\n",
      "|25377    |LA CALERA       |25          |31432         |\n",
      "|25295    |GACHANCIPA      |25          |18264         |\n",
      "|25324    |GUATAQUI        |25          |2772          |\n",
      "|25402    |LA VEGA         |25          |17830         |\n",
      "|25426    |MACHETA         |25          |6278          |\n",
      "|25377    |LA CALERA       |25          |35301         |\n",
      "|25426    |MACHETA         |25          |6171          |\n",
      "|25377    |LA CALERA       |25          |34224         |\n",
      "|25377    |LA CALERA       |25          |32917         |\n",
      "|25402    |LA VEGA         |25          |19382         |\n",
      "|25324    |GUATAQUI        |25          |2811          |\n",
      "|25402    |LA VEGA         |25          |18642         |\n",
      "|25322    |GUASCA          |25          |17607         |\n",
      "|25430    |MADRID          |25          |132214        |\n",
      "|25430    |MADRID          |25          |127138        |\n",
      "|25430    |MADRID          |25          |120067        |\n",
      "|25430    |MADRID          |25          |136374        |\n",
      "|25473    |MOSQUERA        |25          |150665        |\n",
      "|25473    |MOSQUERA        |25          |141171        |\n",
      "|25473    |MOSQUERA        |25          |161610        |\n",
      "|25473    |MOSQUERA        |25          |156680        |\n",
      "|25612    |RICAURTE        |25          |13652         |\n",
      "|25572    |PUERTO SALGAR   |25          |16058         |\n",
      "|25572    |PUERTO SALGAR   |25          |17333         |\n",
      "|25488    |NILO            |25          |12902         |\n",
      "|25513    |PACHO           |25          |25803         |\n",
      "|25513    |PACHO           |25          |27672         |\n",
      "|25513    |PACHO           |25          |25046         |\n",
      "|25572    |PUERTO SALGAR   |25          |17878         |\n",
      "|25488    |NILO            |25          |11441         |\n",
      "|25612    |RICAURTE        |25          |14941         |\n",
      "|25513    |PACHO           |25          |26828         |\n",
      "|25488    |NILO            |25          |12508         |\n",
      "|25612    |RICAURTE        |25          |14367         |\n",
      "|25612    |RICAURTE        |25          |15411         |\n",
      "|25572    |PUERTO SALGAR   |25          |16671         |\n",
      "|25488    |NILO            |25          |12028         |\n",
      "|25785    |TABIO           |25          |24206         |\n",
      "|25817    |TOCANCIPA       |25          |49035         |\n",
      "|25740    |SIBATE          |25          |39313         |\n",
      "|25772    |SUESCA          |25          |19485         |\n",
      "|25785    |TABIO           |25          |25964         |\n",
      "|25817    |TOCANCIPA       |25          |43020         |\n",
      "|25785    |TABIO           |25          |22983         |\n",
      "|25745    |SIMIJACA        |25          |15080         |\n",
      "|25785    |TABIO           |25          |25172         |\n",
      "|25817    |TOCANCIPA       |25          |47539         |\n",
      "|25745    |SIMIJACA        |25          |13465         |\n",
      "|25745    |SIMIJACA        |25          |14620         |\n",
      "+---------+----------------+------------+--------------+\n",
      "only showing top 100 rows\n",
      "\n"
     ]
    },
    {
     "data": {
      "text/plain": [
       "31"
      ]
     },
     "execution_count": 21,
     "metadata": {},
     "output_type": "execute_result"
    }
   ],
   "execution_count": 21
  },
  {
   "metadata": {
    "ExecuteTime": {
     "end_time": "2024-09-21T22:30:01.518982Z",
     "start_time": "2024-09-21T22:29:58.641190Z"
    }
   },
   "cell_type": "code",
   "source": [
    "# Leer el archivo original de Cundinamarca\n",
    "df_cundinamarca_original = spark.read.csv('data/deptos/CUNDINAMARCA_REG2.csv', header=True, inferSchema=True, encoding='UTF-8')\n",
    "\n",
    "# Verificar si Bogotá está en el dataset original de Cundinamarca usando el código 11001\n",
    "df_bogota_cundinamarca = df_cundinamarca_original.filter(F.col(\"MUNICIPIO\") == \"11001\")\n",
    "\n",
    "# Mostrar los resultados\n",
    "df_bogota_cundinamarca.show(truncate=False)\n"
   ],
   "id": "3e43f53290c69083",
   "outputs": [
    {
     "name": "stderr",
     "output_type": "stream",
     "text": [
      "                                                                                \r"
     ]
    },
    {
     "name": "stdout",
     "output_type": "stream",
     "text": [
      "+------------+---------+--------------+-------------+----------------+--------------+-------------+----------------+--------------+--------------+-------+---------+-------+--------------+-----+---------+-----------------+--------------+-------+---------+-------+--------------+-----+---------+-----------------+--------------+-------+---------+-------+--------------+-----+---------+-----------------+-----------------------+\n",
      "|DEPARTAMENTO|MUNICIPIO|NUMERO_PREDIAL|ZONA_FISICA_1|ZONA_ECONOMICA_1|AREA_TERRENO_1|ZONA_FISICA_2|ZONA_ECONOMICA_2|AREA_TERRENO_2|HABITACIONES_1|BANOS_1|LOCALES_1|PISOS_1|TIPIFICACION_1|USO_1|PUNTAJE_1|AREA_CONSTRUIDA_1|HABITACIONES_2|BANOS_2|LOCALES_2|PISOS_2|TIPIFICACION_2|USO_2|PUNTAJE_2|AREA_CONSTRUIDA_2|HABITACIONES_3|BANOS_3|LOCALES_3|PISOS_3|TIPIFICACION_3|USO_3|PUNTAJE_3|AREA_CONSTRUIDA_3|NUMERO_PREDIAL_ANTERIOR|\n",
      "+------------+---------+--------------+-------------+----------------+--------------+-------------+----------------+--------------+--------------+-------+---------+-------+--------------+-----+---------+-----------------+--------------+-------+---------+-------+--------------+-----+---------+-----------------+--------------+-------+---------+-------+--------------+-----+---------+-----------------+-----------------------+\n",
      "+------------+---------+--------------+-------------+----------------+--------------+-------------+----------------+--------------+--------------+-------+---------+-------+--------------+-----+---------+-----------------+--------------+-------+---------+-------+--------------+-----+---------+-----------------+--------------+-------+---------+-------+--------------+-----+---------+-----------------+-----------------------+\n",
      "\n"
     ]
    }
   ],
   "execution_count": 24
  },
  {
   "metadata": {
    "ExecuteTime": {
     "end_time": "2024-09-21T22:32:41.634022Z",
     "start_time": "2024-09-21T22:32:41.044073Z"
    }
   },
   "cell_type": "code",
   "source": [
    "#cerrar la sesión de Spark\n",
    "spark.stop()"
   ],
   "id": "d45420ecc7353d6d",
   "outputs": [],
   "execution_count": 25
  },
  {
   "metadata": {},
   "cell_type": "code",
   "outputs": [],
   "execution_count": null,
   "source": "",
   "id": "ee89d4a99cd06be1"
  }
 ],
 "metadata": {
  "kernelspec": {
   "display_name": "Python 3",
   "language": "python",
   "name": "python3"
  },
  "language_info": {
   "codemirror_mode": {
    "name": "ipython",
    "version": 2
   },
   "file_extension": ".py",
   "mimetype": "text/x-python",
   "name": "python",
   "nbconvert_exporter": "python",
   "pygments_lexer": "ipython2",
   "version": "2.7.6"
  }
 },
 "nbformat": 4,
 "nbformat_minor": 5
}
