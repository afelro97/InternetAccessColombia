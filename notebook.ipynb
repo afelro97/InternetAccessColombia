{
 "cells": [
  {
   "cell_type": "code",
   "execution_count": 40,
   "id": "2905849fa1b16e7b",
   "metadata": {
    "ExecuteTime": {
     "end_time": "2024-09-17T23:20:34.952981Z",
     "start_time": "2024-09-17T23:20:34.948614Z"
    }
   },
   "outputs": [],
   "source": [
    "from pyspark.sql import SparkSession\n",
    "from pyspark.sql.functions import expr, col\n",
    "import pandas as pd"
   ]
  },
  {
   "cell_type": "code",
   "execution_count": 41,
   "id": "b31ed3cb7076d87a",
   "metadata": {
    "ExecuteTime": {
     "end_time": "2024-09-17T23:23:02.242483Z",
     "start_time": "2024-09-17T23:22:58.330682Z"
    }
   },
   "outputs": [],
   "source": [
    "spark = SparkSession.builder.appName(\"Internet_data\").getOrCreate()\n"
   ]
  },
  {
   "cell_type": "code",
   "execution_count": 42,
   "id": "646a07cb4d9887c6",
   "metadata": {},
   "outputs": [],
   "source": [
    "df = spark.read.option(\"header\", True) \\\n",
    "                .option(\"inferSchema\", True) \\\n",
    "                .csv(\"data/Internet_Fijo_Penetraci_n_Municipio.csv\")"
   ]
  },
  {
   "cell_type": "code",
   "execution_count": 43,
   "id": "755e5dc7",
   "metadata": {},
   "outputs": [
    {
     "name": "stdout",
     "output_type": "stream",
     "text": [
      "root\n",
      " |-- AÑO: integer (nullable = true)\n",
      " |-- TRIMESTRE: integer (nullable = true)\n",
      " |-- COD_DEPARTAMENTO: integer (nullable = true)\n",
      " |-- DEPARTAMENTO: string (nullable = true)\n",
      " |-- COD_MUNICIPIO: integer (nullable = true)\n",
      " |-- MUNICIPIO: string (nullable = true)\n",
      " |-- No. ACCESOS FIJOS A INTERNET: integer (nullable = true)\n",
      " |-- POBLACIÓN DANE: integer (nullable = true)\n",
      " |-- INDICE: string (nullable = true)\n",
      "\n"
     ]
    }
   ],
   "source": [
    "df.printSchema()"
   ]
  },
  {
   "cell_type": "code",
   "execution_count": 44,
   "id": "d45b61ba",
   "metadata": {},
   "outputs": [
    {
     "data": {
      "text/plain": [
       "['AÑO',\n",
       " 'TRIMESTRE',\n",
       " 'COD_DEPARTAMENTO',\n",
       " 'DEPARTAMENTO',\n",
       " 'COD_MUNICIPIO',\n",
       " 'MUNICIPIO',\n",
       " 'No. ACCESOS FIJOS A INTERNET',\n",
       " 'POBLACIÓN DANE',\n",
       " 'INDICE']"
      ]
     },
     "execution_count": 44,
     "metadata": {},
     "output_type": "execute_result"
    }
   ],
   "source": [
    "df.columns"
   ]
  },
  {
   "cell_type": "code",
   "execution_count": 45,
   "id": "f132c088",
   "metadata": {},
   "outputs": [],
   "source": [
    "# Renombrar columnas para evitar problemas con espacios y caracteres especiales\n",
    "df = df.withColumnRenamed('No. ACCESOS FIJOS A INTERNET', 'No_ACCESOS_FIJOS_A_INTERNET') \\\n",
    "       .withColumnRenamed('POBLACIÓN DANE', 'POBLACION_DANE')"
   ]
  },
  {
   "cell_type": "code",
   "execution_count": 46,
   "id": "55a9f6b8",
   "metadata": {},
   "outputs": [],
   "source": [
    "# Variables a contar (usando los nuevos nombres)\n",
    "variables = ['AÑO', 'TRIMESTRE', 'COD_DEPARTAMENTO', 'DEPARTAMENTO', 'COD_MUNICIPIO', 'MUNICIPIO', \n",
    "             'No_ACCESOS_FIJOS_A_INTERNET', 'POBLACION_DANE', 'INDICE']"
   ]
  },
  {
   "cell_type": "code",
   "execution_count": 47,
   "id": "a05793a8",
   "metadata": {},
   "outputs": [
    {
     "name": "stdout",
     "output_type": "stream",
     "text": [
      "Cantidad de registros únicos en AÑO: 4\n",
      "Cantidad de registros únicos en TRIMESTRE: 4\n",
      "Cantidad de registros únicos en COD_DEPARTAMENTO: 33\n",
      "Cantidad de registros únicos en DEPARTAMENTO: 33\n",
      "Cantidad de registros únicos en COD_MUNICIPIO: 1119\n",
      "Cantidad de registros únicos en MUNICIPIO: 1034\n",
      "Cantidad de registros únicos en No_ACCESOS_FIJOS_A_INTERNET: 4014\n",
      "Cantidad de registros únicos en POBLACION_DANE: 4216\n",
      "Cantidad de registros únicos en INDICE: 2196\n"
     ]
    }
   ],
   "source": [
    "# Contar registros por cada variable\n",
    "for variable in variables:\n",
    "    count = df.select(variable).distinct().count()\n",
    "    print(f\"Cantidad de registros únicos en {variable}: {count}\")"
   ]
  },
  {
   "cell_type": "code",
   "execution_count": 48,
   "id": "f1b8a6fd",
   "metadata": {},
   "outputs": [
    {
     "data": {
      "text/plain": [
       "13370"
      ]
     },
     "execution_count": 48,
     "metadata": {},
     "output_type": "execute_result"
    }
   ],
   "source": [
    "filas = df.count()\n",
    "filas"
   ]
  },
  {
   "cell_type": "code",
   "execution_count": 49,
   "id": "1a9f1b3f",
   "metadata": {},
   "outputs": [
    {
     "data": {
      "text/plain": [
       "[Row(AÑO=2019), Row(AÑO=2020), Row(AÑO=2021), Row(AÑO=2022)]"
      ]
     },
     "execution_count": 49,
     "metadata": {},
     "output_type": "execute_result"
    }
   ],
   "source": [
    "years = df.select('AÑO').distinct().orderBy('AÑO').collect()\n",
    "years"
   ]
  },
  {
   "cell_type": "code",
   "execution_count": 50,
   "id": "6e01f0ce",
   "metadata": {},
   "outputs": [],
   "source": [
    "df_regiones = pd.read_excel(\"data/subregiones.xls\")"
   ]
  },
  {
   "cell_type": "code",
   "execution_count": 51,
   "id": "90ac29eb",
   "metadata": {},
   "outputs": [
    {
     "data": {
      "text/html": [
       "<div>\n",
       "<style scoped>\n",
       "    .dataframe tbody tr th:only-of-type {\n",
       "        vertical-align: middle;\n",
       "    }\n",
       "\n",
       "    .dataframe tbody tr th {\n",
       "        vertical-align: top;\n",
       "    }\n",
       "\n",
       "    .dataframe thead th {\n",
       "        text-align: right;\n",
       "    }\n",
       "</style>\n",
       "<table border=\"1\" class=\"dataframe\">\n",
       "  <thead>\n",
       "    <tr style=\"text-align: right;\">\n",
       "      <th></th>\n",
       "      <th>NOMBRE_DEPTO</th>\n",
       "      <th>PROVINCIA</th>\n",
       "      <th>CODIGO_MUNICIPIO</th>\n",
       "      <th>NOMBRE_MPIO</th>\n",
       "      <th>Nombre</th>\n",
       "      <th>Total</th>\n",
       "    </tr>\n",
       "  </thead>\n",
       "  <tbody>\n",
       "    <tr>\n",
       "      <th>0</th>\n",
       "      <td>AMAZONAS</td>\n",
       "      <td>AMAZONAS</td>\n",
       "      <td>91263.0</td>\n",
       "      <td>EL ENCANTO</td>\n",
       "      <td>El Encanto</td>\n",
       "      <td>NaN</td>\n",
       "    </tr>\n",
       "    <tr>\n",
       "      <th>1</th>\n",
       "      <td>NaN</td>\n",
       "      <td>NaN</td>\n",
       "      <td>91405.0</td>\n",
       "      <td>LA CHORRERA</td>\n",
       "      <td>La Chorrera</td>\n",
       "      <td>NaN</td>\n",
       "    </tr>\n",
       "    <tr>\n",
       "      <th>2</th>\n",
       "      <td>NaN</td>\n",
       "      <td>NaN</td>\n",
       "      <td>91407.0</td>\n",
       "      <td>LA PEDRERA</td>\n",
       "      <td>La Pedrera</td>\n",
       "      <td>NaN</td>\n",
       "    </tr>\n",
       "    <tr>\n",
       "      <th>3</th>\n",
       "      <td>NaN</td>\n",
       "      <td>NaN</td>\n",
       "      <td>91430.0</td>\n",
       "      <td>LA VICTORIA</td>\n",
       "      <td>La Victoria</td>\n",
       "      <td>NaN</td>\n",
       "    </tr>\n",
       "    <tr>\n",
       "      <th>4</th>\n",
       "      <td>NaN</td>\n",
       "      <td>NaN</td>\n",
       "      <td>91001.0</td>\n",
       "      <td>LETICIA</td>\n",
       "      <td>Leticia</td>\n",
       "      <td>NaN</td>\n",
       "    </tr>\n",
       "    <tr>\n",
       "      <th>...</th>\n",
       "      <td>...</td>\n",
       "      <td>...</td>\n",
       "      <td>...</td>\n",
       "      <td>...</td>\n",
       "      <td>...</td>\n",
       "      <td>...</td>\n",
       "    </tr>\n",
       "    <tr>\n",
       "      <th>1148</th>\n",
       "      <td>NaN</td>\n",
       "      <td>NaN</td>\n",
       "      <td>99524.0</td>\n",
       "      <td>LA PRIMAVERA</td>\n",
       "      <td>La Primavera</td>\n",
       "      <td>NaN</td>\n",
       "    </tr>\n",
       "    <tr>\n",
       "      <th>1149</th>\n",
       "      <td>NaN</td>\n",
       "      <td>NaN</td>\n",
       "      <td>99001.0</td>\n",
       "      <td>PUERTO CARREÑO</td>\n",
       "      <td>Puerto Carreño</td>\n",
       "      <td>NaN</td>\n",
       "    </tr>\n",
       "    <tr>\n",
       "      <th>1150</th>\n",
       "      <td>NaN</td>\n",
       "      <td>NaN</td>\n",
       "      <td>99624.0</td>\n",
       "      <td>SANTA ROSALÍA</td>\n",
       "      <td>Santa Rosalía</td>\n",
       "      <td>NaN</td>\n",
       "    </tr>\n",
       "    <tr>\n",
       "      <th>1151</th>\n",
       "      <td>Total VICHADA</td>\n",
       "      <td>NaN</td>\n",
       "      <td>NaN</td>\n",
       "      <td>NaN</td>\n",
       "      <td>NaN</td>\n",
       "      <td>4.0</td>\n",
       "    </tr>\n",
       "    <tr>\n",
       "      <th>1152</th>\n",
       "      <td>Total general</td>\n",
       "      <td>NaN</td>\n",
       "      <td>NaN</td>\n",
       "      <td>NaN</td>\n",
       "      <td>NaN</td>\n",
       "      <td>1119.0</td>\n",
       "    </tr>\n",
       "  </tbody>\n",
       "</table>\n",
       "<p>1153 rows × 6 columns</p>\n",
       "</div>"
      ],
      "text/plain": [
       "       NOMBRE_DEPTO PROVINCIA  CODIGO_MUNICIPIO     NOMBRE_MPIO  \\\n",
       "0          AMAZONAS  AMAZONAS           91263.0      EL ENCANTO   \n",
       "1               NaN       NaN           91405.0     LA CHORRERA   \n",
       "2               NaN       NaN           91407.0      LA PEDRERA   \n",
       "3               NaN       NaN           91430.0     LA VICTORIA   \n",
       "4               NaN       NaN           91001.0         LETICIA   \n",
       "...             ...       ...               ...             ...   \n",
       "1148            NaN       NaN           99524.0    LA PRIMAVERA   \n",
       "1149            NaN       NaN           99001.0  PUERTO CARREÑO   \n",
       "1150            NaN       NaN           99624.0   SANTA ROSALÍA   \n",
       "1151  Total VICHADA       NaN               NaN             NaN   \n",
       "1152  Total general       NaN               NaN             NaN   \n",
       "\n",
       "              Nombre   Total  \n",
       "0         El Encanto     NaN  \n",
       "1        La Chorrera     NaN  \n",
       "2         La Pedrera     NaN  \n",
       "3        La Victoria     NaN  \n",
       "4            Leticia     NaN  \n",
       "...              ...     ...  \n",
       "1148    La Primavera     NaN  \n",
       "1149  Puerto Carreño     NaN  \n",
       "1150   Santa Rosalía     NaN  \n",
       "1151             NaN     4.0  \n",
       "1152             NaN  1119.0  \n",
       "\n",
       "[1153 rows x 6 columns]"
      ]
     },
     "execution_count": 51,
     "metadata": {},
     "output_type": "execute_result"
    }
   ],
   "source": [
    "df_regiones"
   ]
  },
  {
   "cell_type": "code",
   "execution_count": 52,
   "id": "badd3e58",
   "metadata": {},
   "outputs": [
    {
     "name": "stderr",
     "output_type": "stream",
     "text": [
      "/tmp/ipykernel_25875/3452811582.py:4: FutureWarning: Series.fillna with 'method' is deprecated and will raise in a future version. Use obj.ffill() or obj.bfill() instead.\n",
      "  df_regiones['NOMBRE_DEPTO'] = df_regiones['NOMBRE_DEPTO'].fillna(method='ffill')\n",
      "/tmp/ipykernel_25875/3452811582.py:4: SettingWithCopyWarning: \n",
      "A value is trying to be set on a copy of a slice from a DataFrame.\n",
      "Try using .loc[row_indexer,col_indexer] = value instead\n",
      "\n",
      "See the caveats in the documentation: https://pandas.pydata.org/pandas-docs/stable/user_guide/indexing.html#returning-a-view-versus-a-copy\n",
      "  df_regiones['NOMBRE_DEPTO'] = df_regiones['NOMBRE_DEPTO'].fillna(method='ffill')\n",
      "/tmp/ipykernel_25875/3452811582.py:5: FutureWarning: Series.fillna with 'method' is deprecated and will raise in a future version. Use obj.ffill() or obj.bfill() instead.\n",
      "  df_regiones['PROVINCIA'] = df_regiones['PROVINCIA'].fillna(method='ffill')\n",
      "/tmp/ipykernel_25875/3452811582.py:5: SettingWithCopyWarning: \n",
      "A value is trying to be set on a copy of a slice from a DataFrame.\n",
      "Try using .loc[row_indexer,col_indexer] = value instead\n",
      "\n",
      "See the caveats in the documentation: https://pandas.pydata.org/pandas-docs/stable/user_guide/indexing.html#returning-a-view-versus-a-copy\n",
      "  df_regiones['PROVINCIA'] = df_regiones['PROVINCIA'].fillna(method='ffill')\n"
     ]
    }
   ],
   "source": [
    "# Eliminar filas que contengan 'Total' en la columna 'NOMBRE_DEPTO'\n",
    "df_regiones = df_regiones[~df_regiones['NOMBRE_DEPTO'].str.contains(\"Total\", na=False)]\n",
    "# Rellenar los valores faltantes en 'NOMBRE_DEPTO' y 'PROVINCIA' con los valores anteriores\n",
    "df_regiones['NOMBRE_DEPTO'] = df_regiones['NOMBRE_DEPTO'].fillna(method='ffill')\n",
    "df_regiones['PROVINCIA'] = df_regiones['PROVINCIA'].fillna(method='ffill')\n",
    "# Eliminar la columna 'Total' si no es necesaria\n",
    "df_regiones = df_regiones.drop(columns=['Total'])\n"
   ]
  },
  {
   "cell_type": "code",
   "execution_count": 53,
   "id": "d40b8e08",
   "metadata": {},
   "outputs": [
    {
     "data": {
      "text/html": [
       "<div>\n",
       "<style scoped>\n",
       "    .dataframe tbody tr th:only-of-type {\n",
       "        vertical-align: middle;\n",
       "    }\n",
       "\n",
       "    .dataframe tbody tr th {\n",
       "        vertical-align: top;\n",
       "    }\n",
       "\n",
       "    .dataframe thead th {\n",
       "        text-align: right;\n",
       "    }\n",
       "</style>\n",
       "<table border=\"1\" class=\"dataframe\">\n",
       "  <thead>\n",
       "    <tr style=\"text-align: right;\">\n",
       "      <th></th>\n",
       "      <th>NOMBRE_DEPTO</th>\n",
       "      <th>PROVINCIA</th>\n",
       "      <th>CODIGO_MUNICIPIO</th>\n",
       "      <th>NOMBRE_MPIO</th>\n",
       "      <th>Nombre</th>\n",
       "    </tr>\n",
       "  </thead>\n",
       "  <tbody>\n",
       "    <tr>\n",
       "      <th>0</th>\n",
       "      <td>AMAZONAS</td>\n",
       "      <td>AMAZONAS</td>\n",
       "      <td>91263.0</td>\n",
       "      <td>EL ENCANTO</td>\n",
       "      <td>El Encanto</td>\n",
       "    </tr>\n",
       "    <tr>\n",
       "      <th>1</th>\n",
       "      <td>AMAZONAS</td>\n",
       "      <td>AMAZONAS</td>\n",
       "      <td>91405.0</td>\n",
       "      <td>LA CHORRERA</td>\n",
       "      <td>La Chorrera</td>\n",
       "    </tr>\n",
       "    <tr>\n",
       "      <th>2</th>\n",
       "      <td>AMAZONAS</td>\n",
       "      <td>AMAZONAS</td>\n",
       "      <td>91407.0</td>\n",
       "      <td>LA PEDRERA</td>\n",
       "      <td>La Pedrera</td>\n",
       "    </tr>\n",
       "    <tr>\n",
       "      <th>3</th>\n",
       "      <td>AMAZONAS</td>\n",
       "      <td>AMAZONAS</td>\n",
       "      <td>91430.0</td>\n",
       "      <td>LA VICTORIA</td>\n",
       "      <td>La Victoria</td>\n",
       "    </tr>\n",
       "    <tr>\n",
       "      <th>4</th>\n",
       "      <td>AMAZONAS</td>\n",
       "      <td>AMAZONAS</td>\n",
       "      <td>91001.0</td>\n",
       "      <td>LETICIA</td>\n",
       "      <td>Leticia</td>\n",
       "    </tr>\n",
       "    <tr>\n",
       "      <th>...</th>\n",
       "      <td>...</td>\n",
       "      <td>...</td>\n",
       "      <td>...</td>\n",
       "      <td>...</td>\n",
       "      <td>...</td>\n",
       "    </tr>\n",
       "    <tr>\n",
       "      <th>1145</th>\n",
       "      <td>VAUPES</td>\n",
       "      <td>VAUPES</td>\n",
       "      <td>97889.0</td>\n",
       "      <td>YAVARATÉ</td>\n",
       "      <td>Yavaraté</td>\n",
       "    </tr>\n",
       "    <tr>\n",
       "      <th>1147</th>\n",
       "      <td>VICHADA</td>\n",
       "      <td>VICHADA</td>\n",
       "      <td>99773.0</td>\n",
       "      <td>CUMARIBO</td>\n",
       "      <td>Cumaribo</td>\n",
       "    </tr>\n",
       "    <tr>\n",
       "      <th>1148</th>\n",
       "      <td>VICHADA</td>\n",
       "      <td>VICHADA</td>\n",
       "      <td>99524.0</td>\n",
       "      <td>LA PRIMAVERA</td>\n",
       "      <td>La Primavera</td>\n",
       "    </tr>\n",
       "    <tr>\n",
       "      <th>1149</th>\n",
       "      <td>VICHADA</td>\n",
       "      <td>VICHADA</td>\n",
       "      <td>99001.0</td>\n",
       "      <td>PUERTO CARREÑO</td>\n",
       "      <td>Puerto Carreño</td>\n",
       "    </tr>\n",
       "    <tr>\n",
       "      <th>1150</th>\n",
       "      <td>VICHADA</td>\n",
       "      <td>VICHADA</td>\n",
       "      <td>99624.0</td>\n",
       "      <td>SANTA ROSALÍA</td>\n",
       "      <td>Santa Rosalía</td>\n",
       "    </tr>\n",
       "  </tbody>\n",
       "</table>\n",
       "<p>1119 rows × 5 columns</p>\n",
       "</div>"
      ],
      "text/plain": [
       "     NOMBRE_DEPTO PROVINCIA  CODIGO_MUNICIPIO     NOMBRE_MPIO          Nombre\n",
       "0        AMAZONAS  AMAZONAS           91263.0      EL ENCANTO      El Encanto\n",
       "1        AMAZONAS  AMAZONAS           91405.0     LA CHORRERA     La Chorrera\n",
       "2        AMAZONAS  AMAZONAS           91407.0      LA PEDRERA      La Pedrera\n",
       "3        AMAZONAS  AMAZONAS           91430.0     LA VICTORIA     La Victoria\n",
       "4        AMAZONAS  AMAZONAS           91001.0         LETICIA         Leticia\n",
       "...           ...       ...               ...             ...             ...\n",
       "1145       VAUPES    VAUPES           97889.0        YAVARATÉ        Yavaraté\n",
       "1147      VICHADA   VICHADA           99773.0        CUMARIBO        Cumaribo\n",
       "1148      VICHADA   VICHADA           99524.0    LA PRIMAVERA    La Primavera\n",
       "1149      VICHADA   VICHADA           99001.0  PUERTO CARREÑO  Puerto Carreño\n",
       "1150      VICHADA   VICHADA           99624.0   SANTA ROSALÍA   Santa Rosalía\n",
       "\n",
       "[1119 rows x 5 columns]"
      ]
     },
     "execution_count": 53,
     "metadata": {},
     "output_type": "execute_result"
    }
   ],
   "source": [
    "df_regiones"
   ]
  },
  {
   "cell_type": "code",
   "execution_count": 54,
   "id": "2372275e",
   "metadata": {},
   "outputs": [],
   "source": [
    "df_regiones.to_csv(\"data/subregiones.csv\", index=False)"
   ]
  },
  {
   "cell_type": "code",
   "execution_count": null,
   "id": "95705e58",
   "metadata": {},
   "outputs": [],
   "source": []
  }
 ],
 "metadata": {
  "kernelspec": {
   "display_name": "Python 3 (ipykernel)",
   "language": "python",
   "name": "python3"
  },
  "language_info": {
   "codemirror_mode": {
    "name": "ipython",
    "version": 3
   },
   "file_extension": ".py",
   "mimetype": "text/x-python",
   "name": "python",
   "nbconvert_exporter": "python",
   "pygments_lexer": "ipython3",
   "version": "3.10.12"
  }
 },
 "nbformat": 4,
 "nbformat_minor": 5
}
