{
 "cells": [
  {
   "cell_type": "code",
   "execution_count": null,
   "id": "2905849fa1b16e7b",
   "metadata": {
    "jupyter": {
     "is_executing": true
    }
   },
   "outputs": [],
   "source": [
    "from pyspark.sql import SparkSession\n",
    "from pyspark.sql.functions import expr, col\n",
    "import pandas as pd"
   ]
  },
  {
   "cell_type": "code",
   "execution_count": 41,
   "id": "b31ed3cb7076d87a",
   "metadata": {
    "ExecuteTime": {
     "end_time": "2024-09-17T23:23:02.242483Z",
     "start_time": "2024-09-17T23:22:58.330682Z"
    }
   },
   "outputs": [],
   "source": [
    "spark = SparkSession.builder.appName(\"Internet_data\").getOrCreate()\n"
   ]
  },
  {
   "cell_type": "code",
   "execution_count": 42,
   "id": "646a07cb4d9887c6",
   "metadata": {},
   "outputs": [],
   "source": [
    "df = spark.read.option(\"header\", True) \\\n",
    "                .option(\"inferSchema\", True) \\\n",
    "                .csv(\"data/Internet_Fijo_Penetraci_n_Municipio.csv\")"
   ]
  },
  {
   "cell_type": "code",
   "execution_count": 43,
   "id": "755e5dc7",
   "metadata": {},
   "outputs": [],
   "source": [
    "df.printSchema()"
   ]
  },
  {
   "cell_type": "code",
   "execution_count": 44,
   "id": "d45b61ba",
   "metadata": {},
   "outputs": [],
   "source": [
    "df.columns"
   ]
  },
  {
   "cell_type": "code",
   "execution_count": 45,
   "id": "f132c088",
   "metadata": {},
   "outputs": [],
   "source": [
    "# Renombrar columnas para evitar problemas con espacios y caracteres especiales\n",
    "df = df.withColumnRenamed('No. ACCESOS FIJOS A INTERNET', 'No_ACCESOS_FIJOS_A_INTERNET') \\\n",
    "       .withColumnRenamed('POBLACIÓN DANE', 'POBLACION_DANE')"
   ]
  },
  {
   "cell_type": "code",
   "execution_count": 46,
   "id": "55a9f6b8",
   "metadata": {},
   "outputs": [],
   "source": [
    "# Variables a contar (usando los nuevos nombres)\n",
    "variables = ['AÑO', 'TRIMESTRE', 'COD_DEPARTAMENTO', 'DEPARTAMENTO', 'COD_MUNICIPIO', 'MUNICIPIO', \n",
    "             'No_ACCESOS_FIJOS_A_INTERNET', 'POBLACION_DANE', 'INDICE']"
   ]
  },
  {
   "cell_type": "code",
   "execution_count": 47,
   "id": "a05793a8",
   "metadata": {},
   "outputs": [],
   "source": [
    "# Contar registros por cada variable\n",
    "for variable in variables:\n",
    "    count = df.select(variable).distinct().count()\n",
    "    print(f\"Cantidad de registros únicos en {variable}: {count}\")"
   ]
  },
  {
   "cell_type": "code",
   "execution_count": 48,
   "id": "f1b8a6fd",
   "metadata": {},
   "outputs": [],
   "source": [
    "filas = df.count()\n",
    "filas"
   ]
  },
  {
   "cell_type": "code",
   "execution_count": 49,
   "id": "1a9f1b3f",
   "metadata": {},
   "outputs": [],
   "source": [
    "years = df.select('AÑO').distinct().orderBy('AÑO').collect()\n",
    "years"
   ]
  },
  {
   "cell_type": "code",
   "execution_count": 50,
   "id": "6e01f0ce",
   "metadata": {},
   "outputs": [],
   "source": [
    "df_regiones = pd.read_excel(\"data/subregiones.xls\")"
   ]
  },
  {
   "cell_type": "code",
   "execution_count": 51,
   "id": "90ac29eb",
   "metadata": {},
   "outputs": [],
   "source": [
    "df_regiones"
   ]
  },
  {
   "cell_type": "code",
   "execution_count": 52,
   "id": "badd3e58",
   "metadata": {},
   "outputs": [],
   "source": [
    "# Eliminar filas que contengan 'Total' en la columna 'NOMBRE_DEPTO'\n",
    "df_regiones = df_regiones[~df_regiones['NOMBRE_DEPTO'].str.contains(\"Total\", na=False)]\n",
    "# Rellenar los valores faltantes en 'NOMBRE_DEPTO' y 'PROVINCIA' con los valores anteriores\n",
    "df_regiones['NOMBRE_DEPTO'] = df_regiones['NOMBRE_DEPTO'].fillna(method='ffill')\n",
    "df_regiones['PROVINCIA'] = df_regiones['PROVINCIA'].fillna(method='ffill')\n",
    "# Eliminar la columna 'Total' si no es necesaria\n",
    "df_regiones = df_regiones.drop(columns=['Total'])\n"
   ]
  },
  {
   "cell_type": "code",
   "execution_count": 53,
   "id": "d40b8e08",
   "metadata": {},
   "outputs": [
    {
     "data": {
      "text/html": [
       "<div>\n",
       "<style scoped>\n",
       "    .dataframe tbody tr th:only-of-type {\n",
       "        vertical-align: middle;\n",
       "    }\n",
       "\n",
       "    .dataframe tbody tr th {\n",
       "        vertical-align: top;\n",
       "    }\n",
       "\n",
       "    .dataframe thead th {\n",
       "        text-align: right;\n",
       "    }\n",
       "</style>\n",
       "<table border=\"1\" class=\"dataframe\">\n",
       "  <thead>\n",
       "    <tr style=\"text-align: right;\">\n",
       "      <th></th>\n",
       "      <th>NOMBRE_DEPTO</th>\n",
       "      <th>PROVINCIA</th>\n",
       "      <th>CODIGO_MUNICIPIO</th>\n",
       "      <th>NOMBRE_MPIO</th>\n",
       "      <th>Nombre</th>\n",
       "    </tr>\n",
       "  </thead>\n",
       "  <tbody>\n",
       "    <tr>\n",
       "      <th>0</th>\n",
       "      <td>AMAZONAS</td>\n",
       "      <td>AMAZONAS</td>\n",
       "      <td>91263.0</td>\n",
       "      <td>EL ENCANTO</td>\n",
       "      <td>El Encanto</td>\n",
       "    </tr>\n",
       "    <tr>\n",
       "      <th>1</th>\n",
       "      <td>AMAZONAS</td>\n",
       "      <td>AMAZONAS</td>\n",
       "      <td>91405.0</td>\n",
       "      <td>LA CHORRERA</td>\n",
       "      <td>La Chorrera</td>\n",
       "    </tr>\n",
       "    <tr>\n",
       "      <th>2</th>\n",
       "      <td>AMAZONAS</td>\n",
       "      <td>AMAZONAS</td>\n",
       "      <td>91407.0</td>\n",
       "      <td>LA PEDRERA</td>\n",
       "      <td>La Pedrera</td>\n",
       "    </tr>\n",
       "    <tr>\n",
       "      <th>3</th>\n",
       "      <td>AMAZONAS</td>\n",
       "      <td>AMAZONAS</td>\n",
       "      <td>91430.0</td>\n",
       "      <td>LA VICTORIA</td>\n",
       "      <td>La Victoria</td>\n",
       "    </tr>\n",
       "    <tr>\n",
       "      <th>4</th>\n",
       "      <td>AMAZONAS</td>\n",
       "      <td>AMAZONAS</td>\n",
       "      <td>91001.0</td>\n",
       "      <td>LETICIA</td>\n",
       "      <td>Leticia</td>\n",
       "    </tr>\n",
       "    <tr>\n",
       "      <th>...</th>\n",
       "      <td>...</td>\n",
       "      <td>...</td>\n",
       "      <td>...</td>\n",
       "      <td>...</td>\n",
       "      <td>...</td>\n",
       "    </tr>\n",
       "    <tr>\n",
       "      <th>1145</th>\n",
       "      <td>VAUPES</td>\n",
       "      <td>VAUPES</td>\n",
       "      <td>97889.0</td>\n",
       "      <td>YAVARATÉ</td>\n",
       "      <td>Yavaraté</td>\n",
       "    </tr>\n",
       "    <tr>\n",
       "      <th>1147</th>\n",
       "      <td>VICHADA</td>\n",
       "      <td>VICHADA</td>\n",
       "      <td>99773.0</td>\n",
       "      <td>CUMARIBO</td>\n",
       "      <td>Cumaribo</td>\n",
       "    </tr>\n",
       "    <tr>\n",
       "      <th>1148</th>\n",
       "      <td>VICHADA</td>\n",
       "      <td>VICHADA</td>\n",
       "      <td>99524.0</td>\n",
       "      <td>LA PRIMAVERA</td>\n",
       "      <td>La Primavera</td>\n",
       "    </tr>\n",
       "    <tr>\n",
       "      <th>1149</th>\n",
       "      <td>VICHADA</td>\n",
       "      <td>VICHADA</td>\n",
       "      <td>99001.0</td>\n",
       "      <td>PUERTO CARREÑO</td>\n",
       "      <td>Puerto Carreño</td>\n",
       "    </tr>\n",
       "    <tr>\n",
       "      <th>1150</th>\n",
       "      <td>VICHADA</td>\n",
       "      <td>VICHADA</td>\n",
       "      <td>99624.0</td>\n",
       "      <td>SANTA ROSALÍA</td>\n",
       "      <td>Santa Rosalía</td>\n",
       "    </tr>\n",
       "  </tbody>\n",
       "</table>\n",
       "<p>1119 rows × 5 columns</p>\n",
       "</div>"
      ],
      "text/plain": [
       "     NOMBRE_DEPTO PROVINCIA  CODIGO_MUNICIPIO     NOMBRE_MPIO          Nombre\n",
       "0        AMAZONAS  AMAZONAS           91263.0      EL ENCANTO      El Encanto\n",
       "1        AMAZONAS  AMAZONAS           91405.0     LA CHORRERA     La Chorrera\n",
       "2        AMAZONAS  AMAZONAS           91407.0      LA PEDRERA      La Pedrera\n",
       "3        AMAZONAS  AMAZONAS           91430.0     LA VICTORIA     La Victoria\n",
       "4        AMAZONAS  AMAZONAS           91001.0         LETICIA         Leticia\n",
       "...           ...       ...               ...             ...             ...\n",
       "1145       VAUPES    VAUPES           97889.0        YAVARATÉ        Yavaraté\n",
       "1147      VICHADA   VICHADA           99773.0        CUMARIBO        Cumaribo\n",
       "1148      VICHADA   VICHADA           99524.0    LA PRIMAVERA    La Primavera\n",
       "1149      VICHADA   VICHADA           99001.0  PUERTO CARREÑO  Puerto Carreño\n",
       "1150      VICHADA   VICHADA           99624.0   SANTA ROSALÍA   Santa Rosalía\n",
       "\n",
       "[1119 rows x 5 columns]"
      ]
     },
     "execution_count": 53,
     "metadata": {},
     "output_type": "execute_result"
    }
   ],
   "source": [
    "df_regiones"
   ]
  },
  {
   "cell_type": "code",
   "execution_count": 54,
   "id": "2372275e",
   "metadata": {},
   "outputs": [],
   "source": [
    "df_regiones.to_csv(\"data/subregiones.csv\", index=False)"
   ]
  },
  {
   "cell_type": "code",
   "execution_count": 1,
   "id": "95705e58",
   "metadata": {},
   "outputs": [
    {
     "name": "stdout",
     "output_type": "stream",
     "text": [
      "anyio==4.4.0\n",
      "argon2-cffi==23.1.0\n",
      "argon2-cffi-bindings==21.2.0\n",
      "arrow==1.3.0\n",
      "asttokens==2.4.1\n",
      "async-lru==2.0.4\n",
      "attrs==24.2.0\n",
      "babel==2.16.0\n",
      "beautifulsoup4==4.12.3\n",
      "bleach==6.1.0\n",
      "certifi==2024.8.30\n",
      "cffi==1.17.1\n",
      "charset-normalizer==3.3.2\n",
      "comm==0.2.2\n",
      "debugpy==1.8.5\n",
      "decorator==5.1.1\n",
      "defusedxml==0.7.1\n",
      "exceptiongroup==1.2.2\n",
      "executing==2.1.0\n",
      "fastjsonschema==2.20.0\n",
      "fqdn==1.5.1\n",
      "h11==0.14.0\n",
      "httpcore==1.0.5\n",
      "httpx==0.27.2\n",
      "idna==3.10\n",
      "ipykernel==6.29.5\n",
      "ipython==8.27.0\n",
      "ipywidgets==8.1.5\n",
      "isoduration==20.11.0\n",
      "jedi==0.19.1\n",
      "Jinja2==3.1.4\n",
      "json5==0.9.25\n",
      "jsonpointer==3.0.0\n",
      "jsonschema==4.23.0\n",
      "jsonschema-specifications==2023.12.1\n",
      "jupyter==1.1.1\n",
      "jupyter-console==6.6.3\n",
      "jupyter-events==0.10.0\n",
      "jupyter-lsp==2.2.5\n",
      "jupyter_client==8.6.3\n",
      "jupyter_core==5.7.2\n",
      "jupyter_server==2.14.2\n",
      "jupyter_server_terminals==0.5.3\n",
      "jupyterlab==4.2.5\n",
      "jupyterlab_pygments==0.3.0\n",
      "jupyterlab_server==2.27.3\n",
      "jupyterlab_widgets==3.0.13\n",
      "MarkupSafe==2.1.5\n",
      "matplotlib-inline==0.1.7\n",
      "mistune==3.0.2\n",
      "nbclient==0.10.0\n",
      "nbconvert==7.16.4\n",
      "nbformat==5.10.4\n",
      "nest-asyncio==1.6.0\n",
      "notebook==7.2.2\n",
      "notebook_shim==0.2.4\n",
      "numpy==2.1.1\n",
      "overrides==7.7.0\n",
      "packaging==24.1\n",
      "pandas==2.2.2\n",
      "pandocfilters==1.5.1\n",
      "parso==0.8.4\n",
      "pexpect==4.9.0\n",
      "platformdirs==4.3.6\n",
      "prometheus_client==0.20.0\n",
      "prompt_toolkit==3.0.47\n",
      "psutil==6.0.0\n",
      "ptyprocess==0.7.0\n",
      "pure_eval==0.2.3\n",
      "py4j==0.10.9.7\n",
      "pycparser==2.22\n",
      "Pygments==2.18.0\n",
      "pyspark==3.5.2\n",
      "pyspark-stubs==3.0.0.post3\n",
      "python-dateutil==2.9.0.post0\n",
      "python-json-logger==2.0.7\n",
      "pytz==2024.2\n",
      "PyYAML==6.0.2\n",
      "pyzmq==26.2.0\n",
      "referencing==0.35.1\n",
      "requests==2.32.3\n",
      "rfc3339-validator==0.1.4\n",
      "rfc3986-validator==0.1.1\n",
      "rpds-py==0.20.0\n",
      "Send2Trash==1.8.3\n",
      "six==1.16.0\n",
      "sniffio==1.3.1\n",
      "soupsieve==2.6\n",
      "stack-data==0.6.3\n",
      "terminado==0.18.1\n",
      "tinycss2==1.3.0\n",
      "tomli==2.0.1\n",
      "tornado==6.4.1\n",
      "traitlets==5.14.3\n",
      "types-python-dateutil==2.9.0.20240906\n",
      "typing_extensions==4.12.2\n",
      "tzdata==2024.1\n",
      "uri-template==1.3.0\n",
      "urllib3==2.2.3\n",
      "wcwidth==0.2.13\n",
      "webcolors==24.8.0\n",
      "webencodings==0.5.1\n",
      "websocket-client==1.8.0\n",
      "widgetsnbextension==4.0.13\n",
      "xlrd==2.0.1\n"
     ]
    }
   ],
   "source": [
    "!pip freeze requirements.txt"
   ]
  },
  {
   "cell_type": "code",
   "execution_count": null,
   "id": "9ab7782aa4320449",
   "metadata": {},
   "outputs": [],
   "source": []
  }
 ],
 "metadata": {
  "kernelspec": {
   "display_name": "Python 3 (ipykernel)",
   "language": "python",
   "name": "python3"
  },
  "language_info": {
   "codemirror_mode": {
    "name": "ipython",
    "version": 3
   },
   "file_extension": ".py",
   "mimetype": "text/x-python",
   "name": "python",
   "nbconvert_exporter": "python",
   "pygments_lexer": "ipython3",
   "version": "3.10.12"
  }
 },
 "nbformat": 4,
 "nbformat_minor": 5
}
