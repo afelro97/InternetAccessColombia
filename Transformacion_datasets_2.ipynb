{
 "cells": [
  {
   "cell_type": "code",
   "id": "initial_id",
   "metadata": {
    "collapsed": true,
    "ExecuteTime": {
     "end_time": "2024-09-21T20:13:29.852855Z",
     "start_time": "2024-09-21T20:13:29.846280Z"
    }
   },
   "source": [
    "from pyspark.sql import functions as F\n",
    "from pyspark.sql import SparkSession"
   ],
   "outputs": [],
   "execution_count": 99
  },
  {
   "metadata": {
    "ExecuteTime": {
     "end_time": "2024-09-21T20:13:30.441538Z",
     "start_time": "2024-09-21T20:13:30.420247Z"
    }
   },
   "cell_type": "code",
   "source": [
    "# 1. Iniciar sesión de Sparkw\n",
    "spark = SparkSession.builder.appName(\"ClasificacionUrbanoRural\").getOrCreate()"
   ],
   "id": "1a71e5df54cf2ed2",
   "outputs": [],
   "execution_count": 100
  },
  {
   "metadata": {
    "ExecuteTime": {
     "end_time": "2024-09-21T20:13:40.507899Z",
     "start_time": "2024-09-21T20:13:39.559903Z"
    }
   },
   "cell_type": "code",
   "source": [
    "# 2. Cargar el dataset de población y acceso a internet\n",
    "df_poblacion = spark.read.csv('data/Internet_Fijo_Penetraci_n_Municipio.csv', header=True, inferSchema=True, encoding='UTF-8')"
   ],
   "id": "da4b0fdb569f38c4",
   "outputs": [],
   "execution_count": 102
  },
  {
   "metadata": {
    "ExecuteTime": {
     "end_time": "2024-09-21T20:13:50.989645Z",
     "start_time": "2024-09-21T20:13:44.832276Z"
    }
   },
   "cell_type": "code",
   "source": [
    "# 3. Cargar los datasets de áreas de terreno (por departamentos)\n",
    "df_areas_municipio = spark.read.csv('data/deptos/*.csv', header=True, inferSchema=True, encoding='UTF-8')"
   ],
   "id": "32fd65c74ab78a1b",
   "outputs": [
    {
     "name": "stderr",
     "output_type": "stream",
     "text": [
      "                                                                                \r"
     ]
    }
   ],
   "execution_count": 103
  },
  {
   "metadata": {
    "ExecuteTime": {
     "end_time": "2024-09-21T20:15:02.478302Z",
     "start_time": "2024-09-21T20:15:02.379414Z"
    }
   },
   "cell_type": "code",
   "source": [
    "# 4. Convertir los códigos de municipio y departamento a string para hacer coincidir los formatos\n",
    "df_poblacion = df_poblacion.withColumn('COD_MUNICIPIO', F.col('COD_MUNICIPIO').cast('string')) \\\n",
    "    .withColumn('COD_DEPARTAMENTO', F.col('COD_DEPARTAMENTO').cast('string'))\n",
    "\n",
    "df_areas_municipio = df_areas_municipio.withColumn('MUNICIPIO', F.col('MUNICIPIO').cast('string')) \\\n",
    "    .withColumn('DEPARTAMENTO', F.col('DEPARTAMENTO').cast('string'))"
   ],
   "id": "677ed1a7369b16f6",
   "outputs": [],
   "execution_count": 104
  },
  {
   "metadata": {
    "ExecuteTime": {
     "end_time": "2024-09-21T20:15:09.835537Z",
     "start_time": "2024-09-21T20:15:09.792193Z"
    }
   },
   "cell_type": "code",
   "source": [
    "# 5. Sumar las áreas por municipio (usando MUNICIPIO)\n",
    "df_areas_municipio = df_areas_municipio.groupBy('DEPARTAMENTO', 'MUNICIPIO').agg(F.sum('AREA_TERRENO').alias('AREA_TOTAL_KM2'))\n"
   ],
   "id": "2fba1a0bcb66fc8d",
   "outputs": [],
   "execution_count": 105
  },
  {
   "metadata": {
    "ExecuteTime": {
     "end_time": "2024-09-21T20:15:15.166682Z",
     "start_time": "2024-09-21T20:15:15.139909Z"
    }
   },
   "cell_type": "code",
   "source": [
    "# 6. Realizar el LEFT JOIN utilizando COD_MUNICIPIO de df_poblacion y MUNICIPIO de df_areas_municipio\n",
    "df_completo = df_poblacion.join(df_areas_municipio, df_poblacion['COD_MUNICIPIO'] == df_areas_municipio['MUNICIPIO'], how='left')\n"
   ],
   "id": "b52dabdbd284f1f5",
   "outputs": [],
   "execution_count": 106
  },
  {
   "metadata": {
    "ExecuteTime": {
     "end_time": "2024-09-21T20:15:19.232726Z",
     "start_time": "2024-09-21T20:15:19.199691Z"
    }
   },
   "cell_type": "code",
   "source": [
    "# 7. Eliminar las columnas `DEPARTAMENTO` y `MUNICIPIO` duplicadas de df_areas_municipio\n",
    "df_completo = df_completo.drop(df_areas_municipio['DEPARTAMENTO']).drop(df_areas_municipio['MUNICIPIO'])\n"
   ],
   "id": "abcfc5ded0b40065",
   "outputs": [],
   "execution_count": 107
  },
  {
   "metadata": {
    "ExecuteTime": {
     "end_time": "2024-09-21T20:15:29.996994Z",
     "start_time": "2024-09-21T20:15:24.891390Z"
    }
   },
   "cell_type": "code",
   "source": [
    "# 8. Verificar si el área total (AREA_TOTAL_KM2) sigue teniendo valores nulos\n",
    "df_completo.filter(F.col('AREA_TOTAL_KM2').isNull()).show()\n"
   ],
   "id": "8b294ef736ab5fed",
   "outputs": [
    {
     "name": "stderr",
     "output_type": "stream",
     "text": [
      "[Stage 323:============================================>            (7 + 2) / 9]\r"
     ]
    },
    {
     "name": "stdout",
     "output_type": "stream",
     "text": [
      "+----+---------+----------------+------------+-------------+-------------+----------------------------+--------------+------+--------------+\n",
      "| AÑO|TRIMESTRE|COD_DEPARTAMENTO|DEPARTAMENTO|COD_MUNICIPIO|    MUNICIPIO|No. ACCESOS FIJOS A INTERNET|POBLACIÓN DANE|INDICE|AREA_TOTAL_KM2|\n",
      "+----+---------+----------------+------------+-------------+-------------+----------------------------+--------------+------+--------------+\n",
      "|2021|        4|               8|   ATLANTICO|         8433|      MALAMBO|                       13293|        142095|0,0936|          NULL|\n",
      "|2022|        1|               8|   ATLANTICO|         8433|      MALAMBO|                       13299|        143781|0,0925|          NULL|\n",
      "|2021|        1|               8|   ATLANTICO|         8433|      MALAMBO|                       12614|        142095|0,0888|          NULL|\n",
      "|2022|        2|               8|   ATLANTICO|         8433|      MALAMBO|                       13036|        143781|0,0907|          NULL|\n",
      "|2021|        3|               8|   ATLANTICO|         8433|      MALAMBO|                       13401|        142095|0,0943|          NULL|\n",
      "|2021|        2|               8|   ATLANTICO|         8433|      MALAMBO|                       13583|        142095|0,0956|          NULL|\n",
      "|2020|        3|               8|   ATLANTICO|         8433|      MALAMBO|                       11635|        139566|0,0834|          NULL|\n",
      "|2020|        4|               8|   ATLANTICO|         8433|      MALAMBO|                       11852|        139566|0,0849|          NULL|\n",
      "|2019|        4|               8|   ATLANTICO|         8433|      MALAMBO|                       10584|        134468|0,0787|          NULL|\n",
      "|2020|        1|               8|   ATLANTICO|         8433|      MALAMBO|                       10724|        139566|0,0768|          NULL|\n",
      "|2020|        2|               8|   ATLANTICO|         8433|      MALAMBO|                       11426|        139566|0,0819|          NULL|\n",
      "|2022|        3|               8|   ATLANTICO|         8433|      MALAMBO|                       12873|        143781|0,0895|          NULL|\n",
      "|2021|        4|               5|   ANTIOQUIA|         5044|         ANZA|                         862|          7280|0,1184|          NULL|\n",
      "|2020|        4|              50|        META|        50001|VILLAVICENCIO|                      108271|        545302|0,1986|          NULL|\n",
      "|2020|        3|              50|        META|        50001|VILLAVICENCIO|                      107451|        545302| 0,197|          NULL|\n",
      "|2021|        4|              50|        META|        50001|VILLAVICENCIO|                      110633|        549922|0,2012|          NULL|\n",
      "|2021|        1|              50|        META|        50001|VILLAVICENCIO|                      109739|        549922|0,1996|          NULL|\n",
      "|2022|        3|               5|   ANTIOQUIA|         5044|         ANZA|                        1137|          7393|0,1538|          NULL|\n",
      "|2021|        3|               5|   ANTIOQUIA|         5044|         ANZA|                         905|          7280|0,1243|          NULL|\n",
      "|2021|        1|               5|   ANTIOQUIA|         5044|         ANZA|                         237|          7280|0,0326|          NULL|\n",
      "+----+---------+----------------+------------+-------------+-------------+----------------------------+--------------+------+--------------+\n",
      "only showing top 20 rows\n",
      "\n"
     ]
    },
    {
     "name": "stderr",
     "output_type": "stream",
     "text": [
      "                                                                                \r"
     ]
    }
   ],
   "execution_count": 108
  },
  {
   "metadata": {
    "ExecuteTime": {
     "end_time": "2024-09-21T20:15:31.596747Z",
     "start_time": "2024-09-21T20:15:31.559785Z"
    }
   },
   "cell_type": "code",
   "source": [
    "# 9. Calcular el promedio del área por departamento para rellenar los valores nulos\n",
    "df_departamentos_mean = df_areas_municipio.groupBy('DEPARTAMENTO').agg(F.mean('AREA_TOTAL_KM2').alias('mean_area'))\n"
   ],
   "id": "41a004246896ec77",
   "outputs": [],
   "execution_count": 109
  },
  {
   "metadata": {
    "ExecuteTime": {
     "end_time": "2024-09-21T20:15:39.596018Z",
     "start_time": "2024-09-21T20:15:39.550188Z"
    }
   },
   "cell_type": "code",
   "source": [
    "# 10. Unir el promedio de áreas al dataset principal\n",
    "df_completo = df_completo.join(df_departamentos_mean.withColumnRenamed(\"DEPARTAMENTO\", \"COD_DEPARTAMENTO\"),\n",
    "                               on=\"COD_DEPARTAMENTO\", how=\"left\")"
   ],
   "id": "93f4fb690932e52a",
   "outputs": [],
   "execution_count": 110
  },
  {
   "metadata": {
    "ExecuteTime": {
     "end_time": "2024-09-21T20:15:45.057994Z",
     "start_time": "2024-09-21T20:15:45.016456Z"
    }
   },
   "cell_type": "code",
   "source": [
    "# 11. Rellenar los valores nulos en AREA_TOTAL_KM2 con el promedio del departamento (mean_area)\n",
    "df_completo = df_completo.withColumn(\n",
    "    'AREA_TOTAL_KM2',\n",
    "    F.when(F.col('AREA_TOTAL_KM2').isNull(), F.col('mean_area')).otherwise(F.col('AREA_TOTAL_KM2'))\n",
    ")"
   ],
   "id": "1a66fe8fe491a1e8",
   "outputs": [],
   "execution_count": 111
  },
  {
   "metadata": {
    "ExecuteTime": {
     "end_time": "2024-09-21T20:15:51.009726Z",
     "start_time": "2024-09-21T20:15:50.965541Z"
    }
   },
   "cell_type": "code",
   "source": [
    "# 12. Asegurarse de que no queden nulos en mean_area o AREA_TOTAL_KM2\n",
    "df_completo = df_completo.fillna({'AREA_TOTAL_KM2': 0, 'mean_area': 0})"
   ],
   "id": "77388d848b992498",
   "outputs": [],
   "execution_count": 112
  },
  {
   "metadata": {
    "ExecuteTime": {
     "end_time": "2024-09-21T20:15:58.692704Z",
     "start_time": "2024-09-21T20:15:58.659110Z"
    }
   },
   "cell_type": "code",
   "source": [
    "# 13. Calcular la densidad poblacional\n",
    "df_completo = df_completo.withColumn('densidad_poblacional', F.col('POBLACIÓN DANE') / F.col('AREA_TOTAL_KM2'))"
   ],
   "id": "2571d52221f6b06d",
   "outputs": [],
   "execution_count": 113
  },
  {
   "metadata": {
    "ExecuteTime": {
     "end_time": "2024-09-21T20:16:04.520687Z",
     "start_time": "2024-09-21T20:16:04.492526Z"
    }
   },
   "cell_type": "code",
   "source": [
    "# 14. Asegurarse de que la densidad poblacional tenga valores\n",
    "df_completo = df_completo.fillna({'densidad_poblacional': 0})"
   ],
   "id": "d8f87c48588f265f",
   "outputs": [],
   "execution_count": 114
  },
  {
   "metadata": {
    "ExecuteTime": {
     "end_time": "2024-09-21T20:16:10.607070Z",
     "start_time": "2024-09-21T20:16:10.559419Z"
    }
   },
   "cell_type": "code",
   "source": [
    "# 15. Clasificar como Urbano o Rural según la densidad poblacional (ajustado para rangos más precisos)\n",
    "df_completo = df_completo.withColumn(\n",
    "    'Clasificacion',\n",
    "    F.when(F.col('densidad_poblacional') >= 100, 'Urbano')\n",
    "    .when((F.col('densidad_poblacional') > 0) & (F.col('densidad_poblacional') < 100), 'Rural')\n",
    "    .otherwise('Sin clasificación')\n",
    ")"
   ],
   "id": "6de644e3145c8e48",
   "outputs": [],
   "execution_count": 115
  },
  {
   "metadata": {
    "ExecuteTime": {
     "end_time": "2024-09-21T20:17:21.602431Z",
     "start_time": "2024-09-21T20:17:15.943495Z"
    }
   },
   "cell_type": "code",
   "source": [
    "# 16. Verificar si quedan valores nulos en todo el dataset\n",
    "df_completo.select([F.count(F.when(F.col(f\"`{c}`\").isNull(), c)).alias(c) for c in df_completo.columns]).show()"
   ],
   "id": "c9fc89d57eecc9a2",
   "outputs": [
    {
     "name": "stderr",
     "output_type": "stream",
     "text": [
      "                                                                                \r"
     ]
    },
    {
     "name": "stdout",
     "output_type": "stream",
     "text": [
      "+----------------+---+---------+------------+-------------+---------+----------------------------+--------------+------+--------------+---------+--------------------+-------------+\n",
      "|COD_DEPARTAMENTO|AÑO|TRIMESTRE|DEPARTAMENTO|COD_MUNICIPIO|MUNICIPIO|No. ACCESOS FIJOS A INTERNET|POBLACIÓN DANE|INDICE|AREA_TOTAL_KM2|mean_area|densidad_poblacional|Clasificacion|\n",
      "+----------------+---+---------+------------+-------------+---------+----------------------------+--------------+------+--------------+---------+--------------------+-------------+\n",
      "|               0|  0|        0|           0|            0|        0|                           0|             0|     0|             0|        0|                   0|            0|\n",
      "+----------------+---+---------+------------+-------------+---------+----------------------------+--------------+------+--------------+---------+--------------------+-------------+\n",
      "\n"
     ]
    }
   ],
   "execution_count": 117
  },
  {
   "metadata": {
    "ExecuteTime": {
     "end_time": "2024-09-21T20:17:32.770332Z",
     "start_time": "2024-09-21T20:17:32.764486Z"
    }
   },
   "cell_type": "code",
   "source": [
    "# 17. Guardar el dataset transformado como un archivo CSV\n",
    "output_path = \"data/deptos/transformaciones/df_completo_exportado.csv\""
   ],
   "id": "9c21fe441da8fef6",
   "outputs": [],
   "execution_count": 118
  },
  {
   "metadata": {
    "ExecuteTime": {
     "end_time": "2024-09-21T20:17:58.401814Z",
     "start_time": "2024-09-21T20:17:50.418333Z"
    }
   },
   "cell_type": "code",
   "source": [
    "# Combinar todas las particiones en un solo archivo CSV\n",
    "df_completo.coalesce(1).write.csv(output_path, header=True, mode='overwrite')"
   ],
   "id": "48b76369c0059d0c",
   "outputs": [
    {
     "name": "stderr",
     "output_type": "stream",
     "text": [
      "                                                                                \r"
     ]
    }
   ],
   "execution_count": 119
  },
  {
   "metadata": {
    "ExecuteTime": {
     "end_time": "2024-09-21T20:19:39.408242Z",
     "start_time": "2024-09-21T20:19:32.534753Z"
    }
   },
   "cell_type": "code",
   "source": [
    "# Contar cuántos municipios han sido clasificados como \"Urbano\"\n",
    "num_urbanos = df_completo.filter(F.col('Clasificacion') == 'Urbano').count()"
   ],
   "id": "a03f9a1510763716",
   "outputs": [
    {
     "name": "stderr",
     "output_type": "stream",
     "text": [
      "                                                                                \r"
     ]
    }
   ],
   "execution_count": 121
  },
  {
   "metadata": {
    "ExecuteTime": {
     "end_time": "2024-09-21T20:19:40.144697Z",
     "start_time": "2024-09-21T20:19:40.136717Z"
    }
   },
   "cell_type": "code",
   "source": [
    "# Mostrar el resultado\n",
    "print(f\"El número total de municipios clasificados como 'Urbano' es: {num_urbanos}\")\n"
   ],
   "id": "57904f580a924477",
   "outputs": [
    {
     "name": "stdout",
     "output_type": "stream",
     "text": [
      "El número total de municipios clasificados como 'Urbano' es: 0\n"
     ]
    }
   ],
   "execution_count": 122
  },
  {
   "metadata": {
    "ExecuteTime": {
     "end_time": "2024-09-21T20:20:20.319063Z",
     "start_time": "2024-09-21T20:20:12.818803Z"
    }
   },
   "cell_type": "code",
   "source": [
    "# Verificar si aún hay valores nulos o 0 en AREA_TOTAL_KM2\n",
    "df_completo.filter((F.col('AREA_TOTAL_KM2').isNull()) | (F.col('AREA_TOTAL_KM2') == 0)).show()\n"
   ],
   "id": "cac401d404648d83",
   "outputs": [
    {
     "name": "stderr",
     "output_type": "stream",
     "text": [
      "                                                                                \r"
     ]
    },
    {
     "name": "stdout",
     "output_type": "stream",
     "text": [
      "+----------------+----+---------+------------+-------------+------------+----------------------------+--------------+------+--------------+---------+--------------------+-----------------+\n",
      "|COD_DEPARTAMENTO| AÑO|TRIMESTRE|DEPARTAMENTO|COD_MUNICIPIO|   MUNICIPIO|No. ACCESOS FIJOS A INTERNET|POBLACIÓN DANE|INDICE|AREA_TOTAL_KM2|mean_area|densidad_poblacional|    Clasificacion|\n",
      "+----------------+----+---------+------------+-------------+------------+----------------------------+--------------+------+--------------+---------+--------------------+-----------------+\n",
      "|              11|2020|        3|      BOGOTA|        11001|BOGOTA, D.C.|                     2069115|       7743955|0,2672|           0.0|      0.0|                 0.0|Sin clasificación|\n",
      "|              11|2020|        1|      BOGOTA|        11001|BOGOTA, D.C.|                     1957333|       7743955|0,2528|           0.0|      0.0|                 0.0|Sin clasificación|\n",
      "|              11|2019|        4|      BOGOTA|        11001|BOGOTA, D.C.|                     1916910|       7592871|0,2525|           0.0|      0.0|                 0.0|Sin clasificación|\n",
      "|              11|2020|        2|      BOGOTA|        11001|BOGOTA, D.C.|                     2025140|       7743955|0,2615|           0.0|      0.0|                 0.0|Sin clasificación|\n",
      "|              11|2022|        3|      BOGOTA|        11001|BOGOTA, D.C.|                     2182732|       7901653|0,2762|           0.0|      0.0|                 0.0|Sin clasificación|\n",
      "|              11|2022|        2|      BOGOTA|        11001|BOGOTA, D.C.|                     2177620|       7901653|0,2756|           0.0|      0.0|                 0.0|Sin clasificación|\n",
      "|              11|2022|        1|      BOGOTA|        11001|BOGOTA, D.C.|                     2192244|       7901653|0,2774|           0.0|      0.0|                 0.0|Sin clasificación|\n",
      "|              11|2021|        3|      BOGOTA|        11001|BOGOTA, D.C.|                     2157112|       7834167|0,2753|           0.0|      0.0|                 0.0|Sin clasificación|\n",
      "|              11|2021|        2|      BOGOTA|        11001|BOGOTA, D.C.|                     2165658|       7834167|0,2764|           0.0|      0.0|                 0.0|Sin clasificación|\n",
      "|              11|2021|        4|      BOGOTA|        11001|BOGOTA, D.C.|                     2171274|       7834167|0,2772|           0.0|      0.0|                 0.0|Sin clasificación|\n",
      "|              11|2021|        1|      BOGOTA|        11001|BOGOTA, D.C.|                     2139304|       7834167|0,2731|           0.0|      0.0|                 0.0|Sin clasificación|\n",
      "|              11|2020|        4|      BOGOTA|        11001|BOGOTA, D.C.|                     2088680|       7743955|0,2697|           0.0|      0.0|                 0.0|Sin clasificación|\n",
      "|               5|2021|        4|   ANTIOQUIA|         5044|        ANZA|                         862|          7280|0,1184|           0.0|      0.0|                 0.0|Sin clasificación|\n",
      "|               5|2022|        3|   ANTIOQUIA|         5044|        ANZA|                        1137|          7393|0,1538|           0.0|      0.0|                 0.0|Sin clasificación|\n",
      "|               5|2021|        3|   ANTIOQUIA|         5044|        ANZA|                         905|          7280|0,1243|           0.0|      0.0|                 0.0|Sin clasificación|\n",
      "|               5|2021|        1|   ANTIOQUIA|         5044|        ANZA|                         237|          7280|0,0326|           0.0|      0.0|                 0.0|Sin clasificación|\n",
      "|               5|2021|        2|   ANTIOQUIA|         5044|        ANZA|                         867|          7280|0,1191|           0.0|      0.0|                 0.0|Sin clasificación|\n",
      "|               5|2019|        4|   ANTIOQUIA|         5044|        ANZA|                         178|          7085|0,0251|           0.0|      0.0|                 0.0|Sin clasificación|\n",
      "|               5|2020|        3|   ANTIOQUIA|         5044|        ANZA|                         228|          7169|0,0318|           0.0|      0.0|                 0.0|Sin clasificación|\n",
      "|               5|2020|        2|   ANTIOQUIA|         5044|        ANZA|                         229|          7169|0,0319|           0.0|      0.0|                 0.0|Sin clasificación|\n",
      "+----------------+----+---------+------------+-------------+------------+----------------------------+--------------+------+--------------+---------+--------------------+-----------------+\n",
      "only showing top 20 rows\n",
      "\n"
     ]
    }
   ],
   "execution_count": 123
  },
  {
   "metadata": {
    "ExecuteTime": {
     "end_time": "2024-09-21T20:22:45.751602Z",
     "start_time": "2024-09-21T20:22:37.767687Z"
    }
   },
   "cell_type": "code",
   "source": [
    "# Mostrar algunos valores de densidad poblacional y los municipios correspondientes\n",
    "df_completo.select('COD_MUNICIPIO', 'MUNICIPIO', 'POBLACIÓN DANE', 'AREA_TOTAL_KM2', 'densidad_poblacional').show(20)\n"
   ],
   "id": "6fbde3333bcb0dfe",
   "outputs": [
    {
     "name": "stderr",
     "output_type": "stream",
     "text": [
      "[Stage 407:==================================================>      (8 + 1) / 9]\r"
     ]
    },
    {
     "name": "stdout",
     "output_type": "stream",
     "text": [
      "+-------------+------------+--------------+--------------------+--------------------+\n",
      "|COD_MUNICIPIO|   MUNICIPIO|POBLACIÓN DANE|      AREA_TOTAL_KM2|densidad_poblacional|\n",
      "+-------------+------------+--------------+--------------------+--------------------+\n",
      "|        15176|CHIQUINQUIRA|         58356|1.8929729578688523E8|3.082769870399964...|\n",
      "|        15176|CHIQUINQUIRA|         58356|1.8929729578688523E8|3.082769870399964...|\n",
      "|        15176|CHIQUINQUIRA|         58726|1.8929729578688523E8|3.102315844285221E-4|\n",
      "|        15176|CHIQUINQUIRA|         58356|1.8929729578688523E8|3.082769870399964...|\n",
      "|        15176|CHIQUINQUIRA|         58726|1.8929729578688523E8|3.102315844285221E-4|\n",
      "|        15176|CHIQUINQUIRA|         58726|1.8929729578688523E8|3.102315844285221E-4|\n",
      "|        15176|CHIQUINQUIRA|         58356|1.8929729578688523E8|3.082769870399964...|\n",
      "|        15176|CHIQUINQUIRA|         57935|1.8929729578688523E8|3.060529721735930...|\n",
      "|        15176|CHIQUINQUIRA|         57935|1.8929729578688523E8|3.060529721735930...|\n",
      "|        15176|CHIQUINQUIRA|         57101|1.8929729578688523E8|3.016472040059435...|\n",
      "|        15176|CHIQUINQUIRA|         57935|1.8929729578688523E8|3.060529721735930...|\n",
      "|        15176|CHIQUINQUIRA|         57935|1.8929729578688523E8|3.060529721735930...|\n",
      "|        54344|      HACARI|         10748| 4.482962194285714E8|2.397521891596615...|\n",
      "|        54344|      HACARI|         10748| 4.482962194285714E8|2.397521891596615...|\n",
      "|        54344|      HACARI|         10804| 4.482962194285714E8|2.410013632006869...|\n",
      "|        54344|      HACARI|         10804| 4.482962194285714E8|2.410013632006869...|\n",
      "|        54344|      HACARI|         10748| 4.482962194285714E8|2.397521891596615...|\n",
      "|        54344|      HACARI|         10748| 4.482962194285714E8|2.397521891596615...|\n",
      "|        54344|      HACARI|         10603| 4.482962194285714E8|2.365177206605779...|\n",
      "|        54344|      HACARI|         10603| 4.482962194285714E8|2.365177206605779...|\n",
      "+-------------+------------+--------------+--------------------+--------------------+\n",
      "only showing top 20 rows\n",
      "\n"
     ]
    },
    {
     "name": "stderr",
     "output_type": "stream",
     "text": [
      "                                                                                \r"
     ]
    }
   ],
   "execution_count": 124
  },
  {
   "metadata": {
    "ExecuteTime": {
     "end_time": "2024-09-21T20:24:18.498190Z",
     "start_time": "2024-09-21T20:24:14.749175Z"
    }
   },
   "cell_type": "code",
   "source": [
    "# Buscar si \"BOGOTA, D.C.\" está en el DataFrame completo\n",
    "df_completo.filter(F.col('MUNICIPIO').contains(\"BOGOTA\")).select('COD_DEPARTAMENTO', 'COD_MUNICIPIO', 'MUNICIPIO').show(truncate=False)"
   ],
   "id": "fdf0c75ec171e63c",
   "outputs": [
    {
     "name": "stderr",
     "output_type": "stream",
     "text": [
      "[Stage 421:===================>                                     (3 + 6) / 9]\r"
     ]
    },
    {
     "name": "stdout",
     "output_type": "stream",
     "text": [
      "+----------------+-------------+------------+\n",
      "|COD_DEPARTAMENTO|COD_MUNICIPIO|MUNICIPIO   |\n",
      "+----------------+-------------+------------+\n",
      "|11              |11001        |BOGOTA, D.C.|\n",
      "|11              |11001        |BOGOTA, D.C.|\n",
      "|11              |11001        |BOGOTA, D.C.|\n",
      "|11              |11001        |BOGOTA, D.C.|\n",
      "|11              |11001        |BOGOTA, D.C.|\n",
      "|11              |11001        |BOGOTA, D.C.|\n",
      "|11              |11001        |BOGOTA, D.C.|\n",
      "|11              |11001        |BOGOTA, D.C.|\n",
      "|11              |11001        |BOGOTA, D.C.|\n",
      "|11              |11001        |BOGOTA, D.C.|\n",
      "|11              |11001        |BOGOTA, D.C.|\n",
      "|11              |11001        |BOGOTA, D.C.|\n",
      "+----------------+-------------+------------+\n",
      "\n"
     ]
    },
    {
     "name": "stderr",
     "output_type": "stream",
     "text": [
      "                                                                                \r"
     ]
    }
   ],
   "execution_count": 125
  }
 ],
 "metadata": {
  "kernelspec": {
   "display_name": "Python 3",
   "language": "python",
   "name": "python3"
  },
  "language_info": {
   "codemirror_mode": {
    "name": "ipython",
    "version": 2
   },
   "file_extension": ".py",
   "mimetype": "text/x-python",
   "name": "python",
   "nbconvert_exporter": "python",
   "pygments_lexer": "ipython2",
   "version": "2.7.6"
  }
 },
 "nbformat": 4,
 "nbformat_minor": 5
}
