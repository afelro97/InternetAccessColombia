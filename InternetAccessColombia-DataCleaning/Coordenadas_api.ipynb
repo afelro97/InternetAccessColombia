{
 "cells": [
  {
   "cell_type": "code",
   "id": "initial_id",
   "metadata": {
    "collapsed": true,
    "ExecuteTime": {
     "end_time": "2024-11-16T16:05:35.201528Z",
     "start_time": "2024-11-16T16:05:35.198644Z"
    }
   },
   "source": [
    "import pandas as pd\n",
    "import googlemaps\n",
    "import time\n",
    "import os\n",
    "from dotenv import load_dotenv\n",
    "from pathlib import Path\n"
   ],
   "outputs": [],
   "execution_count": 52
  },
  {
   "metadata": {
    "ExecuteTime": {
     "end_time": "2024-11-16T16:05:35.255661Z",
     "start_time": "2024-11-16T16:05:35.250916Z"
    }
   },
   "cell_type": "code",
   "source": [
    "# Cargar las variables de entorno desde el archivo .env\n",
    "dotenv_path = Path('.env')\n",
    "load_dotenv(dotenv_path=dotenv_path)\n"
   ],
   "id": "8a2ceae59cec0493",
   "outputs": [
    {
     "data": {
      "text/plain": [
       "True"
      ]
     },
     "execution_count": 53,
     "metadata": {},
     "output_type": "execute_result"
    }
   ],
   "execution_count": 53
  },
  {
   "metadata": {
    "ExecuteTime": {
     "end_time": "2024-11-16T16:05:35.375813Z",
     "start_time": "2024-11-16T16:05:35.371880Z"
    }
   },
   "cell_type": "code",
   "source": [
    "# Obtener la API Key de las variables de entorno\n",
    "API_KEY = os.getenv('GOOGLE_MAPS_API_KEY')\n",
    "\n",
    "# Verificar si la API Key está cargada correctamente\n",
    "if not API_KEY:\n",
    "    raise ValueError(\"La API Key de Google Maps no está configurada correctamente. Verifica el archivo .env.\")\n",
    "\n",
    "# Inicializar cliente de Google Maps con la API Key\n",
    "gmaps = googlemaps.Client(key=API_KEY)\n"
   ],
   "id": "7e5c111a8cd5ed3a",
   "outputs": [],
   "execution_count": 54
  },
  {
   "metadata": {
    "ExecuteTime": {
     "end_time": "2024-11-16T16:05:36.308086Z",
     "start_time": "2024-11-16T16:05:35.419272Z"
    }
   },
   "cell_type": "code",
   "source": [
    "# Cargar municipios sin coordenadas\n",
    "df_sin_coordenadas = pd.read_csv('Limpieza/data/municipios_sin_coordenadas.csv')\n",
    "\n",
    "# Filtrar solo las columnas DEPARTAMENTO y MUNICIPIO\n",
    "df_sin_coordenadas = df_sin_coordenadas[['DEPARTAMENTO', 'MUNICIPIO']].drop_duplicates()\n"
   ],
   "id": "19e0aaab016e8012",
   "outputs": [],
   "execution_count": 55
  },
  {
   "metadata": {
    "ExecuteTime": {
     "end_time": "2024-11-16T16:05:36.328282Z",
     "start_time": "2024-11-16T16:05:36.324606Z"
    }
   },
   "cell_type": "code",
   "source": [
    "# Función para obtener coordenadas\n",
    "def obtener_coordenadas(departamento, municipio):\n",
    "    try:\n",
    "        query = f\"{municipio}, {departamento}, Colombia\"\n",
    "        geocode_result = gmaps.geocode(query)\n",
    "        if geocode_result:\n",
    "            location = geocode_result[0]['geometry']['location']\n",
    "            return location['lat'], location['lng']\n",
    "        else:\n",
    "            return None, None\n",
    "    except Exception as e:\n",
    "        print(f\"Error obteniendo coordenadas para {municipio}, {departamento}: {e}\")\n",
    "        return None, None\n"
   ],
   "id": "33a84bb6c94a7b17",
   "outputs": [],
   "execution_count": 56
  },
  {
   "metadata": {
    "ExecuteTime": {
     "end_time": "2024-11-16T16:05:36.384720Z",
     "start_time": "2024-11-16T16:05:36.377903Z"
    }
   },
   "cell_type": "code",
   "source": "df_sin_coordenadas",
   "id": "9a5f073e278c18d6",
   "outputs": [
    {
     "data": {
      "text/plain": [
       "       DEPARTAMENTO         MUNICIPIO\n",
       "0         ANTIOQUIA           BARBOSA\n",
       "10        ANTIOQUIA          CAROLINA\n",
       "14        ANTIOQUIA       GÓMEZ PLATA\n",
       "16        ANTIOQUIA             MACEO\n",
       "17        ANTIOQUIA              YALÍ\n",
       "...             ...               ...\n",
       "48774       GUAINÍA   PUERTO COLOMBIA\n",
       "51446       GUAINÍA         PANA PANA\n",
       "117326       VAUPÉS         PAPUNAHUA\n",
       "904723     AMAZONAS   MIRITI - PARANÁ\n",
       "984527     AMAZONAS  PUERTO SANTANDER\n",
       "\n",
       "[924 rows x 2 columns]"
      ],
      "text/html": [
       "<div>\n",
       "<style scoped>\n",
       "    .dataframe tbody tr th:only-of-type {\n",
       "        vertical-align: middle;\n",
       "    }\n",
       "\n",
       "    .dataframe tbody tr th {\n",
       "        vertical-align: top;\n",
       "    }\n",
       "\n",
       "    .dataframe thead th {\n",
       "        text-align: right;\n",
       "    }\n",
       "</style>\n",
       "<table border=\"1\" class=\"dataframe\">\n",
       "  <thead>\n",
       "    <tr style=\"text-align: right;\">\n",
       "      <th></th>\n",
       "      <th>DEPARTAMENTO</th>\n",
       "      <th>MUNICIPIO</th>\n",
       "    </tr>\n",
       "  </thead>\n",
       "  <tbody>\n",
       "    <tr>\n",
       "      <th>0</th>\n",
       "      <td>ANTIOQUIA</td>\n",
       "      <td>BARBOSA</td>\n",
       "    </tr>\n",
       "    <tr>\n",
       "      <th>10</th>\n",
       "      <td>ANTIOQUIA</td>\n",
       "      <td>CAROLINA</td>\n",
       "    </tr>\n",
       "    <tr>\n",
       "      <th>14</th>\n",
       "      <td>ANTIOQUIA</td>\n",
       "      <td>GÓMEZ PLATA</td>\n",
       "    </tr>\n",
       "    <tr>\n",
       "      <th>16</th>\n",
       "      <td>ANTIOQUIA</td>\n",
       "      <td>MACEO</td>\n",
       "    </tr>\n",
       "    <tr>\n",
       "      <th>17</th>\n",
       "      <td>ANTIOQUIA</td>\n",
       "      <td>YALÍ</td>\n",
       "    </tr>\n",
       "    <tr>\n",
       "      <th>...</th>\n",
       "      <td>...</td>\n",
       "      <td>...</td>\n",
       "    </tr>\n",
       "    <tr>\n",
       "      <th>48774</th>\n",
       "      <td>GUAINÍA</td>\n",
       "      <td>PUERTO COLOMBIA</td>\n",
       "    </tr>\n",
       "    <tr>\n",
       "      <th>51446</th>\n",
       "      <td>GUAINÍA</td>\n",
       "      <td>PANA PANA</td>\n",
       "    </tr>\n",
       "    <tr>\n",
       "      <th>117326</th>\n",
       "      <td>VAUPÉS</td>\n",
       "      <td>PAPUNAHUA</td>\n",
       "    </tr>\n",
       "    <tr>\n",
       "      <th>904723</th>\n",
       "      <td>AMAZONAS</td>\n",
       "      <td>MIRITI - PARANÁ</td>\n",
       "    </tr>\n",
       "    <tr>\n",
       "      <th>984527</th>\n",
       "      <td>AMAZONAS</td>\n",
       "      <td>PUERTO SANTANDER</td>\n",
       "    </tr>\n",
       "  </tbody>\n",
       "</table>\n",
       "<p>924 rows × 2 columns</p>\n",
       "</div>"
      ]
     },
     "execution_count": 57,
     "metadata": {},
     "output_type": "execute_result"
    }
   ],
   "execution_count": 57
  },
  {
   "metadata": {
    "ExecuteTime": {
     "end_time": "2024-11-16T16:22:16.829212Z",
     "start_time": "2024-11-16T16:05:36.451279Z"
    }
   },
   "cell_type": "code",
   "source": [
    "# Lista para guardar coordenadas\n",
    "coordenadas = []\n",
    "\n",
    "# Obtener coordenadas para municipios únicos\n",
    "for index, row in df_sin_coordenadas.iterrows():\n",
    "    municipio = row['MUNICIPIO']\n",
    "    departamento = row['DEPARTAMENTO']\n",
    "\n",
    "    # Saltar si ya se tiene la coordenada (en caso de reanudar)\n",
    "    if municipio in [item['MUNICIPIO'] for item in coordenadas]:\n",
    "        continue\n",
    "\n",
    "    # Obtener coordenadas para el municipio actual\n",
    "    lat, lng = obtener_coordenadas(departamento, municipio)\n",
    "    coordenadas.append({'DEPARTAMENTO': departamento, 'MUNICIPIO': municipio, 'Latitud': lat, 'Longitud': lng})\n",
    "\n",
    "    # Guardar progreso cada 10 municipios (o cualquier número configurable)\n",
    "    if len(coordenadas) % 10 == 0:\n",
    "        df_progreso = pd.DataFrame(coordenadas)\n",
    "        df_progreso.to_csv('Limpieza/data/progreso_coordenadas.csv', index=False)\n",
    "        print(f\"Progreso guardado: {len(coordenadas)} municipios procesados.\")\n",
    "\n",
    "    # Respetar los límites de la API\n",
    "    time.sleep(1)\n"
   ],
   "id": "48b81934cbb161a7",
   "outputs": [
    {
     "name": "stdout",
     "output_type": "stream",
     "text": [
      "Progreso guardado: 10 municipios procesados.\n",
      "Progreso guardado: 20 municipios procesados.\n",
      "Progreso guardado: 30 municipios procesados.\n",
      "Progreso guardado: 40 municipios procesados.\n",
      "Progreso guardado: 50 municipios procesados.\n",
      "Progreso guardado: 60 municipios procesados.\n",
      "Progreso guardado: 70 municipios procesados.\n",
      "Progreso guardado: 80 municipios procesados.\n",
      "Progreso guardado: 90 municipios procesados.\n",
      "Progreso guardado: 100 municipios procesados.\n",
      "Progreso guardado: 110 municipios procesados.\n",
      "Progreso guardado: 120 municipios procesados.\n",
      "Progreso guardado: 130 municipios procesados.\n",
      "Progreso guardado: 140 municipios procesados.\n",
      "Progreso guardado: 150 municipios procesados.\n",
      "Progreso guardado: 160 municipios procesados.\n",
      "Progreso guardado: 170 municipios procesados.\n",
      "Progreso guardado: 180 municipios procesados.\n",
      "Progreso guardado: 190 municipios procesados.\n",
      "Progreso guardado: 200 municipios procesados.\n",
      "Progreso guardado: 210 municipios procesados.\n",
      "Progreso guardado: 220 municipios procesados.\n",
      "Progreso guardado: 230 municipios procesados.\n",
      "Progreso guardado: 240 municipios procesados.\n",
      "Progreso guardado: 250 municipios procesados.\n",
      "Progreso guardado: 260 municipios procesados.\n",
      "Progreso guardado: 270 municipios procesados.\n",
      "Progreso guardado: 280 municipios procesados.\n",
      "Progreso guardado: 290 municipios procesados.\n",
      "Progreso guardado: 300 municipios procesados.\n",
      "Progreso guardado: 310 municipios procesados.\n",
      "Progreso guardado: 320 municipios procesados.\n",
      "Progreso guardado: 330 municipios procesados.\n",
      "Progreso guardado: 340 municipios procesados.\n",
      "Progreso guardado: 350 municipios procesados.\n",
      "Progreso guardado: 360 municipios procesados.\n",
      "Progreso guardado: 370 municipios procesados.\n",
      "Progreso guardado: 380 municipios procesados.\n",
      "Progreso guardado: 390 municipios procesados.\n",
      "Progreso guardado: 400 municipios procesados.\n",
      "Progreso guardado: 410 municipios procesados.\n",
      "Progreso guardado: 420 municipios procesados.\n",
      "Progreso guardado: 430 municipios procesados.\n",
      "Progreso guardado: 440 municipios procesados.\n",
      "Progreso guardado: 450 municipios procesados.\n",
      "Progreso guardado: 460 municipios procesados.\n",
      "Progreso guardado: 470 municipios procesados.\n",
      "Progreso guardado: 480 municipios procesados.\n",
      "Progreso guardado: 490 municipios procesados.\n",
      "Progreso guardado: 500 municipios procesados.\n",
      "Progreso guardado: 510 municipios procesados.\n",
      "Progreso guardado: 520 municipios procesados.\n",
      "Progreso guardado: 530 municipios procesados.\n",
      "Progreso guardado: 540 municipios procesados.\n",
      "Progreso guardado: 550 municipios procesados.\n",
      "Progreso guardado: 560 municipios procesados.\n",
      "Progreso guardado: 570 municipios procesados.\n",
      "Progreso guardado: 580 municipios procesados.\n",
      "Progreso guardado: 590 municipios procesados.\n",
      "Progreso guardado: 600 municipios procesados.\n",
      "Progreso guardado: 610 municipios procesados.\n",
      "Progreso guardado: 620 municipios procesados.\n",
      "Progreso guardado: 630 municipios procesados.\n",
      "Progreso guardado: 640 municipios procesados.\n",
      "Progreso guardado: 650 municipios procesados.\n",
      "Progreso guardado: 660 municipios procesados.\n",
      "Progreso guardado: 670 municipios procesados.\n",
      "Progreso guardado: 680 municipios procesados.\n",
      "Progreso guardado: 690 municipios procesados.\n",
      "Progreso guardado: 700 municipios procesados.\n",
      "Progreso guardado: 710 municipios procesados.\n",
      "Progreso guardado: 720 municipios procesados.\n",
      "Progreso guardado: 730 municipios procesados.\n",
      "Progreso guardado: 740 municipios procesados.\n",
      "Progreso guardado: 750 municipios procesados.\n",
      "Progreso guardado: 760 municipios procesados.\n",
      "Progreso guardado: 770 municipios procesados.\n",
      "Progreso guardado: 780 municipios procesados.\n",
      "Progreso guardado: 790 municipios procesados.\n",
      "Progreso guardado: 800 municipios procesados.\n",
      "Progreso guardado: 810 municipios procesados.\n",
      "Progreso guardado: 820 municipios procesados.\n",
      "Progreso guardado: 830 municipios procesados.\n"
     ]
    }
   ],
   "execution_count": 58
  },
  {
   "metadata": {
    "ExecuteTime": {
     "end_time": "2024-11-16T16:22:16.916842Z",
     "start_time": "2024-11-16T16:22:16.909236Z"
    }
   },
   "cell_type": "code",
   "source": [
    "# Guardar el archivo final con todas las coordenadas obtenidas\n",
    "df_coordenadas_finales = pd.DataFrame(coordenadas)\n",
    "df_coordenadas_finales.to_csv('Limpieza/data/coordenadas_unicas.csv', index=False)\n"
   ],
   "id": "5993c9a4816b98d1",
   "outputs": [],
   "execution_count": 59
  },
  {
   "metadata": {
    "ExecuteTime": {
     "end_time": "2024-11-16T16:22:16.947689Z",
     "start_time": "2024-11-16T16:22:16.933050Z"
    }
   },
   "cell_type": "code",
   "source": [
    "# Unir las coordenadas únicas al dataset original\n",
    "df_sin_coordenadas_completas = df_sin_coordenadas.merge(df_coordenadas_finales, on=['DEPARTAMENTO', 'MUNICIPIO'], how='left')\n",
    "df_sin_coordenadas_completas.to_csv('Limpieza/data/municipios_sin_coordenadas_completas.csv', index=False)\n",
    "\n",
    "print(\"¡Proceso completo! Coordenadas obtenidas y guardadas exitosamente.\")\n"
   ],
   "id": "3d48059065a3fe98",
   "outputs": [
    {
     "name": "stdout",
     "output_type": "stream",
     "text": [
      "¡Proceso completo! Coordenadas obtenidas y guardadas exitosamente.\n"
     ]
    }
   ],
   "execution_count": 60
  },
  {
   "metadata": {
    "ExecuteTime": {
     "end_time": "2024-11-16T16:25:42.873967Z",
     "start_time": "2024-11-16T16:25:42.868663Z"
    }
   },
   "cell_type": "code",
   "source": [
    "# Verificar cuántos valores nulos quedan en las columnas de latitud y longitud\n",
    "nulos_latitud = df_sin_coordenadas_completas['Latitud'].isnull().sum()\n",
    "nulos_longitud = df_sin_coordenadas_completas['Longitud'].isnull().sum()\n",
    "\n",
    "print(f\"Valores nulos en Latitud: {nulos_latitud}\")\n",
    "print(f\"Valores nulos en Longitud: {nulos_longitud}\")"
   ],
   "id": "2852cdb238a9b239",
   "outputs": [
    {
     "name": "stdout",
     "output_type": "stream",
     "text": [
      "Valores nulos en Latitud: 85\n",
      "Valores nulos en Longitud: 85\n"
     ]
    }
   ],
   "execution_count": 61
  },
  {
   "metadata": {},
   "cell_type": "code",
   "outputs": [],
   "execution_count": null,
   "source": "",
   "id": "bb90a8a9c1420ff6"
  }
 ],
 "metadata": {
  "kernelspec": {
   "display_name": "Python 3",
   "language": "python",
   "name": "python3"
  },
  "language_info": {
   "codemirror_mode": {
    "name": "ipython",
    "version": 2
   },
   "file_extension": ".py",
   "mimetype": "text/x-python",
   "name": "python",
   "nbconvert_exporter": "python",
   "pygments_lexer": "ipython2",
   "version": "2.7.6"
  }
 },
 "nbformat": 4,
 "nbformat_minor": 5
}
