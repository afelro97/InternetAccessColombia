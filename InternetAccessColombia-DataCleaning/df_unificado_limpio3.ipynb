{
 "cells": [
  {
   "cell_type": "code",
   "id": "initial_id",
   "metadata": {
    "collapsed": true,
    "ExecuteTime": {
     "end_time": "2024-11-19T15:38:42.366994Z",
     "start_time": "2024-11-19T15:38:41.859227Z"
    }
   },
   "source": [
    "import pandas as pd\n",
    "import googlemaps\n",
    "import time\n",
    "import os\n",
    "from dotenv import load_dotenv\n",
    "from pathlib import Path\n"
   ],
   "outputs": [],
   "execution_count": 1
  },
  {
   "metadata": {
    "ExecuteTime": {
     "end_time": "2024-11-19T15:38:42.383685Z",
     "start_time": "2024-11-19T15:38:42.379344Z"
    }
   },
   "cell_type": "code",
   "source": [
    "dotenv_path = Path('.env')\n",
    "load_dotenv(dotenv_path=dotenv_path)\n",
    "\n",
    "API_KEY = os.getenv('GOOGLE_MAPS_API_KEY')\n",
    "if not API_KEY:\n",
    "    raise ValueError(\"API Key no configurada correctamente. Verifica el archivo .env.\")\n",
    "\n",
    "# Inicializar cliente de Google Maps\n",
    "gmaps = googlemaps.Client(key=API_KEY)\n"
   ],
   "id": "40ae4415b363f991",
   "outputs": [],
   "execution_count": 2
  },
  {
   "metadata": {
    "ExecuteTime": {
     "end_time": "2024-11-19T15:39:05.770775Z",
     "start_time": "2024-11-19T15:39:04.762069Z"
    }
   },
   "cell_type": "code",
   "source": [
    "df = pd.read_csv('df_unificado_limpio2.csv')\n",
    "\n",
    "# Eliminar coordenadas previas si existen\n",
    "if 'Latitud' in df.columns and 'Longitud' in df.columns:\n",
    "    df = df.drop(columns=['Latitud', 'Longitud'])\n"
   ],
   "id": "857c5fc27003942e",
   "outputs": [],
   "execution_count": 4
  },
  {
   "metadata": {
    "ExecuteTime": {
     "end_time": "2024-11-19T15:39:10.139265Z",
     "start_time": "2024-11-19T15:39:10.052171Z"
    }
   },
   "cell_type": "code",
   "source": "municipios_unicos = df[['DEPARTAMENTO', 'MUNICIPIO']].drop_duplicates()\n",
   "id": "188917d8a2c51b95",
   "outputs": [],
   "execution_count": 5
  },
  {
   "metadata": {
    "ExecuteTime": {
     "end_time": "2024-11-19T15:39:19.720161Z",
     "start_time": "2024-11-19T15:39:19.704841Z"
    }
   },
   "cell_type": "code",
   "source": "df",
   "id": "c376a5ee30bc5e05",
   "outputs": [
    {
     "data": {
      "text/plain": [
       "         AÑO  TRIMESTRE                              PROVEEDOR  CÓDIGO DANE  \\\n",
       "0       2021          3                     @DIGITAL GROUP SAS            5   \n",
       "1       2021          3                     @DIGITAL GROUP SAS            5   \n",
       "2       2021          3                     @DIGITAL GROUP SAS            5   \n",
       "3       2021          3                     @DIGITAL GROUP SAS            5   \n",
       "4       2021          3                     @DIGITAL GROUP SAS            5   \n",
       "...      ...        ...                                    ...          ...   \n",
       "917685  2024          1  ZUMA COMUNICACIONES DE COLOMBIA S.A.S           25   \n",
       "917686  2024          1  ZUMA COMUNICACIONES DE COLOMBIA S.A.S           25   \n",
       "917687  2024          1  ZUMA COMUNICACIONES DE COLOMBIA S.A.S           25   \n",
       "917688  2024          1  ZUMA COMUNICACIONES DE COLOMBIA S.A.S           25   \n",
       "917689  2024          1  ZUMA COMUNICACIONES DE COLOMBIA S.A.S           25   \n",
       "\n",
       "        DEPARTAMENTO  CÓDIGO DANE.1 MUNICIPIO                 SEGMENTO  \\\n",
       "0          ANTIOQUIA           5031    AMALFI              CORPORATIVO   \n",
       "1          ANTIOQUIA           5031    AMALFI              CORPORATIVO   \n",
       "2          ANTIOQUIA           5031    AMALFI  RESIDENCIAL - ESTRATO 1   \n",
       "3          ANTIOQUIA           5088     BELLO  RESIDENCIAL - ESTRATO 2   \n",
       "4          ANTIOQUIA           5088     BELLO  RESIDENCIAL - ESTRATO 2   \n",
       "...              ...            ...       ...                      ...   \n",
       "917685  CUNDINAMARCA          25793     TAUSA  RESIDENCIAL - ESTRATO 1   \n",
       "917686  CUNDINAMARCA          25793     TAUSA  RESIDENCIAL - ESTRATO 1   \n",
       "917687  CUNDINAMARCA          25793     TAUSA  RESIDENCIAL - ESTRATO 1   \n",
       "917688  CUNDINAMARCA          25793     TAUSA  RESIDENCIAL - ESTRATO 2   \n",
       "917689  CUNDINAMARCA          25793     TAUSA              CORPORATIVO   \n",
       "\n",
       "                      TECNOLOGÍA  VELOCIDAD BAJADA  VELOCIDAD SUBIDA  \\\n",
       "0       FIBER TO THE HOME (FTTH)              20.0               5.0   \n",
       "1       FIBER TO THE HOME (FTTH)              30.0               5.0   \n",
       "2       FIBER TO THE HOME (FTTH)              18.0               5.0   \n",
       "3       FIBER TO THE HOME (FTTH)              30.0               5.0   \n",
       "4       FIBER TO THE HOME (FTTH)               8.0               4.0   \n",
       "...                          ...               ...               ...   \n",
       "917685                      WIFI            2300.0             690.0   \n",
       "917686                      WIFI            4300.0            1290.0   \n",
       "917687                      WIFI            7300.0            2190.0   \n",
       "917688                      WIFI            4300.0            1290.0   \n",
       "917689                      WIFI            6300.0            1890.0   \n",
       "\n",
       "        No. ACCESOS FIJOS A INTERNET  \n",
       "0                                  1  \n",
       "1                                  1  \n",
       "2                                  1  \n",
       "3                                  3  \n",
       "4                                 10  \n",
       "...                              ...  \n",
       "917685                             2  \n",
       "917686                             5  \n",
       "917687                             1  \n",
       "917688                            10  \n",
       "917689                             1  \n",
       "\n",
       "[917690 rows x 12 columns]"
      ],
      "text/html": [
       "<div>\n",
       "<style scoped>\n",
       "    .dataframe tbody tr th:only-of-type {\n",
       "        vertical-align: middle;\n",
       "    }\n",
       "\n",
       "    .dataframe tbody tr th {\n",
       "        vertical-align: top;\n",
       "    }\n",
       "\n",
       "    .dataframe thead th {\n",
       "        text-align: right;\n",
       "    }\n",
       "</style>\n",
       "<table border=\"1\" class=\"dataframe\">\n",
       "  <thead>\n",
       "    <tr style=\"text-align: right;\">\n",
       "      <th></th>\n",
       "      <th>AÑO</th>\n",
       "      <th>TRIMESTRE</th>\n",
       "      <th>PROVEEDOR</th>\n",
       "      <th>CÓDIGO DANE</th>\n",
       "      <th>DEPARTAMENTO</th>\n",
       "      <th>CÓDIGO DANE.1</th>\n",
       "      <th>MUNICIPIO</th>\n",
       "      <th>SEGMENTO</th>\n",
       "      <th>TECNOLOGÍA</th>\n",
       "      <th>VELOCIDAD BAJADA</th>\n",
       "      <th>VELOCIDAD SUBIDA</th>\n",
       "      <th>No. ACCESOS FIJOS A INTERNET</th>\n",
       "    </tr>\n",
       "  </thead>\n",
       "  <tbody>\n",
       "    <tr>\n",
       "      <th>0</th>\n",
       "      <td>2021</td>\n",
       "      <td>3</td>\n",
       "      <td>@DIGITAL GROUP SAS</td>\n",
       "      <td>5</td>\n",
       "      <td>ANTIOQUIA</td>\n",
       "      <td>5031</td>\n",
       "      <td>AMALFI</td>\n",
       "      <td>CORPORATIVO</td>\n",
       "      <td>FIBER TO THE HOME (FTTH)</td>\n",
       "      <td>20.0</td>\n",
       "      <td>5.0</td>\n",
       "      <td>1</td>\n",
       "    </tr>\n",
       "    <tr>\n",
       "      <th>1</th>\n",
       "      <td>2021</td>\n",
       "      <td>3</td>\n",
       "      <td>@DIGITAL GROUP SAS</td>\n",
       "      <td>5</td>\n",
       "      <td>ANTIOQUIA</td>\n",
       "      <td>5031</td>\n",
       "      <td>AMALFI</td>\n",
       "      <td>CORPORATIVO</td>\n",
       "      <td>FIBER TO THE HOME (FTTH)</td>\n",
       "      <td>30.0</td>\n",
       "      <td>5.0</td>\n",
       "      <td>1</td>\n",
       "    </tr>\n",
       "    <tr>\n",
       "      <th>2</th>\n",
       "      <td>2021</td>\n",
       "      <td>3</td>\n",
       "      <td>@DIGITAL GROUP SAS</td>\n",
       "      <td>5</td>\n",
       "      <td>ANTIOQUIA</td>\n",
       "      <td>5031</td>\n",
       "      <td>AMALFI</td>\n",
       "      <td>RESIDENCIAL - ESTRATO 1</td>\n",
       "      <td>FIBER TO THE HOME (FTTH)</td>\n",
       "      <td>18.0</td>\n",
       "      <td>5.0</td>\n",
       "      <td>1</td>\n",
       "    </tr>\n",
       "    <tr>\n",
       "      <th>3</th>\n",
       "      <td>2021</td>\n",
       "      <td>3</td>\n",
       "      <td>@DIGITAL GROUP SAS</td>\n",
       "      <td>5</td>\n",
       "      <td>ANTIOQUIA</td>\n",
       "      <td>5088</td>\n",
       "      <td>BELLO</td>\n",
       "      <td>RESIDENCIAL - ESTRATO 2</td>\n",
       "      <td>FIBER TO THE HOME (FTTH)</td>\n",
       "      <td>30.0</td>\n",
       "      <td>5.0</td>\n",
       "      <td>3</td>\n",
       "    </tr>\n",
       "    <tr>\n",
       "      <th>4</th>\n",
       "      <td>2021</td>\n",
       "      <td>3</td>\n",
       "      <td>@DIGITAL GROUP SAS</td>\n",
       "      <td>5</td>\n",
       "      <td>ANTIOQUIA</td>\n",
       "      <td>5088</td>\n",
       "      <td>BELLO</td>\n",
       "      <td>RESIDENCIAL - ESTRATO 2</td>\n",
       "      <td>FIBER TO THE HOME (FTTH)</td>\n",
       "      <td>8.0</td>\n",
       "      <td>4.0</td>\n",
       "      <td>10</td>\n",
       "    </tr>\n",
       "    <tr>\n",
       "      <th>...</th>\n",
       "      <td>...</td>\n",
       "      <td>...</td>\n",
       "      <td>...</td>\n",
       "      <td>...</td>\n",
       "      <td>...</td>\n",
       "      <td>...</td>\n",
       "      <td>...</td>\n",
       "      <td>...</td>\n",
       "      <td>...</td>\n",
       "      <td>...</td>\n",
       "      <td>...</td>\n",
       "      <td>...</td>\n",
       "    </tr>\n",
       "    <tr>\n",
       "      <th>917685</th>\n",
       "      <td>2024</td>\n",
       "      <td>1</td>\n",
       "      <td>ZUMA COMUNICACIONES DE COLOMBIA S.A.S</td>\n",
       "      <td>25</td>\n",
       "      <td>CUNDINAMARCA</td>\n",
       "      <td>25793</td>\n",
       "      <td>TAUSA</td>\n",
       "      <td>RESIDENCIAL - ESTRATO 1</td>\n",
       "      <td>WIFI</td>\n",
       "      <td>2300.0</td>\n",
       "      <td>690.0</td>\n",
       "      <td>2</td>\n",
       "    </tr>\n",
       "    <tr>\n",
       "      <th>917686</th>\n",
       "      <td>2024</td>\n",
       "      <td>1</td>\n",
       "      <td>ZUMA COMUNICACIONES DE COLOMBIA S.A.S</td>\n",
       "      <td>25</td>\n",
       "      <td>CUNDINAMARCA</td>\n",
       "      <td>25793</td>\n",
       "      <td>TAUSA</td>\n",
       "      <td>RESIDENCIAL - ESTRATO 1</td>\n",
       "      <td>WIFI</td>\n",
       "      <td>4300.0</td>\n",
       "      <td>1290.0</td>\n",
       "      <td>5</td>\n",
       "    </tr>\n",
       "    <tr>\n",
       "      <th>917687</th>\n",
       "      <td>2024</td>\n",
       "      <td>1</td>\n",
       "      <td>ZUMA COMUNICACIONES DE COLOMBIA S.A.S</td>\n",
       "      <td>25</td>\n",
       "      <td>CUNDINAMARCA</td>\n",
       "      <td>25793</td>\n",
       "      <td>TAUSA</td>\n",
       "      <td>RESIDENCIAL - ESTRATO 1</td>\n",
       "      <td>WIFI</td>\n",
       "      <td>7300.0</td>\n",
       "      <td>2190.0</td>\n",
       "      <td>1</td>\n",
       "    </tr>\n",
       "    <tr>\n",
       "      <th>917688</th>\n",
       "      <td>2024</td>\n",
       "      <td>1</td>\n",
       "      <td>ZUMA COMUNICACIONES DE COLOMBIA S.A.S</td>\n",
       "      <td>25</td>\n",
       "      <td>CUNDINAMARCA</td>\n",
       "      <td>25793</td>\n",
       "      <td>TAUSA</td>\n",
       "      <td>RESIDENCIAL - ESTRATO 2</td>\n",
       "      <td>WIFI</td>\n",
       "      <td>4300.0</td>\n",
       "      <td>1290.0</td>\n",
       "      <td>10</td>\n",
       "    </tr>\n",
       "    <tr>\n",
       "      <th>917689</th>\n",
       "      <td>2024</td>\n",
       "      <td>1</td>\n",
       "      <td>ZUMA COMUNICACIONES DE COLOMBIA S.A.S</td>\n",
       "      <td>25</td>\n",
       "      <td>CUNDINAMARCA</td>\n",
       "      <td>25793</td>\n",
       "      <td>TAUSA</td>\n",
       "      <td>CORPORATIVO</td>\n",
       "      <td>WIFI</td>\n",
       "      <td>6300.0</td>\n",
       "      <td>1890.0</td>\n",
       "      <td>1</td>\n",
       "    </tr>\n",
       "  </tbody>\n",
       "</table>\n",
       "<p>917690 rows × 12 columns</p>\n",
       "</div>"
      ]
     },
     "execution_count": 6,
     "metadata": {},
     "output_type": "execute_result"
    }
   ],
   "execution_count": 6
  },
  {
   "metadata": {
    "ExecuteTime": {
     "end_time": "2024-11-19T15:39:28.234680Z",
     "start_time": "2024-11-19T15:39:28.230576Z"
    }
   },
   "cell_type": "code",
   "source": [
    "def obtener_coordenadas(departamento, municipio):\n",
    "    try:\n",
    "        query = f\"{municipio}, {departamento}, Colombia\"\n",
    "        geocode_result = gmaps.geocode(query)\n",
    "        if geocode_result:\n",
    "            location = geocode_result[0]['geometry']['location']\n",
    "            return location['lat'], location['lng']\n",
    "        else:\n",
    "            print(f\"No se encontraron coordenadas para {municipio}, {departamento}.\")\n",
    "            return None, None\n",
    "    except Exception as e:\n",
    "        print(f\"Error obteniendo coordenadas para {municipio}, {departamento}: {e}\")\n",
    "        return None, None\n"
   ],
   "id": "46582877bb434e2e",
   "outputs": [],
   "execution_count": 7
  },
  {
   "metadata": {
    "ExecuteTime": {
     "end_time": "2024-11-19T15:43:15.344472Z",
     "start_time": "2024-11-19T15:39:31.589324Z"
    }
   },
   "cell_type": "code",
   "source": [
    "coordenadas = []\n",
    "for index, row in municipios_unicos.iterrows():\n",
    "    departamento = row['DEPARTAMENTO']\n",
    "    municipio = row['MUNICIPIO']\n",
    "\n",
    "    # Obtener coordenadas\n",
    "    lat, lng = obtener_coordenadas(departamento, municipio)\n",
    "    coordenadas.append({'DEPARTAMENTO': departamento, 'MUNICIPIO': municipio, 'Latitud': lat, 'Longitud': lng})\n",
    "\n",
    "    # Guardar progreso cada 10 solicitudes\n",
    "    if (index + 1) % 10 == 0:\n",
    "        df_progreso = pd.DataFrame(coordenadas)\n",
    "        df_progreso.to_csv('Limpieza/data/progreso_coordenadas_nuevas.csv', index=False)\n",
    "        print(f\"Progreso guardado: {index + 1} municipios procesados.\")\n",
    "\n",
    "    # Respetar los límites de la API\n",
    "    time.sleep(1)  # Ajustar para respetar la cuota\n"
   ],
   "id": "8d2919ab3c612c06",
   "outputs": [
    {
     "name": "stdout",
     "output_type": "stream",
     "text": [
      "Progreso guardado: 60 municipios procesados.\n",
      "Progreso guardado: 90 municipios procesados.\n",
      "Progreso guardado: 100 municipios procesados.\n",
      "Progreso guardado: 140 municipios procesados.\n",
      "Progreso guardado: 190 municipios procesados.\n",
      "Progreso guardado: 250 municipios procesados.\n",
      "Progreso guardado: 260 municipios procesados.\n",
      "Progreso guardado: 280 municipios procesados.\n",
      "Progreso guardado: 310 municipios procesados.\n",
      "Progreso guardado: 330 municipios procesados.\n",
      "Progreso guardado: 340 municipios procesados.\n",
      "Progreso guardado: 350 municipios procesados.\n",
      "Progreso guardado: 360 municipios procesados.\n",
      "Progreso guardado: 400 municipios procesados.\n",
      "Progreso guardado: 410 municipios procesados.\n",
      "Progreso guardado: 420 municipios procesados.\n",
      "Progreso guardado: 490 municipios procesados.\n",
      "Progreso guardado: 950 municipios procesados.\n",
      "Progreso guardado: 1990 municipios procesados.\n",
      "Progreso guardado: 2640 municipios procesados.\n"
     ]
    }
   ],
   "execution_count": 8
  },
  {
   "metadata": {
    "ExecuteTime": {
     "end_time": "2024-11-19T15:43:30.223215Z",
     "start_time": "2024-11-19T15:43:30.216704Z"
    }
   },
   "cell_type": "code",
   "source": [
    "df_coordenadas_finales = pd.DataFrame(coordenadas)\n",
    "df_coordenadas_finales.to_csv('Limpieza/data/coordenadas_nuevas.csv', index=False)\n"
   ],
   "id": "ded10f8b2f8bb752",
   "outputs": [],
   "execution_count": 9
  },
  {
   "metadata": {
    "ExecuteTime": {
     "end_time": "2024-11-19T15:43:42.331616Z",
     "start_time": "2024-11-19T15:43:38.482918Z"
    }
   },
   "cell_type": "code",
   "source": [
    "df_completo = df.merge(df_coordenadas_finales, on=['DEPARTAMENTO', 'MUNICIPIO'], how='left')\n",
    "df_completo.to_csv('Limpieza/data/df_unificado_limpio_actualizado.csv', index=False)\n",
    "\n",
    "print(\"Proceso completado. Coordenadas actualizadas.\")\n"
   ],
   "id": "a666581cc3eff1e9",
   "outputs": [
    {
     "name": "stdout",
     "output_type": "stream",
     "text": [
      "Proceso completado. Coordenadas actualizadas.\n"
     ]
    }
   ],
   "execution_count": 10
  },
  {
   "metadata": {},
   "cell_type": "code",
   "outputs": [],
   "execution_count": null,
   "source": "",
   "id": "ba112ccd7e59e315"
  }
 ],
 "metadata": {
  "kernelspec": {
   "display_name": "Python 3",
   "language": "python",
   "name": "python3"
  },
  "language_info": {
   "codemirror_mode": {
    "name": "ipython",
    "version": 2
   },
   "file_extension": ".py",
   "mimetype": "text/x-python",
   "name": "python",
   "nbconvert_exporter": "python",
   "pygments_lexer": "ipython2",
   "version": "2.7.6"
  }
 },
 "nbformat": 4,
 "nbformat_minor": 5
}
