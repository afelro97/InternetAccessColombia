{
 "cells": [
  {
   "cell_type": "code",
   "id": "initial_id",
   "metadata": {
    "collapsed": true,
    "ExecuteTime": {
     "end_time": "2024-10-16T19:03:30.962728Z",
     "start_time": "2024-10-16T19:03:30.956553Z"
    }
   },
   "source": [
    "import os\n",
    "import boto3"
   ],
   "outputs": [],
   "execution_count": 59
  },
  {
   "metadata": {
    "ExecuteTime": {
     "end_time": "2024-10-16T19:03:31.057759Z",
     "start_time": "2024-10-16T19:03:31.045254Z"
    }
   },
   "cell_type": "code",
   "source": [
    "# Configura tu cliente de S3\n",
    "s3 = boto3.client('s3')\n",
    "bucket_name = 'datainternetaccess-cleaning'\n",
    "s3_folder = '' "
   ],
   "id": "1537e59e4af03ccd",
   "outputs": [],
   "execution_count": 60
  },
  {
   "metadata": {
    "ExecuteTime": {
     "end_time": "2024-10-16T19:03:31.114309Z",
     "start_time": "2024-10-16T19:03:31.107508Z"
    }
   },
   "cell_type": "code",
   "source": [
    "# Define la ruta de tu carpeta local\n",
    "local_folder = 'Limpieza/data'"
   ],
   "id": "dcebdca507bdf847",
   "outputs": [],
   "execution_count": 61
  },
  {
   "metadata": {
    "ExecuteTime": {
     "end_time": "2024-10-16T19:03:31.175650Z",
     "start_time": "2024-10-16T19:03:31.168865Z"
    }
   },
   "cell_type": "code",
   "source": [
    "# Función para obtener archivos de S3\n",
    "def get_s3_files(bucket_name, s3_folder):\n",
    "    s3_files = []\n",
    "    response = s3.list_objects_v2(Bucket=bucket_name, Prefix=s3_folder)\n",
    "    if 'Contents' in response:\n",
    "        for obj in response['Contents']:\n",
    "            # Obtenemos los nombres de los archivos en S3 (sin el prefijo, ya que estamos en la raíz)\n",
    "            s3_files.append(obj['Key'].replace(s3_folder, '').lstrip('/'))\n",
    "    return s3_files"
   ],
   "id": "1368de966790da1",
   "outputs": [],
   "execution_count": 62
  },
  {
   "metadata": {
    "ExecuteTime": {
     "end_time": "2024-10-16T19:03:31.232732Z",
     "start_time": "2024-10-16T19:03:31.225970Z"
    }
   },
   "cell_type": "code",
   "source": [
    "# Función para obtener archivos locales\n",
    "def get_local_files(local_folder):\n",
    "    local_files = []\n",
    "    for root, dirs, files in os.walk(local_folder):\n",
    "        for file in files:\n",
    "            # Obtenemos la ruta relativa para comparar con los nombres de S3\n",
    "            relative_path = os.path.relpath(os.path.join(root, file), local_folder)\n",
    "            local_files.append(relative_path)\n",
    "    return local_files"
   ],
   "id": "6d890468f2d9c35a",
   "outputs": [],
   "execution_count": 63
  },
  {
   "metadata": {
    "ExecuteTime": {
     "end_time": "2024-10-16T19:03:31.296049Z",
     "start_time": "2024-10-16T19:03:31.287241Z"
    }
   },
   "cell_type": "code",
   "source": [
    "# Compara los archivos de S3 con los archivos locales\n",
    "def download_new_files(bucket_name, local_folder, s3_folder):\n",
    "    s3_files = get_s3_files(bucket_name, s3_folder)\n",
    "    local_files = get_local_files(local_folder)\n",
    "\n",
    "    # Archivos que están en S3 pero no en la carpeta local\n",
    "    new_files = set(s3_files) - set(local_files)\n",
    "\n",
    "    for file in new_files:\n",
    "        # Descargar el archivo desde S3\n",
    "        local_path = os.path.join(local_folder, file)\n",
    "        s3_key = f\"{s3_folder}{file}\"\n",
    "\n",
    "        # Crear los directorios locales si no existen\n",
    "        os.makedirs(os.path.dirname(local_path), exist_ok=True)\n",
    "\n",
    "        print(f\"Descargando {file} desde {s3_key} a {local_path}\")\n",
    "        s3.download_file(bucket_name, s3_key, local_path)"
   ],
   "id": "683146c3517e9557",
   "outputs": [],
   "execution_count": 64
  },
  {
   "metadata": {
    "ExecuteTime": {
     "end_time": "2024-10-16T19:05:12.493288Z",
     "start_time": "2024-10-16T19:03:31.345588Z"
    }
   },
   "cell_type": "code",
   "source": [
    "# Llamamos la función para descargar los archivos nuevos\n",
    "download_new_files(bucket_name, local_folder, s3_folder)"
   ],
   "id": "38138a148e7eaa81",
   "outputs": [
    {
     "name": "stdout",
     "output_type": "stream",
     "text": [
      "Descargando INFORMACIÓN_TRIMESTRAL_DE_COBERTURA_MUNICIPAL_DEL_SERVICIO_MÓVIL_18.csv desde INFORMACIÓN_TRIMESTRAL_DE_COBERTURA_MUNICIPAL_DEL_SERVICIO_MÓVIL_18.csv a Limpieza/data/INFORMACIÓN_TRIMESTRAL_DE_COBERTURA_MUNICIPAL_DEL_SERVICIO_MÓVIL_18.csv\n",
      "Descargando INFORMACIÓN_TRIMESTRAL_DE_ACCESOS_FIJOS_A_INTERNET_POR_PROVEEDOR,_DEPARTAMENTO,_MUNICIPIO,_SEGMENTO,_TECNOLOGIA,_Y_VELOCIDAD_DE_CONEXIÓN_6.csv desde INFORMACIÓN_TRIMESTRAL_DE_ACCESOS_FIJOS_A_INTERNET_POR_PROVEEDOR,_DEPARTAMENTO,_MUNICIPIO,_SEGMENTO,_TECNOLOGIA,_Y_VELOCIDAD_DE_CONEXIÓN_6.csv a Limpieza/data/INFORMACIÓN_TRIMESTRAL_DE_ACCESOS_FIJOS_A_INTERNET_POR_PROVEEDOR,_DEPARTAMENTO,_MUNICIPIO,_SEGMENTO,_TECNOLOGIA,_Y_VELOCIDAD_DE_CONEXIÓN_6.csv\n",
      "Descargando articles-383732_archivo_xls.xlsx desde articles-383732_archivo_xls.xlsx a Limpieza/data/articles-383732_archivo_xls.xlsx\n",
      "Descargando INFORMACIÓN_TRIMESTRAL_DE_ACCESOS_FIJOS_A_INTERNET_POR_PROVEEDOR,_DEPARTAMENTO,_MUNICIPIO,_SEGMENTO,_TECNOLOGIA,_Y_VELOCIDAD_DE_CONEXIÓN_COMPLETO.csv desde INFORMACIÓN_TRIMESTRAL_DE_ACCESOS_FIJOS_A_INTERNET_POR_PROVEEDOR,_DEPARTAMENTO,_MUNICIPIO,_SEGMENTO,_TECNOLOGIA,_Y_VELOCIDAD_DE_CONEXIÓN_COMPLETO.csv a Limpieza/data/INFORMACIÓN_TRIMESTRAL_DE_ACCESOS_FIJOS_A_INTERNET_POR_PROVEEDOR,_DEPARTAMENTO,_MUNICIPIO,_SEGMENTO,_TECNOLOGIA,_Y_VELOCIDAD_DE_CONEXIÓN_COMPLETO.csv\n",
      "Descargando proveedores_floridablanca_santander_fibra_detalle.csv desde proveedores_floridablanca_santander_fibra_detalle.csv a Limpieza/data/proveedores_floridablanca_santander_fibra_detalle.csv\n",
      "Descargando INFORMACIÓN_TRIMESTRAL_DE_TRÁFICO_DE_INTERNET_MÓVIL_DEMANDA,_POR_PROVEEDOR_11.csv desde INFORMACIÓN_TRIMESTRAL_DE_TRÁFICO_DE_INTERNET_MÓVIL_DEMANDA,_POR_PROVEEDOR_11.csv a Limpieza/data/INFORMACIÓN_TRIMESTRAL_DE_TRÁFICO_DE_INTERNET_MÓVIL_DEMANDA,_POR_PROVEEDOR_11.csv\n",
      "Descargando INFORMACIÓN_TRIMESTRAL_DE_ACCESOS_FIJOS_A_INTERNET_POR_PROVEEDOR,_DEPARTAMENTO,_MUNICIPIO,_SEGMENTO,_TECNOLOGIA,_Y_VELOCIDAD_DE_CONEXIÓN_5.csv desde INFORMACIÓN_TRIMESTRAL_DE_ACCESOS_FIJOS_A_INTERNET_POR_PROVEEDOR,_DEPARTAMENTO,_MUNICIPIO,_SEGMENTO,_TECNOLOGIA,_Y_VELOCIDAD_DE_CONEXIÓN_5.csv a Limpieza/data/INFORMACIÓN_TRIMESTRAL_DE_ACCESOS_FIJOS_A_INTERNET_POR_PROVEEDOR,_DEPARTAMENTO,_MUNICIPIO,_SEGMENTO,_TECNOLOGIA,_Y_VELOCIDAD_DE_CONEXIÓN_5.csv\n",
      "Descargando INFORMACIÓN_TRIMESTRAL_DE_ACCESOS_FIJOS_A_INTERNET_POR_DEPARTAMENTO_Y_POBLACIÓN_2.csv desde INFORMACIÓN_TRIMESTRAL_DE_ACCESOS_FIJOS_A_INTERNET_POR_DEPARTAMENTO_Y_POBLACIÓN_2.csv a Limpieza/data/INFORMACIÓN_TRIMESTRAL_DE_ACCESOS_FIJOS_A_INTERNET_POR_DEPARTAMENTO_Y_POBLACIÓN_2.csv\n",
      "Descargando INFORMACIÓN_TRIMESTRAL_ABONADOS_DE_INTERNET_MÓVIL__DEMANDA,_POR_PROVEEDOR_9.csv desde INFORMACIÓN_TRIMESTRAL_ABONADOS_DE_INTERNET_MÓVIL__DEMANDA,_POR_PROVEEDOR_9.csv a Limpieza/data/INFORMACIÓN_TRIMESTRAL_ABONADOS_DE_INTERNET_MÓVIL__DEMANDA,_POR_PROVEEDOR_9.csv\n",
      "Descargando INFORMACIÓN_TRIMESTRAL_DE_INGRESOS_DE_TELEFONÍA_FIJA_20.csv desde INFORMACIÓN_TRIMESTRAL_DE_INGRESOS_DE_TELEFONÍA_FIJA_20.csv a Limpieza/data/INFORMACIÓN_TRIMESTRAL_DE_INGRESOS_DE_TELEFONÍA_FIJA_20.csv\n",
      "Descargando INFORMACIÓN_TRIMESTRAL_DE_INGRESOS_DE_INTERNET_MÓVIL_SUSCRIPCIÓN,_POR_PROVEEDOR_13.csv desde INFORMACIÓN_TRIMESTRAL_DE_INGRESOS_DE_INTERNET_MÓVIL_SUSCRIPCIÓN,_POR_PROVEEDOR_13.csv a Limpieza/data/INFORMACIÓN_TRIMESTRAL_DE_INGRESOS_DE_INTERNET_MÓVIL_SUSCRIPCIÓN,_POR_PROVEEDOR_13.csv\n",
      "Descargando INFORMACIÓN_TRIMESTRAL_DE_TRÁFICO_DE_INTERNET_MÓVIL_SUSCRIPCIÓN,_POR_PROVEEDOR_14.csv desde INFORMACIÓN_TRIMESTRAL_DE_TRÁFICO_DE_INTERNET_MÓVIL_SUSCRIPCIÓN,_POR_PROVEEDOR_14.csv a Limpieza/data/INFORMACIÓN_TRIMESTRAL_DE_TRÁFICO_DE_INTERNET_MÓVIL_SUSCRIPCIÓN,_POR_PROVEEDOR_14.csv\n",
      "Descargando INFORMACIÓN_TRIMESTRAL_DE_INGRESOS_DEL_SERVICIO_DE_ACCESO_FIJO_A_INTERNET_POR_PROVEEDOR__8.csv desde INFORMACIÓN_TRIMESTRAL_DE_INGRESOS_DEL_SERVICIO_DE_ACCESO_FIJO_A_INTERNET_POR_PROVEEDOR__8.csv a Limpieza/data/INFORMACIÓN_TRIMESTRAL_DE_INGRESOS_DEL_SERVICIO_DE_ACCESO_FIJO_A_INTERNET_POR_PROVEEDOR__8.csv\n",
      "Descargando DatasetCoordenadas.csv:Zone.Identifier desde DatasetCoordenadas.csv:Zone.Identifier a Limpieza/data/DatasetCoordenadas.csv:Zone.Identifier\n",
      "Descargando INFORMACIÓN_TRIMESTRAL_-_TRÁFICO_DE_VOZ_EN_MINUTOS_DE_PROVEEDORES_DE_REDES_Y_SERVICIOS_MÓVILES,_POR_PROVEEDOR_16.csv desde INFORMACIÓN_TRIMESTRAL_-_TRÁFICO_DE_VOZ_EN_MINUTOS_DE_PROVEEDORES_DE_REDES_Y_SERVICIOS_MÓVILES,_POR_PROVEEDOR_16.csv a Limpieza/data/INFORMACIÓN_TRIMESTRAL_-_TRÁFICO_DE_VOZ_EN_MINUTOS_DE_PROVEEDORES_DE_REDES_Y_SERVICIOS_MÓVILES,_POR_PROVEEDOR_16.csv\n",
      "Descargando INFORMACIÓN_TRIMESTRAL_SUSCRIPTORES_DE_INTERNET_MÓVIL_SUSCRIPCIÓN,_POR_PROVEEDOR_12.csv desde INFORMACIÓN_TRIMESTRAL_SUSCRIPTORES_DE_INTERNET_MÓVIL_SUSCRIPCIÓN,_POR_PROVEEDOR_12.csv a Limpieza/data/INFORMACIÓN_TRIMESTRAL_SUSCRIPTORES_DE_INTERNET_MÓVIL_SUSCRIPCIÓN,_POR_PROVEEDOR_12.csv\n",
      "Descargando INFORMACIÓN_TRIMESTRAL_DE_INGRESOS_DE_INTERNET_MÓVIL_DEMANDA,_POR_PROVEEDOR_10.csv desde INFORMACIÓN_TRIMESTRAL_DE_INGRESOS_DE_INTERNET_MÓVIL_DEMANDA,_POR_PROVEEDOR_10.csv a Limpieza/data/INFORMACIÓN_TRIMESTRAL_DE_INGRESOS_DE_INTERNET_MÓVIL_DEMANDA,_POR_PROVEEDOR_10.csv\n",
      "Descargando INFORMACIÓN_TRIMESTRAL_ABONADOS_DE_TELEFONÍA_MÓVIL_15.csv desde INFORMACIÓN_TRIMESTRAL_ABONADOS_DE_TELEFONÍA_MÓVIL_15.csv a Limpieza/data/INFORMACIÓN_TRIMESTRAL_ABONADOS_DE_TELEFONÍA_MÓVIL_15.csv\n",
      "Descargando DatasetCoordenadas.csv desde DatasetCoordenadas.csv a Limpieza/data/DatasetCoordenadas.csv\n",
      "Descargando INFORMACIÓN_TRIMESTRAL_DE_INGRESOS_POR_TRÁFICO_DE_VOZ_DE_PROVEEDORES_DE_REDES_Y_SERVICIOS_MÓVILES_17.csv desde INFORMACIÓN_TRIMESTRAL_DE_INGRESOS_POR_TRÁFICO_DE_VOZ_DE_PROVEEDORES_DE_REDES_Y_SERVICIOS_MÓVILES_17.csv a Limpieza/data/INFORMACIÓN_TRIMESTRAL_DE_INGRESOS_POR_TRÁFICO_DE_VOZ_DE_PROVEEDORES_DE_REDES_Y_SERVICIOS_MÓVILES_17.csv\n",
      "Descargando LÍNEAS_EN_SERVICIO_POR_ESTRATO_Y_MUNICIPIO_DE_TELEFONÍA_PÚBLICA_BÁSICA_CONMUTADA_19.csv desde LÍNEAS_EN_SERVICIO_POR_ESTRATO_Y_MUNICIPIO_DE_TELEFONÍA_PÚBLICA_BÁSICA_CONMUTADA_19.csv a Limpieza/data/LÍNEAS_EN_SERVICIO_POR_ESTRATO_Y_MUNICIPIO_DE_TELEFONÍA_PÚBLICA_BÁSICA_CONMUTADA_19.csv\n",
      "Descargando articles-383732_archivo_xls.xlsx:Zone.Identifier desde articles-383732_archivo_xls.xlsx:Zone.Identifier a Limpieza/data/articles-383732_archivo_xls.xlsx:Zone.Identifier\n",
      "Descargando INFORMACIÓN_TRIMESTRAL_DE_ACCESOS_FIJOS_A_INTERNET_POR_PROVEEDOR,_DEPARTAMENTO,_MUNICIPIO,_SEGMENTO,_TECNOLOGIA,_Y_VELOCIDAD_DE_CONEXIÓN_4.csv desde INFORMACIÓN_TRIMESTRAL_DE_ACCESOS_FIJOS_A_INTERNET_POR_PROVEEDOR,_DEPARTAMENTO,_MUNICIPIO,_SEGMENTO,_TECNOLOGIA,_Y_VELOCIDAD_DE_CONEXIÓN_4.csv a Limpieza/data/INFORMACIÓN_TRIMESTRAL_DE_ACCESOS_FIJOS_A_INTERNET_POR_PROVEEDOR,_DEPARTAMENTO,_MUNICIPIO,_SEGMENTO,_TECNOLOGIA,_Y_VELOCIDAD_DE_CONEXIÓN_4.csv\n",
      "Descargando INFORMACIÓN_TRIMESTRAL_DE_ACCESOS_FIJOS_A_INTERNET_POR_PROVEEDOR,_DEPARTAMENTO,_MUNICIPIO,_SEGMENTO,_TECNOLOGIA,_Y_VELOCIDAD_DE_CONEXIÓN_7.csv desde INFORMACIÓN_TRIMESTRAL_DE_ACCESOS_FIJOS_A_INTERNET_POR_PROVEEDOR,_DEPARTAMENTO,_MUNICIPIO,_SEGMENTO,_TECNOLOGIA,_Y_VELOCIDAD_DE_CONEXIÓN_7.csv a Limpieza/data/INFORMACIÓN_TRIMESTRAL_DE_ACCESOS_FIJOS_A_INTERNET_POR_PROVEEDOR,_DEPARTAMENTO,_MUNICIPIO,_SEGMENTO,_TECNOLOGIA,_Y_VELOCIDAD_DE_CONEXIÓN_7.csv\n",
      "Descargando INFORMACIÓN_TRIMESTRAL_DE_ACCESOS_FIJOS_A_INTERNET_POR_DEPARTAMENTO,_MUNICIPIO_Y_POBLACIÓN_3.csv desde INFORMACIÓN_TRIMESTRAL_DE_ACCESOS_FIJOS_A_INTERNET_POR_DEPARTAMENTO,_MUNICIPIO_Y_POBLACIÓN_3.csv a Limpieza/data/INFORMACIÓN_TRIMESTRAL_DE_ACCESOS_FIJOS_A_INTERNET_POR_DEPARTAMENTO,_MUNICIPIO_Y_POBLACIÓN_3.csv\n",
      "Descargando INFORMACIÓN_TRIMESTRAL_DE_ACCESOS_FIJOS_A_INTERNET_POR_PROVEEDOR__1.csv desde INFORMACIÓN_TRIMESTRAL_DE_ACCESOS_FIJOS_A_INTERNET_POR_PROVEEDOR__1.csv a Limpieza/data/INFORMACIÓN_TRIMESTRAL_DE_ACCESOS_FIJOS_A_INTERNET_POR_PROVEEDOR__1.csv\n"
     ]
    }
   ],
   "execution_count": 65
  }
 ],
 "metadata": {
  "kernelspec": {
   "display_name": "Python 3",
   "language": "python",
   "name": "python3"
  },
  "language_info": {
   "codemirror_mode": {
    "name": "ipython",
    "version": 2
   },
   "file_extension": ".py",
   "mimetype": "text/x-python",
   "name": "python",
   "nbconvert_exporter": "python",
   "pygments_lexer": "ipython2",
   "version": "2.7.6"
  }
 },
 "nbformat": 4,
 "nbformat_minor": 5
}
