{
 "cells": [
  {
   "cell_type": "code",
   "id": "initial_id",
   "metadata": {
    "collapsed": true,
    "ExecuteTime": {
     "end_time": "2024-10-16T16:26:00.549862Z",
     "start_time": "2024-10-16T16:26:00.408819Z"
    }
   },
   "source": [
    "import os\n",
    "import boto3"
   ],
   "outputs": [],
   "execution_count": 1
  },
  {
   "metadata": {
    "ExecuteTime": {
     "end_time": "2024-10-16T16:27:42.989395Z",
     "start_time": "2024-10-16T16:27:42.876814Z"
    }
   },
   "cell_type": "code",
   "source": [
    "# Configura tu cliente de S3\n",
    "s3 = boto3.client('s3')\n",
    "bucket_name = 'datainternetaccess-cleaning'\n",
    "s3_folder = '' "
   ],
   "id": "1537e59e4af03ccd",
   "outputs": [],
   "execution_count": 2
  },
  {
   "metadata": {
    "ExecuteTime": {
     "end_time": "2024-10-16T16:28:14.590429Z",
     "start_time": "2024-10-16T16:28:14.587093Z"
    }
   },
   "cell_type": "code",
   "source": [
    "# Define la ruta de tu carpeta local\n",
    "local_folder = 'Limpieza/data'"
   ],
   "id": "dcebdca507bdf847",
   "outputs": [],
   "execution_count": 3
  },
  {
   "metadata": {
    "ExecuteTime": {
     "end_time": "2024-10-16T16:28:16.178324Z",
     "start_time": "2024-10-16T16:28:16.174600Z"
    }
   },
   "cell_type": "code",
   "source": [
    "# Función para obtener archivos de S3\n",
    "def get_s3_files(bucket_name, s3_folder):\n",
    "    s3_files = []\n",
    "    response = s3.list_objects_v2(Bucket=bucket_name, Prefix=s3_folder)\n",
    "    if 'Contents' in response:\n",
    "        for obj in response['Contents']:\n",
    "            # Obtenemos los nombres de los archivos en S3\n",
    "            s3_files.append(obj['Key'].replace(s3_folder + '/', ''))\n",
    "    return s3_files\n"
   ],
   "id": "1368de966790da1",
   "outputs": [],
   "execution_count": 4
  },
  {
   "metadata": {
    "ExecuteTime": {
     "end_time": "2024-10-16T16:28:21.105982Z",
     "start_time": "2024-10-16T16:28:21.102251Z"
    }
   },
   "cell_type": "code",
   "source": [
    "# Función para obtener archivos locales\n",
    "def get_local_files(local_folder):\n",
    "    local_files = []\n",
    "    for root, dirs, files in os.walk(local_folder):\n",
    "        for file in files:\n",
    "            # Obtenemos la ruta relativa para comparar con los nombres de S3\n",
    "            relative_path = os.path.relpath(os.path.join(root, file), local_folder)\n",
    "            local_files.append(relative_path)\n",
    "    return local_files"
   ],
   "id": "6d890468f2d9c35a",
   "outputs": [],
   "execution_count": 5
  },
  {
   "metadata": {
    "ExecuteTime": {
     "end_time": "2024-10-16T16:28:29.111772Z",
     "start_time": "2024-10-16T16:28:29.107531Z"
    }
   },
   "cell_type": "code",
   "source": [
    "# Compara los archivos locales con los archivos de S3\n",
    "def upload_new_files(bucket_name, local_folder, s3_folder):\n",
    "    s3_files = get_s3_files(bucket_name, s3_folder)\n",
    "    local_files = get_local_files(local_folder)\n",
    "\n",
    "    # Archivos que están en la carpeta local pero no en S3\n",
    "    new_files = set(local_files) - set(s3_files)\n",
    "\n",
    "    for file in new_files:\n",
    "        # Subir el archivo a S3\n",
    "        local_path = os.path.join(local_folder, file)\n",
    "        s3_key = f\"{s3_folder}/{file}\"\n",
    "        print(f\"Subiendo {file} a {s3_key}\")\n",
    "        s3.upload_file(local_path, bucket_name, s3_key)"
   ],
   "id": "683146c3517e9557",
   "outputs": [],
   "execution_count": 6
  },
  {
   "metadata": {
    "ExecuteTime": {
     "end_time": "2024-10-16T16:28:35.833266Z",
     "start_time": "2024-10-16T16:28:33.767240Z"
    }
   },
   "cell_type": "code",
   "source": [
    "# Llamamos la función para subir los archivos nuevos\n",
    "upload_new_files(bucket_name, local_folder, s3_folder)"
   ],
   "id": "38138a148e7eaa81",
   "outputs": [
    {
     "name": "stdout",
     "output_type": "stream",
     "text": [
      "Subiendo DatasetCoordenadas.csv a /DatasetCoordenadas.csv\n",
      "Subiendo DatasetCoordenadas.csv:Zone.Identifier a /DatasetCoordenadas.csv:Zone.Identifier\n"
     ]
    }
   ],
   "execution_count": 7
  },
  {
   "metadata": {
    "ExecuteTime": {
     "end_time": "2024-10-16T16:29:41.862783Z",
     "start_time": "2024-10-16T16:29:41.857463Z"
    }
   },
   "cell_type": "code",
   "source": [
    "# Compara los archivos de S3 con los archivos locales\n",
    "def download_new_files(bucket_name, local_folder, s3_folder):\n",
    "    s3_files = get_s3_files(bucket_name, s3_folder)\n",
    "    local_files = get_local_files(local_folder)\n",
    "\n",
    "    # Archivos que están en S3 pero no en la carpeta local\n",
    "    new_files = set(s3_files) - set(local_files)\n",
    "\n",
    "    for file in new_files:\n",
    "        # Descargar el archivo desde S3\n",
    "        local_path = os.path.join(local_folder, file)\n",
    "        s3_key = f\"{s3_folder}/{file}\"\n",
    "\n",
    "        # Crear los directorios locales si no existen\n",
    "        os.makedirs(os.path.dirname(local_path), exist_ok=True)\n",
    "\n",
    "        print(f\"Descargando {file} desde {s3_key} a {local_path}\")\n",
    "        s3.download_file(bucket_name, s3_key, local_path)"
   ],
   "id": "8b90c29c2c75a6d8",
   "outputs": [],
   "execution_count": 8
  },
  {
   "metadata": {
    "ExecuteTime": {
     "end_time": "2024-10-16T16:29:45.521701Z",
     "start_time": "2024-10-16T16:29:45.050477Z"
    }
   },
   "cell_type": "code",
   "source": [
    "# Llamamos la función para descargar los archivos nuevos\n",
    "download_new_files(bucket_name, local_folder, s3_folder)"
   ],
   "id": "d235065df32eb205",
   "outputs": [],
   "execution_count": 9
  },
  {
   "metadata": {},
   "cell_type": "code",
   "outputs": [],
   "execution_count": null,
   "source": "",
   "id": "fd6a41f391068674"
  }
 ],
 "metadata": {
  "kernelspec": {
   "display_name": "Python 3",
   "language": "python",
   "name": "python3"
  },
  "language_info": {
   "codemirror_mode": {
    "name": "ipython",
    "version": 2
   },
   "file_extension": ".py",
   "mimetype": "text/x-python",
   "name": "python",
   "nbconvert_exporter": "python",
   "pygments_lexer": "ipython2",
   "version": "2.7.6"
  }
 },
 "nbformat": 4,
 "nbformat_minor": 5
}
