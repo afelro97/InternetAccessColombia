{
 "cells": [
  {
   "cell_type": "code",
   "id": "initial_id",
   "metadata": {
    "collapsed": true,
    "ExecuteTime": {
     "end_time": "2024-11-16T16:26:47.803434Z",
     "start_time": "2024-11-16T16:26:47.797140Z"
    }
   },
   "source": [
    "import os\n",
    "import boto3"
   ],
   "outputs": [],
   "execution_count": 9
  },
  {
   "metadata": {
    "ExecuteTime": {
     "end_time": "2024-11-16T16:26:47.892219Z",
     "start_time": "2024-11-16T16:26:47.864487Z"
    }
   },
   "cell_type": "code",
   "source": [
    "# Configura tu cliente de S3\n",
    "s3 = boto3.client('s3')\n",
    "bucket_name = 'datainternetaccess-cleaning'\n",
    "s3_folder = '' "
   ],
   "id": "1537e59e4af03ccd",
   "outputs": [],
   "execution_count": 10
  },
  {
   "metadata": {
    "ExecuteTime": {
     "end_time": "2024-11-16T16:26:47.936895Z",
     "start_time": "2024-11-16T16:26:47.934070Z"
    }
   },
   "cell_type": "code",
   "source": [
    "# Define la ruta de tu carpeta local\n",
    "local_folder = 'Limpieza/data'"
   ],
   "id": "dcebdca507bdf847",
   "outputs": [],
   "execution_count": 11
  },
  {
   "metadata": {
    "ExecuteTime": {
     "end_time": "2024-11-16T16:26:47.988530Z",
     "start_time": "2024-11-16T16:26:47.984356Z"
    }
   },
   "cell_type": "code",
   "source": [
    "# Subir los archivos al bucket de S3\n",
    "def subir_a_s3(archivos, folder_local, bucket_name, s3_folder):\n",
    "    for archivo in archivos:\n",
    "        archivo_local = os.path.join(folder_local, archivo)\n",
    "        s3_key = os.path.join(s3_folder, archivo).replace(\"\\\\\", \"/\")  # Ruta del archivo en S3 asegurando formato correcto\n",
    "        try:\n",
    "            print(f\"Subiendo {archivo_local} a S3...\")\n",
    "            s3.upload_file(archivo_local, bucket_name, s3_key)\n",
    "            print(f\"{archivo_local} subido con éxito a S3!\")\n",
    "        except Exception as e:\n",
    "            print(f\"Error subiendo {archivo}: {str(e)}\")\n"
   ],
   "id": "d8484ee25dd6f7a1",
   "outputs": [],
   "execution_count": 12
  },
  {
   "metadata": {
    "ExecuteTime": {
     "end_time": "2024-11-16T16:26:48.038050Z",
     "start_time": "2024-11-16T16:26:48.034152Z"
    }
   },
   "cell_type": "code",
   "source": [
    "# Función para obtener archivos de S3\n",
    "def get_s3_files(bucket_name, s3_folder):\n",
    "    s3_files = []\n",
    "    response = s3.list_objects_v2(Bucket=bucket_name, Prefix=s3_folder)\n",
    "    if 'Contents' in response:\n",
    "        for obj in response['Contents']:\n",
    "            # Obtenemos los nombres de los archivos en S3 (sin el prefijo, ya que estamos en la raíz)\n",
    "            s3_files.append(obj['Key'].replace(s3_folder, '').lstrip('/'))\n",
    "    return s3_files"
   ],
   "id": "1368de966790da1",
   "outputs": [],
   "execution_count": 13
  },
  {
   "metadata": {
    "ExecuteTime": {
     "end_time": "2024-11-16T16:26:48.113605Z",
     "start_time": "2024-11-16T16:26:48.110006Z"
    }
   },
   "cell_type": "code",
   "source": [
    "# Función para obtener archivos locales\n",
    "def get_local_files(local_folder):\n",
    "    local_files = []\n",
    "    for root, dirs, files in os.walk(local_folder):\n",
    "        for file in files:\n",
    "            # Obtenemos la ruta relativa para comparar con los nombres de S3\n",
    "            relative_path = os.path.relpath(os.path.join(root, file), local_folder)\n",
    "            local_files.append(relative_path.replace(\"\\\\\", \"/\"))  # Asegurar formato de ruta\n",
    "    return local_files"
   ],
   "id": "6d890468f2d9c35a",
   "outputs": [],
   "execution_count": 14
  },
  {
   "metadata": {
    "ExecuteTime": {
     "end_time": "2024-11-16T16:26:48.160647Z",
     "start_time": "2024-11-16T16:26:48.155514Z"
    }
   },
   "cell_type": "code",
   "source": [
    "# Compara los archivos de S3 con los archivos locales\n",
    "def sincronizar_archivos(bucket_name, local_folder, s3_folder):\n",
    "    s3_files = get_s3_files(bucket_name, s3_folder)\n",
    "    local_files = get_local_files(local_folder)\n",
    "\n",
    "    # Archivos que están en S3 pero no en la carpeta local\n",
    "    new_files = set(s3_files) - set(local_files)\n",
    "\n",
    "    # Descargar archivos nuevos desde S3\n",
    "    for file in new_files:\n",
    "        # Descargar el archivo desde S3\n",
    "        local_path = os.path.join(local_folder, file)\n",
    "        s3_key = f\"{s3_folder}{file}\".replace(\"\\\\\", \"/\")\n",
    "\n",
    "        # Crear los directorios locales si no existen\n",
    "        os.makedirs(os.path.dirname(local_path), exist_ok=True)\n",
    "\n",
    "        try:\n",
    "            print(f\"Descargando {file} desde {s3_key} a {local_path}\")\n",
    "            s3.download_file(bucket_name, s3_key, local_path)\n",
    "        except Exception as e:\n",
    "            print(f\"Error descargando {file}: {str(e)}\")\n",
    "\n",
    "    # Archivos que están localmente pero no en S3\n",
    "    archivos_para_subir = set(local_files) - set(s3_files)\n",
    "    if archivos_para_subir:\n",
    "        subir_a_s3(archivos_para_subir, local_folder, bucket_name, s3_folder)\n"
   ],
   "id": "683146c3517e9557",
   "outputs": [],
   "execution_count": 15
  },
  {
   "metadata": {
    "ExecuteTime": {
     "end_time": "2024-11-16T16:26:50.756309Z",
     "start_time": "2024-11-16T16:26:48.221716Z"
    }
   },
   "cell_type": "code",
   "source": [
    "# Llamamos la función para sincronizar archivos\n",
    "sincronizar_archivos(bucket_name, local_folder, s3_folder)"
   ],
   "id": "38138a148e7eaa81",
   "outputs": [
    {
     "name": "stdout",
     "output_type": "stream",
     "text": [
      "Subiendo Limpieza/data/progreso_coordenadas.csv a S3...\n",
      "Limpieza/data/progreso_coordenadas.csv subido con éxito a S3!\n",
      "Subiendo Limpieza/data/municipios_sin_coordenadas_completas.csv a S3...\n",
      "Limpieza/data/municipios_sin_coordenadas_completas.csv subido con éxito a S3!\n",
      "Subiendo Limpieza/data/coordenadas_unicas.csv a S3...\n",
      "Limpieza/data/coordenadas_unicas.csv subido con éxito a S3!\n"
     ]
    }
   ],
   "execution_count": 16
  },
  {
   "metadata": {
    "ExecuteTime": {
     "end_time": "2024-11-16T16:26:50.764038Z",
     "start_time": "2024-11-16T16:26:50.761946Z"
    }
   },
   "cell_type": "code",
   "source": "",
   "id": "6cb462f01c9f2582",
   "outputs": [],
   "execution_count": null
  }
 ],
 "metadata": {
  "kernelspec": {
   "display_name": "Python 3",
   "language": "python",
   "name": "python3"
  },
  "language_info": {
   "codemirror_mode": {
    "name": "ipython",
    "version": 2
   },
   "file_extension": ".py",
   "mimetype": "text/x-python",
   "name": "python",
   "nbconvert_exporter": "python",
   "pygments_lexer": "ipython2",
   "version": "2.7.6"
  }
 },
 "nbformat": 4,
 "nbformat_minor": 5
}
