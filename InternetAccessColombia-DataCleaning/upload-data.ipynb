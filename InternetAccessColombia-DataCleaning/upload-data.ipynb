{
 "cells": [
  {
   "cell_type": "code",
   "id": "initial_id",
   "metadata": {
    "collapsed": true,
    "ExecuteTime": {
     "end_time": "2024-10-21T18:27:12.596070Z",
     "start_time": "2024-10-21T18:27:12.437163Z"
    }
   },
   "source": [
    "import os\n",
    "import boto3"
   ],
   "outputs": [],
   "execution_count": 1
  },
  {
   "metadata": {
    "ExecuteTime": {
     "end_time": "2024-10-21T18:27:12.775222Z",
     "start_time": "2024-10-21T18:27:12.620901Z"
    }
   },
   "cell_type": "code",
   "source": [
    "# Configura tu cliente de S3\n",
    "s3 = boto3.client('s3')\n",
    "bucket_name = 'datainternetaccess-cleaning'\n",
    "s3_folder = '' "
   ],
   "id": "1537e59e4af03ccd",
   "outputs": [],
   "execution_count": 2
  },
  {
   "metadata": {
    "ExecuteTime": {
     "end_time": "2024-10-21T18:27:13.137868Z",
     "start_time": "2024-10-21T18:27:13.131189Z"
    }
   },
   "cell_type": "code",
   "source": [
    "# Define la ruta de tu carpeta local\n",
    "local_folder = 'Limpieza/data'"
   ],
   "id": "dcebdca507bdf847",
   "outputs": [],
   "execution_count": 3
  },
  {
   "metadata": {
    "ExecuteTime": {
     "end_time": "2024-10-21T18:27:13.215644Z",
     "start_time": "2024-10-21T18:27:13.207351Z"
    }
   },
   "cell_type": "code",
   "source": [
    "# Función para obtener archivos de S3\n",
    "def get_s3_files(bucket_name, s3_folder):\n",
    "    s3_files = []\n",
    "    response = s3.list_objects_v2(Bucket=bucket_name, Prefix=s3_folder)\n",
    "    if 'Contents' in response:\n",
    "        for obj in response['Contents']:\n",
    "            # Obtenemos los nombres de los archivos en S3 (sin el prefijo, ya que estamos en la raíz)\n",
    "            s3_files.append(obj['Key'].replace(s3_folder, '').lstrip('/'))\n",
    "    return s3_files"
   ],
   "id": "1368de966790da1",
   "outputs": [],
   "execution_count": 4
  },
  {
   "metadata": {
    "ExecuteTime": {
     "end_time": "2024-10-21T18:27:13.369764Z",
     "start_time": "2024-10-21T18:27:13.363098Z"
    }
   },
   "cell_type": "code",
   "source": [
    "# Función para obtener archivos locales\n",
    "def get_local_files(local_folder):\n",
    "    local_files = []\n",
    "    for root, dirs, files in os.walk(local_folder):\n",
    "        for file in files:\n",
    "            # Obtenemos la ruta relativa para comparar con los nombres de S3\n",
    "            relative_path = os.path.relpath(os.path.join(root, file), local_folder)\n",
    "            local_files.append(relative_path)\n",
    "    return local_files"
   ],
   "id": "6d890468f2d9c35a",
   "outputs": [],
   "execution_count": 5
  },
  {
   "metadata": {
    "ExecuteTime": {
     "end_time": "2024-10-21T18:27:13.442195Z",
     "start_time": "2024-10-21T18:27:13.434242Z"
    }
   },
   "cell_type": "code",
   "source": [
    "# Compara los archivos de S3 con los archivos locales\n",
    "def download_new_files(bucket_name, local_folder, s3_folder):\n",
    "    s3_files = get_s3_files(bucket_name, s3_folder)\n",
    "    local_files = get_local_files(local_folder)\n",
    "\n",
    "    # Archivos que están en S3 pero no en la carpeta local\n",
    "    new_files = set(s3_files) - set(local_files)\n",
    "\n",
    "    for file in new_files:\n",
    "        # Descargar el archivo desde S3\n",
    "        local_path = os.path.join(local_folder, file)\n",
    "        s3_key = f\"{s3_folder}{file}\"\n",
    "\n",
    "        # Crear los directorios locales si no existen\n",
    "        os.makedirs(os.path.dirname(local_path), exist_ok=True)\n",
    "\n",
    "        print(f\"Descargando {file} desde {s3_key} a {local_path}\")\n",
    "        s3.download_file(bucket_name, s3_key, local_path)"
   ],
   "id": "683146c3517e9557",
   "outputs": [],
   "execution_count": 6
  },
  {
   "metadata": {
    "ExecuteTime": {
     "end_time": "2024-10-21T18:27:36.343716Z",
     "start_time": "2024-10-21T18:27:13.494470Z"
    }
   },
   "cell_type": "code",
   "source": [
    "# Llamamos la función para descargar los archivos nuevos\n",
    "download_new_files(bucket_name, local_folder, s3_folder)"
   ],
   "id": "38138a148e7eaa81",
   "outputs": [],
   "execution_count": 7
  }
 ],
 "metadata": {
  "kernelspec": {
   "display_name": "Python 3",
   "language": "python",
   "name": "python3"
  },
  "language_info": {
   "codemirror_mode": {
    "name": "ipython",
    "version": 2
   },
   "file_extension": ".py",
   "mimetype": "text/x-python",
   "name": "python",
   "nbconvert_exporter": "python",
   "pygments_lexer": "ipython2",
   "version": "2.7.6"
  }
 },
 "nbformat": 4,
 "nbformat_minor": 5
}
