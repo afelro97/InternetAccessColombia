{
 "cells": [
  {
   "cell_type": "code",
   "id": "initial_id",
   "metadata": {
    "collapsed": true,
    "ExecuteTime": {
     "end_time": "2024-11-16T17:05:08.096624Z",
     "start_time": "2024-11-16T17:05:08.093609Z"
    }
   },
   "source": [
    "import pandas as pd\n",
    "import os"
   ],
   "outputs": [],
   "execution_count": 18
  },
  {
   "metadata": {
    "ExecuteTime": {
     "end_time": "2024-11-16T16:39:42.683211Z",
     "start_time": "2024-11-16T16:39:40.924103Z"
    }
   },
   "cell_type": "code",
   "source": [
    "# Cargar los datasets originales\n",
    "df_internet = pd.read_csv('Limpieza/data/INFORMACIÓN_TRIMESTRAL_DE_ACCESOS_FIJOS_A_INTERNET_POR_PROVEEDOR,_DEPARTAMENTO,_MUNICIPIO,_SEGMENTO,_TECNOLOGIA,_Y_VELOCIDAD_DE_CONEXIÓN_COMPLETO.csv')\n",
    "\n",
    "# Cargar las nuevas coordenadas obtenidas\n",
    "df_coordenadas_actualizadas = pd.read_csv('Limpieza/data/coordenadas_unicas.csv')\n"
   ],
   "id": "8528a126209601b3",
   "outputs": [],
   "execution_count": 10
  },
  {
   "metadata": {
    "ExecuteTime": {
     "end_time": "2024-11-16T16:39:43.075599Z",
     "start_time": "2024-11-16T16:39:42.699720Z"
    }
   },
   "cell_type": "code",
   "source": [
    "# Normalizar los nombres de municipios en ambos datasets para asegurar coincidencia\n",
    "df_internet['MUNICIPIO'] = df_internet['MUNICIPIO'].str.strip().str.upper()\n",
    "df_coordenadas_actualizadas['MUNICIPIO'] = df_coordenadas_actualizadas['MUNICIPIO'].str.strip().str.upper()\n"
   ],
   "id": "5142c8264a44161",
   "outputs": [],
   "execution_count": 11
  },
  {
   "metadata": {
    "ExecuteTime": {
     "end_time": "2024-11-16T16:39:43.503755Z",
     "start_time": "2024-11-16T16:39:43.092752Z"
    }
   },
   "cell_type": "code",
   "source": [
    "# Unir ambos datasets usando la columna 'MUNICIPIO' como clave\n",
    "df_unido = pd.merge(df_internet, df_coordenadas_actualizadas, on='MUNICIPIO', how='left')\n"
   ],
   "id": "1af3950cfa5d3d69",
   "outputs": [],
   "execution_count": 12
  },
  {
   "metadata": {
    "ExecuteTime": {
     "end_time": "2024-11-16T16:39:43.621130Z",
     "start_time": "2024-11-16T16:39:43.521328Z"
    }
   },
   "cell_type": "code",
   "source": [
    "# Resolver el problema de duplicación de columnas\n",
    "# Mantener solo una columna DEPARTAMENTO\n",
    "if 'DEPARTAMENTO_x' in df_unido.columns and 'DEPARTAMENTO_y' in df_unido.columns:\n",
    "    # Eliminar la columna duplicada\n",
    "    df_unido = df_unido.drop(columns=['DEPARTAMENTO_y'])\n",
    "    df_unido.rename(columns={'DEPARTAMENTO_x': 'DEPARTAMENTO'}, inplace=True)\n"
   ],
   "id": "23d7110de69943c",
   "outputs": [],
   "execution_count": 13
  },
  {
   "metadata": {
    "ExecuteTime": {
     "end_time": "2024-11-16T16:39:43.734609Z",
     "start_time": "2024-11-16T16:39:43.639303Z"
    }
   },
   "cell_type": "code",
   "source": [
    "# Crear dataset limpio eliminando valores nulos en coordenadas\n",
    "df_unificado_limpio = df_unido.dropna(subset=['Latitud', 'Longitud'])\n"
   ],
   "id": "7327a193da22c272",
   "outputs": [],
   "execution_count": 14
  },
  {
   "metadata": {
    "ExecuteTime": {
     "end_time": "2024-11-16T16:39:43.753878Z",
     "start_time": "2024-11-16T16:39:43.750249Z"
    }
   },
   "cell_type": "code",
   "source": [
    "# Validar la cantidad de datos eliminados\n",
    "print(f\"Total de filas antes de limpiar: {len(df_unido)}\")\n",
    "print(f\"Total de filas después de limpiar: {len(df_unificado_limpio)}\")\n",
    "print(f\"Porcentaje de datos eliminados: {100 * (1 - len(df_unificado_limpio) / len(df_unido)):.2f}%\")\n"
   ],
   "id": "b1fd8d9cf35b7212",
   "outputs": [
    {
     "name": "stdout",
     "output_type": "stream",
     "text": [
      "Total de filas antes de limpiar: 1964335\n",
      "Total de filas después de limpiar: 998618\n",
      "Porcentaje de datos eliminados: 49.16%\n"
     ]
    }
   ],
   "execution_count": 15
  },
  {
   "metadata": {
    "ExecuteTime": {
     "end_time": "2024-11-16T16:39:47.948359Z",
     "start_time": "2024-11-16T16:39:43.873894Z"
    }
   },
   "cell_type": "code",
   "source": [
    "# Guardar el nuevo DataFrame limpio en un archivo CSV\n",
    "df_unificado_limpio.to_csv('Limpieza/data/df_unificado_limpio.csv', index=False)\n",
    "\n",
    "print(\"El nuevo archivo 'df_unificado_limpio.csv' se ha generado con éxito.\")\n"
   ],
   "id": "91abdd102a823c90",
   "outputs": [
    {
     "name": "stdout",
     "output_type": "stream",
     "text": [
      "El nuevo archivo 'df_unificado_limpio.csv' se ha generado con éxito.\n"
     ]
    }
   ],
   "execution_count": 16
  },
  {
   "metadata": {
    "ExecuteTime": {
     "end_time": "2024-11-16T17:05:15.711911Z",
     "start_time": "2024-11-16T17:05:10.117845Z"
    }
   },
   "cell_type": "code",
   "source": [
    "# Crear directorio para los archivos por departamento si no existe\n",
    "os.makedirs('Limpieza/data/departamentos', exist_ok=True)\n",
    "\n",
    "# Separar el dataset por departamento\n",
    "for departamento in df_unificado_limpio['DEPARTAMENTO'].unique():\n",
    "    # Filtrar los datos del departamento actual\n",
    "    df_departamento = df_unificado_limpio[df_unificado_limpio['DEPARTAMENTO'] == departamento]\n",
    "\n",
    "    # Guardar en un archivo CSV con el nombre del departamento\n",
    "    nombre_archivo = f'Limpieza/data/departamentos/{departamento}.csv'\n",
    "    df_departamento.to_csv(nombre_archivo, index=False)\n",
    "\n",
    "    print(f\"Archivo guardado: {nombre_archivo}\")"
   ],
   "id": "4faf779123bb477f",
   "outputs": [
    {
     "name": "stdout",
     "output_type": "stream",
     "text": [
      "Archivo guardado: Limpieza/data/departamentos/ANTIOQUIA.csv\n",
      "Archivo guardado: Limpieza/data/departamentos/TOLIMA.csv\n",
      "Archivo guardado: Limpieza/data/departamentos/BOGOTÁ D.C..csv\n",
      "Archivo guardado: Limpieza/data/departamentos/QUINDÍO.csv\n",
      "Archivo guardado: Limpieza/data/departamentos/VALLE DEL CAUCA.csv\n",
      "Archivo guardado: Limpieza/data/departamentos/SANTANDER.csv\n",
      "Archivo guardado: Limpieza/data/departamentos/BOYACÁ.csv\n",
      "Archivo guardado: Limpieza/data/departamentos/CÓRDOBA.csv\n",
      "Archivo guardado: Limpieza/data/departamentos/ATLÁNTICO.csv\n",
      "Archivo guardado: Limpieza/data/departamentos/META.csv\n",
      "Archivo guardado: Limpieza/data/departamentos/CUNDINAMARCA.csv\n",
      "Archivo guardado: Limpieza/data/departamentos/MAGDALENA.csv\n",
      "Archivo guardado: Limpieza/data/departamentos/NARIÑO.csv\n",
      "Archivo guardado: Limpieza/data/departamentos/CASANARE.csv\n",
      "Archivo guardado: Limpieza/data/departamentos/PUTUMAYO.csv\n",
      "Archivo guardado: Limpieza/data/departamentos/CESAR.csv\n",
      "Archivo guardado: Limpieza/data/departamentos/CALDAS.csv\n",
      "Archivo guardado: Limpieza/data/departamentos/HUILA.csv\n",
      "Archivo guardado: Limpieza/data/departamentos/ARAUCA.csv\n",
      "Archivo guardado: Limpieza/data/departamentos/AMAZONAS.csv\n",
      "Archivo guardado: Limpieza/data/departamentos/ARCHIPIÉLAGO DE SAN ANDRÉS, PROVIDENCIA Y SANTA CATALINA.csv\n",
      "Archivo guardado: Limpieza/data/departamentos/BOLÍVAR.csv\n",
      "Archivo guardado: Limpieza/data/departamentos/CAQUETA.csv\n",
      "Archivo guardado: Limpieza/data/departamentos/CAUCA.csv\n",
      "Archivo guardado: Limpieza/data/departamentos/CHOCÓ.csv\n",
      "Archivo guardado: Limpieza/data/departamentos/GUAINÍA.csv\n",
      "Archivo guardado: Limpieza/data/departamentos/GUAVIARE.csv\n",
      "Archivo guardado: Limpieza/data/departamentos/LA GUAJIRA.csv\n",
      "Archivo guardado: Limpieza/data/departamentos/NORTE DE SANTANDER.csv\n",
      "Archivo guardado: Limpieza/data/departamentos/RISARALDA.csv\n",
      "Archivo guardado: Limpieza/data/departamentos/SUCRE.csv\n",
      "Archivo guardado: Limpieza/data/departamentos/VAUPÉS.csv\n",
      "Archivo guardado: Limpieza/data/departamentos/VICHADA.csv\n"
     ]
    }
   ],
   "execution_count": 19
  },
  {
   "metadata": {},
   "cell_type": "code",
   "outputs": [],
   "execution_count": null,
   "source": "",
   "id": "4c33d578f7d8bde7"
  }
 ],
 "metadata": {
  "kernelspec": {
   "display_name": "Python 3",
   "language": "python",
   "name": "python3"
  },
  "language_info": {
   "codemirror_mode": {
    "name": "ipython",
    "version": 2
   },
   "file_extension": ".py",
   "mimetype": "text/x-python",
   "name": "python",
   "nbconvert_exporter": "python",
   "pygments_lexer": "ipython2",
   "version": "2.7.6"
  }
 },
 "nbformat": 4,
 "nbformat_minor": 5
}
