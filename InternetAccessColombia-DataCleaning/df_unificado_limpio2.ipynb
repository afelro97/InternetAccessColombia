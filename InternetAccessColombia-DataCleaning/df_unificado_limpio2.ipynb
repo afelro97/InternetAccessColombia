{
 "cells": [
  {
   "cell_type": "code",
   "id": "initial_id",
   "metadata": {
    "collapsed": true,
    "ExecuteTime": {
     "end_time": "2024-11-16T15:12:22.487601Z",
     "start_time": "2024-11-16T15:12:22.480639Z"
    }
   },
   "source": "import pandas as pd\n",
   "outputs": [],
   "execution_count": 4
  },
  {
   "metadata": {
    "ExecuteTime": {
     "end_time": "2024-11-16T15:12:25.475064Z",
     "start_time": "2024-11-16T15:12:22.530763Z"
    }
   },
   "cell_type": "code",
   "source": [
    "# Cargar los dos datasets\n",
    "df_internet = pd.read_csv('Limpieza/data/INFORMACIÓN_TRIMESTRAL_DE_ACCESOS_FIJOS_A_INTERNET_POR_PROVEEDOR,_DEPARTAMENTO,_MUNICIPIO,_SEGMENTO,_TECNOLOGIA,_Y_VELOCIDAD_DE_CONEXIÓN_COMPLETO.csv')\n",
    "df_coordenadas = pd.read_csv('Limpieza/data/DatasetCoordenadas.csv')\n"
   ],
   "id": "891b375ec73b8ac7",
   "outputs": [],
   "execution_count": 5
  },
  {
   "metadata": {
    "ExecuteTime": {
     "end_time": "2024-11-16T15:12:25.530422Z",
     "start_time": "2024-11-16T15:12:25.522144Z"
    }
   },
   "cell_type": "code",
   "source": [
    "# Renombrar la columna 'Ciudad' a 'MUNICIPIO' en el dataset de coordenadas\n",
    "df_coordenadas.rename(columns={'Ciudad': 'MUNICIPIO'}, inplace=True)\n"
   ],
   "id": "7c61e3c4019a1877",
   "outputs": [],
   "execution_count": 6
  },
  {
   "metadata": {
    "ExecuteTime": {
     "end_time": "2024-11-16T15:12:26.027690Z",
     "start_time": "2024-11-16T15:12:25.570135Z"
    }
   },
   "cell_type": "code",
   "source": [
    "# Normalizar los nombres de municipios en ambos datasets\n",
    "df_internet['MUNICIPIO'] = df_internet['MUNICIPIO'].str.strip().str.upper()\n",
    "df_coordenadas['MUNICIPIO'] = df_coordenadas['MUNICIPIO'].str.strip().str.upper()\n"
   ],
   "id": "a4c4bc0c7d1dae3a",
   "outputs": [],
   "execution_count": 7
  },
  {
   "metadata": {
    "ExecuteTime": {
     "end_time": "2024-11-16T15:12:26.648683Z",
     "start_time": "2024-11-16T15:12:26.057902Z"
    }
   },
   "cell_type": "code",
   "source": [
    "# Unir ambos datasets usando la columna 'MUNICIPIO' como clave\n",
    "df_unido = pd.merge(df_internet, df_coordenadas, on='MUNICIPIO', how='left')\n"
   ],
   "id": "c04d36bbcea0304d",
   "outputs": [],
   "execution_count": 8
  },
  {
   "metadata": {
    "ExecuteTime": {
     "end_time": "2024-11-16T15:12:26.882627Z",
     "start_time": "2024-11-16T15:12:26.680619Z"
    }
   },
   "cell_type": "code",
   "source": [
    "# Identificar municipios sin coordenadas\n",
    "municipios_sin_coordenadas = df_unido[df_unido['Latitud'].isnull()]['MUNICIPIO'].unique()\n",
    "print(\"Municipios sin coordenadas:\", municipios_sin_coordenadas)\n"
   ],
   "id": "72811b3fe79f494e",
   "outputs": [
    {
     "name": "stdout",
     "output_type": "stream",
     "text": [
      "Municipios sin coordenadas: ['BARBOSA' 'CAROLINA' 'GÓMEZ PLATA' 'MACEO' 'YALÍ' 'PEÑOL' 'IBAGUÉ'\n",
      " 'PRADO' 'PURIFICACIÓN' 'BOGOTÁ, D.C.' 'ARMENIA' 'BUENAVISTA' 'CIRCASIA'\n",
      " 'CÓRDOBA' 'GÉNOVA' 'QUIMBAYA' 'SALENTO' 'ALCALÁ' 'TARAZÁ' 'BOYACÁ'\n",
      " 'CIÉNEGA' 'JENESANO' 'NUEVO COLÓN' 'PAZ DE RÍO' 'RAMIRIQUÍ' 'SAMACÁ'\n",
      " 'SOCHA' 'TIBANÁ' 'TURMEQUÉ' 'VENTAQUEMADA' 'VIRACACHÁ' 'CERETÉ'\n",
      " 'CIÉNAGA DE ORO' 'MONTERÍA' 'SAN CARLOS' 'SAN PELAYO' 'JERICÓ'\n",
      " 'SATIVASUR' 'SOCOTÁ' 'TUTAZÁ' 'LA VICTORIA' 'ARCABUCO' 'CHÍQUIZA'\n",
      " 'GACHANTIVÁ' 'SÁCHICA' 'SANTA SOFÍA' 'SUTAMARCHÁN' 'TINJACÁ' 'MANATÍ'\n",
      " 'PUERTO LÓPEZ' 'CAQUEZA' 'CHIPAQUE' 'CHOACHÍ' 'FOMEQUE' 'FOSCA'\n",
      " 'GUAYABETAL' 'QUETAME' 'SIBATÉ' 'UBAQUE' 'UNE' 'LÍBANO' 'TOCANCIPÁ'\n",
      " 'FUNDACIÓN' 'LA MACARENA' 'POTOSÍ' 'PUERRES' 'PUPIALES' 'PIEDRAS'\n",
      " 'VILLANUEVA' 'PUERTO GAITÁN' 'PUERTO ASÍS' 'SAN PEDRO' 'ARIGUANÍ'\n",
      " 'NUEVA GRANADA' 'SABANAS DE SAN ANGEL' 'PUEBLO BELLO' 'LA MESA'\n",
      " 'PUERTO BOYACÁ' 'PINCHOTE' 'AMAGÁ' 'COCORNÁ' 'AGUADAS' 'GARZÓN'\n",
      " 'SIMIJACA' 'GRANADA' 'CONCEPCIÓN' 'SAN ROQUE' 'GACHANCIPÁ' 'LA UNIÓN'\n",
      " 'VILLAPINZÓN' 'GUACHETÁ' 'MANÍ' 'MEDELLÍN' 'SAMANIEGO' 'SUPÍA' 'AGRADO'\n",
      " 'ALTAMIRA' 'GIGANTE' 'PITAL' 'CHARALÁ' 'CURITÍ' 'SAN JOSÉ DE URÉ'\n",
      " 'FILADELFIA' 'LA MERCED' 'PALESTINA' 'VILLAMARÍA' 'PIJAO' 'ARAUQUITA'\n",
      " 'FORTUL' 'SARAVENA' 'EL ENCANTO' 'LA CHORRERA' 'LA PEDRERA' 'LETICIA'\n",
      " 'PUERTO ARICA' 'PUERTO NARIÑO' 'TARAPACÁ' 'ABEJORRAL' 'ALEJANDRÍA'\n",
      " 'ANGELÓPOLIS' 'ANGOSTURA' 'ANORÍ' 'ANZA' 'APARTADÓ' 'BETANIA' 'CÁCERES'\n",
      " 'CAICEDO' 'CALDAS' 'CAMPAMENTO' 'CARACOLÍ' 'CARAMANTA' 'CHIGORODÓ'\n",
      " 'CIUDAD BOLÍVAR' 'CONCORDIA' 'DABEIBA' 'DONMATÍAS' 'EBÉJICO'\n",
      " 'EL CARMEN DE VIBORAL' 'HELICONIA' 'JARDÍN' 'LIBORINA' 'MURINDÓ' 'MUTATÁ'\n",
      " 'NARIÑO' 'PUEBLORRICO' 'PUERTO BERRÍO' 'PUERTO NARE' 'RETIRO'\n",
      " 'SABANALARGA' 'SAN JUAN DE URABÁ' 'SANTA ROSA DE OSOS'\n",
      " 'SANTAFÉ DE ANTIOQUIA' 'SANTO DOMINGO' 'SONSON' 'SOPETRÁN' 'TÁMESIS'\n",
      " 'TARSO' 'TITIRIBÍ' 'TOLEDO' 'URRAO' 'VEGACHÍ' 'VENECIA'\n",
      " 'VIGÍA DEL FUERTE' 'YONDÓ' 'CRAVO NORTE' 'PROVIDENCIA' 'SAN ANDRÉS'\n",
      " 'CAMPO DE LA CRUZ' 'JUAN DE ACOSTA' 'LURUACO' 'PIOJÓ' 'REPELÓN'\n",
      " 'SANTO TOMÁS' 'TUBARÁ' 'ACHÍ' 'ARENAL' 'ARJONA' 'CALAMAR' 'CICUCO'\n",
      " 'EL CARMEN DE BOLÍVAR' 'MAGANGUÉ' 'MAHATES' 'MARÍA LA BAJA' 'MONTECRISTO'\n",
      " 'PINILLOS' 'RÍO VIEJO' 'SAN JACINTO' 'SAN JUAN NEPOMUCENO'\n",
      " 'SAN MARTÍN DE LOBA' 'SAN PABLO' 'SANTA CRUZ DE MOMPOX'\n",
      " 'SANTA ROSA DEL SUR' 'SIMITÍ' 'SOPLAVIENTO' 'TIQUISIO' 'BOAVITA'\n",
      " 'CAMPOHERMOSO' 'CHINAVITA' 'CHITA' 'CHIVOR' 'CÓMBITA' 'COPER'\n",
      " 'COVARACHÍA' 'CUÍTIVA' 'EL COCUY' 'GUAYATÁ' 'GÜICÁN' 'LA CAPILLA'\n",
      " 'LA UVITA' 'LABRANZAGRANDE' 'MONIQUIRÁ' 'OICATÁ' 'PAJARITO' 'PANQUEBA'\n",
      " 'PAUNA' 'SAN JOSÉ DE PARE' 'SAN MATEO' 'SANTA MARÍA' 'SANTANA'\n",
      " 'SATIVANORTE' 'SOATÁ' 'SORACÁ' 'TENZA' 'TOCA' 'TÓPAGA' 'UMBITA'\n",
      " 'ZETAQUIRA' 'BELALCÁZAR' 'CHINCHINÁ' 'MARMATO' 'MARULANDA' 'NORCASIA'\n",
      " 'PÁCORA' 'PENSILVANIA' 'SALAMINA' 'SAMANÁ' 'SAN JOSÉ' 'VICTORIA'\n",
      " 'ALBANIA' 'BELÉN DE LOS ANDAQUÍES' 'CURILLO' 'EL PAUJIL' 'FLORENCIA'\n",
      " 'LA MONTAÑITA' 'MILÁN' 'PUERTO RICO' 'SAN JOSÉ DEL FRAGUA'\n",
      " 'SAN VICENTE DEL CAGUÁN' 'SOLANO' 'SOLITA' 'HATO COROZAL' 'OROCUÉ'\n",
      " 'ALMAGUER' 'ARGELIA' 'BOLÍVAR' 'BUENOS AIRES' 'CAJIBÍO' 'CALDONO'\n",
      " 'CORINTO' 'EL TAMBO' 'GUAPI' 'INZÁ' 'JAMBALÓ' 'LA SIERRA' 'LA VEGA'\n",
      " 'LÓPEZ' 'MERCADERES' 'MORALES' 'PAEZ' 'PATÍA' 'PIAMONTE'\n",
      " 'PIENDAMÓ - TUNÍA' 'POPAYÁN' 'PURACÉ' 'ROSAS' 'SAN SEBASTIÁN'\n",
      " 'SANTA ROSA' 'SILVIA' 'SOTARÁ PAISPAMBA' 'SUÁREZ' 'TIMBÍO' 'TORIBIO'\n",
      " 'TOTORÓ' 'CHIMICHAGUA' 'CHIRIGUANÁ' 'GAMARRA' 'LA PAZ' 'PAILITAS'\n",
      " 'SAN MARTÍN' 'ACANDÍ' 'ALTO BAUDÓ' 'ATRATO' 'BAGADÓ' 'BAHÍA SOLANO'\n",
      " 'BAJO BAUDÓ' 'BOJAYA' 'CARMEN DEL DARIÉN' 'CONDOTO'\n",
      " 'EL LITORAL DEL SAN JUAN' 'JURADÓ' 'MEDIO ATRATO' 'MEDIO BAUDÓ'\n",
      " 'MEDIO SAN JUAN' 'NÓVITA' 'NUQUÍ' 'QUIBDÓ' 'RIOSUCIO' 'SIPÍ' 'TADÓ'\n",
      " 'UNGUÍA' 'CANALETE' 'CHINÚ' 'LA APARTADA' 'MONTELÍBANO'\n",
      " 'PUERTO LIBERTADOR' 'SAHAGÚN' 'SAN ANTERO' 'SAN BERNARDO DEL VIENTO'\n",
      " 'TIERRALTA' 'VALENCIA' 'ARBELÁEZ' 'BITUIMA' 'BOJACÁ' 'CAJICÁ' 'CAPARRAPÍ'\n",
      " 'CHAGUANÍ' 'CHÍA' 'CHOCONTÁ' 'EL COLEGIO' 'EL PEÑÓN' 'EL ROSAL'\n",
      " 'FACATATIVÁ' 'FUSAGASUGÁ' 'GACHALA' 'GACHETÁ' 'GUATAQUÍ' 'GUATAVITA'\n",
      " 'GUAYABAL DE SIQUIMA' 'GUTIÉRREZ' 'JERUSALÉN' 'JUNÍN' 'LA PALMA'\n",
      " 'LA PEÑA' 'MACHETA' 'MEDINA' 'NOCAIMA' 'PAIME' 'PANDI' 'SAN BERNARDO'\n",
      " 'SAN JUAN DE RÍO SECO' 'SASAIMA' 'SESQUILÉ' 'SOPÓ' 'SUESCA' 'SUPATÁ'\n",
      " 'SUSA' 'TABIO' 'TOPAIPÍ' 'UBALÁ' 'ÚTICA' 'VERGARA' 'VILLAGÓMEZ' 'VILLETA'\n",
      " 'YACOPÍ' 'BARRANCOMINAS' 'INÍRIDA' 'LA GUADALUPE' 'MORICHAL' 'SAN FELIPE'\n",
      " 'EL RETORNO' 'MIRAFLORES' 'SAN JOSÉ DEL GUAVIARE' 'GUADALUPE' 'OPORAPA'\n",
      " 'RIVERA' 'SALADOBLANCO' 'TELLO' 'TIMANÁ' 'DISTRACCIÓN' 'HATONUEVO'\n",
      " 'MANAURE' 'SAN JUAN DEL CESAR' 'URIBIA' 'URUMITA' 'CIÉNAGA' 'GUAMAL'\n",
      " 'ACACÍAS' 'CABUYARO' 'EL CALVARIO' 'FUENTE DE ORO' 'LEJANÍAS' 'MAPIRIPÁN'\n",
      " 'SAN JUANITO' 'VISTAHERMOSA' 'BARBACOAS' 'BELÉN' 'BUESACO' 'CHACHAGÜÍ'\n",
      " 'CONSACÁ' 'CUMBAL' 'EL CHARCO' 'FRANCISCO PIZARRO' 'GUACHUCAL'\n",
      " 'GUAITARILLA' 'ILES' 'IMUÉS' 'LA TOLA' 'LINARES' 'MOSQUERA'\n",
      " 'OLAYA HERRERA' 'RICAURTE' 'ROBERTO PAYÁN' 'SAN LORENZO' 'SANDONÁ'\n",
      " 'SANTACRUZ' 'SAPUYES' 'TAMINANGO' 'TANGUA'\n",
      " 'TUMACO - SAN ANDRES DE TUMACO' 'TÚQUERRES' 'YACUANQUER' 'ABREGO'\n",
      " 'ARBOLEDAS' 'BUCARASICA' 'CACHIRÁ' 'CÁCOTA' 'CHITAGÁ' 'CONVENCIÓN'\n",
      " 'CUCUTILLA' 'EL CARMEN' 'EL TARRA' 'EL ZULIA' 'GRAMALOTE' 'HACARÍ'\n",
      " 'LABATECA' 'MUTISCUA' 'PUERTO SANTANDER' 'SAN CAYETANO'\n",
      " 'SAN JOSÉ DE CÚCUTA' 'SANTIAGO' 'SILOS' 'TIBÚ' 'VILLA DEL ROSARIO'\n",
      " 'PUERTO CAICEDO' 'PUERTO GUZMÁN' 'PUERTO LEGUÍZAMO' 'SIBUNDOY'\n",
      " 'VALLE DEL GUAMUEZ' 'VILLAGARZÓN' 'BALBOA' 'LA CELIA' 'PUEBLO RICO'\n",
      " 'QUINCHÍA' 'SANTUARIO' 'ARATOCA' 'BARICHARA' 'BETULIA' 'CHARTA'\n",
      " 'CONTRATACIÓN' 'EL CARMEN DE CHUCURÍ' 'EL PLAYÓN' 'ENCISO' 'JESÚS MARÍA'\n",
      " 'LA BELLEZA' 'LANDÁZURI' 'PUERTO PARRA' 'PUERTO WILCHES' 'RIONEGRO'\n",
      " 'SAN MIGUEL' 'SAN VICENTE DE CHUCURÍ' 'ZAPATOCA' 'CAIMITO' 'EL ROBLE'\n",
      " 'GALERAS' 'GUARANDA' 'MAJAGUAL' 'MORROA' 'OVEJAS' 'SAMPUÉS'\n",
      " 'SAN BENITO ABAD' 'SAN JOSÉ DE TOLUVIEJO' 'SANTIAGO DE TOLÚ' 'ALVARADO'\n",
      " 'CARMEN DE APICALÁ' 'COELLO' 'COYAIMA' 'CUNDAY' 'HERVEO' 'MURILLO'\n",
      " 'RIOBLANCO' 'SAN ANTONIO' 'SAN LUIS' 'SANTA ISABEL' 'VALLE DE SAN JUAN'\n",
      " 'VILLARRICA' 'CALIMA' 'CANDELARIA' 'DAGUA' 'EL DOVIO' 'GUACARÍ'\n",
      " 'GUADALAJARA DE BUGA' 'JAMUNDÍ' 'RIOFRÍO' 'TORO' 'TULUÁ' 'ULLOA' 'CARURU'\n",
      " 'MITÚ' 'PACOA' 'TARAIRA' 'YAVARATÉ' 'CUMARIBO' 'LA PRIMAVERA'\n",
      " 'SANTA ROSALÍA' 'GIRÓN' 'BRICEÑO' 'BURITICÁ' 'EL SANTUARIO' 'FRONTINO'\n",
      " 'GIRALDO' 'MONTEBELLO' 'NECHÍ' 'PEQUE' 'PUERTO TRIUNFO' 'SALGAR'\n",
      " 'SAN ANDRÉS DE CUERQUÍA' 'SAN FRANCISCO' 'SAN JOSÉ DE LA MONTAÑA'\n",
      " 'SAN VICENTE FERRER' 'VALPARAÍSO' 'PUERTO RONDÓN' 'PUERTO COLOMBIA'\n",
      " 'ALTOS DEL ROSARIO' 'ARROYOHONDO' 'BARRANCO DE LOBA' 'CLEMENCIA'\n",
      " 'EL GUAMO' 'HATILLO DE LOBA' 'MARGARITA' 'NOROSÍ' 'REGIDOR'\n",
      " 'SAN CRISTÓBAL' 'SAN ESTANISLAO' 'SAN FERNANDO' 'SAN JACINTO DEL CAUCA'\n",
      " 'SANTA CATALINA' 'TURBANÁ' 'ZAMBRANO' 'ALMEIDA' 'AQUITANIA' 'BERBEO'\n",
      " 'BETÉITIVA' 'BUSBANZÁ' 'CERINZA' 'CHIQUINQUIRÁ' 'CHISCAS' 'CHITARAQUE'\n",
      " 'CHIVATÁ' 'CORRALES' 'CUBARÁ' 'CUCAITA' 'EL ESPINO' 'FIRAVITOBA'\n",
      " 'FLORESTA' 'GAMEZA' 'GUACAMAYAS' 'GUATEQUE' 'IZA' 'MACANAL' 'MARIPÍ'\n",
      " 'MONGUA' 'MONGUÍ' 'MOTAVITA' 'MUZO' 'PACHAVITA' 'PÁEZ' 'PAYA' 'PESCA'\n",
      " 'PISBA' 'QUÍPAMA' 'RÁQUIRA' 'RONDÓN' 'SABOYÁ' 'SAN EDUARDO'\n",
      " 'SAN LUIS DE GACENO' 'SAN MIGUEL DE SEMA' 'SAN PABLO DE BORBUR'\n",
      " 'SANTA ROSA DE VITERBO' 'SIACHOQUE' 'SOMONDOCO' 'SORA' 'SOTAQUIRÁ'\n",
      " 'SUSACÓN' 'SUTATENZA' 'TASCO' 'TIPACOQUE' 'TOGÜÍ' 'TOTA' 'TUNUNGUÁ'\n",
      " 'MARQUETALIA' 'RISARALDA' 'CARTAGENA DEL CHAIRÁ' 'MORELIA' 'CHAMEZA'\n",
      " 'LA SALINA' 'NUNCHÍA' 'RECETOR' 'SÁCAMA' 'SAN LUIS DE PALENQUE' 'TÁMARA'\n",
      " 'GUACHENÉ' 'PADILLA' 'SUCRE' 'TIMBIQUÍ' 'VILLA RICA' 'AGUSTÍN CODAZZI'\n",
      " 'CURUMANÍ' 'EL COPEY' 'GONZÁLEZ' 'PELAYA' 'RÍO DE ORO' 'SAN DIEGO'\n",
      " 'TAMALAMEQUE' 'CÉRTEGUI' 'EL CANTÓN DEL SAN PABLO' 'EL CARMEN DE ATRATO'\n",
      " 'LLORÓ' 'RÍO IRÓ' 'RÍO QUITO' 'SAN JOSÉ DEL PALMAR' 'UNIÓN PANAMERICANA'\n",
      " 'CHIMÁ' 'COTORRA' 'LOS CÓRDOBAS' 'MOMIL' 'MOÑITOS' 'PUERTO ESCONDIDO'\n",
      " 'PURÍSIMA' 'TUCHÍN' 'ALBÁN' 'ANOLAIMA' 'APULO' 'BELTRÁN' 'CABRERA'\n",
      " 'CACHIPAY' 'CARMEN DE CARUPA' 'CUCUNUBÁ' 'FÚQUENE' 'GAMA' 'MANTA'\n",
      " 'NEMOCÓN' 'NIMAIMA' 'PACHO' 'PARATEBUENO' 'PASCA' 'PULÍ' 'QUEBRADANEGRA'\n",
      " 'QUIPILE' 'SAN ANTONIO DEL TEQUENDAMA' 'SUTATAUSA' 'TENA' 'TIBACUY'\n",
      " 'TIBIRITA' 'VIANÍ' 'VILLA DE SAN DIEGO DE UBATE' 'VIOTÁ' 'ZIPACÓN'\n",
      " 'ZIPAQUIRÁ' 'ACEVEDO' 'BARAYA' 'ELÍAS' 'HOBO' 'IQUIRA' 'ISNOS' 'NÁTAGA'\n",
      " 'PAICOL' 'SAN AGUSTÍN' 'SUAZA' 'TARQUI' 'TERUEL' 'TESALIA' 'VILLAVIEJA'\n",
      " 'YAGUARÁ' 'BARRANCAS' 'EL MOLINO' 'LA JAGUA DEL PILAR' 'ALGARROBO'\n",
      " 'CERRO SAN ANTONIO' 'CHIVOLO' 'EL PIÑON' 'EL RETÉN' 'PEDRAZA'\n",
      " 'PIJIÑO DEL CARMEN' 'PUEBLOVIEJO' 'REMOLINO'\n",
      " 'SAN SEBASTIÁN DE BUENAVISTA' 'SAN ZENÓN' 'SANTA BÁRBARA DE PINTO'\n",
      " 'SITIONUEVO' 'TENERIFE' 'ZAPAYÁN' 'ZONA BANANERA' 'BARRANCA DE UPÍA'\n",
      " 'EL DORADO' 'PUERTO CONCORDIA' 'RESTREPO' 'SAN LUIS DE CUBARRAL' 'ALDANA'\n",
      " 'ANCUYA' 'ARBOLEDA' 'COLÓN' 'CONTADERO' 'CUASPUD CARLOSAMA' 'CUMBITARA'\n",
      " 'EL TABLÓN DE GÓMEZ' 'FUNES' 'GUALMATÁN' 'LA CRUZ' 'LA FLORIDA'\n",
      " 'LA LLANADA' 'LEIVA' 'LOS ANDES' 'MAGÜI' 'OSPINA' 'POLICARPA'\n",
      " 'SAN PEDRO DE CARTAGO' 'SANTA BÁRBARA' 'CHINÁCOTA' 'DURANIA' 'HERRÁN'\n",
      " 'LA ESPERANZA' 'LA PLAYA' 'LOS PATIOS' 'LOURDES' 'PAMPLONITA'\n",
      " 'RAGONVALIA' 'SALAZAR' 'SAN CALIXTO' 'TEORAMA' 'VILLA CARO' 'APÍA'\n",
      " 'BELÉN DE UMBRÍA' 'GUÁTICA' 'MARSELLA' 'MISTRATÓ' 'AGUADA' 'CARCASÍ'\n",
      " 'CEPITÁ' 'CHIMA' 'CHIPATÁ' 'CONFINES' 'COROMORO' 'EL GUACAMAYO' 'ENCINO'\n",
      " 'FLORIÁN' 'GALÁN' 'GAMBITA' 'GUACA' 'GUAPOTÁ' 'GUAVATÁ' 'GÜEPSA' 'HATO'\n",
      " 'JORDÁN' 'LOS SANTOS' 'MACARAVITA' 'MÁLAGA' 'MATANZA' 'MOGOTES'\n",
      " 'MOLAGAVITA' 'OCAMONTE' 'OIBA' 'ONZAGA' 'PALMAR' 'PALMAS DEL SOCORRO'\n",
      " 'PÁRAMO' 'SAN BENITO' 'SAN JOAQUÍN' 'SAN JOSÉ DE MIRANDA'\n",
      " 'SANTA HELENA DEL OPÓN' 'SIMACOTA' 'SUAITA' 'SURATÁ' 'TONA'\n",
      " 'VALLE DE SAN JOSÉ' 'VÉLEZ' 'VETAS' 'CHALÁN' 'COLOSO' 'LOS PALMITOS'\n",
      " 'PALMITO' 'SAN JUAN DE BETULIA' 'SAN LUIS DE SINCÉ' 'ALPUJARRA'\n",
      " 'AMBALEMA' 'ANZOÁTEGUI' 'ATACO' 'CASABIANCA' 'DOLORES' 'FLANDES' 'LÉRIDA'\n",
      " 'MARIQUITA - SAN SEBASTIÁN DE MARIQUITA' 'PALOCABILDO' 'RONCESVALLES'\n",
      " 'VILLAHERMOSA' 'ANDALUCÍA' 'ANSERMANUEVO' 'EL ÁGUILA' 'EL CAIRO'\n",
      " 'LA CUMBRE' 'TRUJILLO' 'VERSALLES' 'SAN JERÓNIMO'\n",
      " 'SAN ANDRÉS DE SOTAVENTO' 'ANDES' 'ENTRERRIOS' 'FREDONIA' 'GUATAPE'\n",
      " 'HISPANIA' 'NECOCLÍ' 'GINEBRA' 'PALMAR DE VARELA' 'ARBOLETES'\n",
      " 'SAN PEDRO DE LOS MILAGROS' 'URAMITA' 'SANTA LUCÍA' 'SUAN' 'PONEDERA'\n",
      " 'POLONUEVO' 'USIACURÍ' 'ABRIAQUÍ' 'BELMIRA' 'OLAYA' 'SAN PEDRO DE URABA'\n",
      " 'YOLOMBÓ' 'PUERTO ALEGRÍA' 'CACAHUAL' 'PANA PANA' 'PAPUNAHUA'\n",
      " 'MIRITI - PARANÁ']\n"
     ]
    }
   ],
   "execution_count": 9
  },
  {
   "metadata": {
    "ExecuteTime": {
     "end_time": "2024-11-16T15:12:31.649843Z",
     "start_time": "2024-11-16T15:12:26.970593Z"
    }
   },
   "cell_type": "code",
   "source": [
    "# Guardar los municipios sin coordenadas para posible corrección manual o uso de API\n",
    "df_sin_coordenadas = df_unido[df_unido['Latitud'].isnull()]\n",
    "df_sin_coordenadas.to_csv('Limpieza/data/municipios_sin_coordenadas.csv', index=False)\n"
   ],
   "id": "d0538fb4f116d5f0",
   "outputs": [],
   "execution_count": 10
  },
  {
   "metadata": {
    "ExecuteTime": {
     "end_time": "2024-11-16T15:12:31.804380Z",
     "start_time": "2024-11-16T15:12:31.675807Z"
    }
   },
   "cell_type": "code",
   "source": [
    "# Crear dataset limpio eliminando valores nulos en coordenadas\n",
    "df_unificado_limpio = df_unido.dropna(subset=['Latitud', 'Longitud'])\n"
   ],
   "id": "2a4342ca212c5a52",
   "outputs": [],
   "execution_count": 11
  },
  {
   "metadata": {
    "ExecuteTime": {
     "end_time": "2024-11-16T15:12:31.833337Z",
     "start_time": "2024-11-16T15:12:31.827583Z"
    }
   },
   "cell_type": "code",
   "source": [
    "# Validar la cantidad de datos eliminados\n",
    "print(f\"Total de filas antes de limpiar: {len(df_unido)}\")\n",
    "print(f\"Total de filas después de limpiar: {len(df_unificado_limpio)}\")\n",
    "print(f\"Porcentaje de datos eliminados: {100 * (1 - len(df_unificado_limpio) / len(df_unido)):.2f}%\")\n"
   ],
   "id": "269b3f637a17a042",
   "outputs": [
    {
     "name": "stdout",
     "output_type": "stream",
     "text": [
      "Total de filas antes de limpiar: 1964335\n",
      "Total de filas después de limpiar: 965717\n",
      "Porcentaje de datos eliminados: 50.84%\n"
     ]
    }
   ],
   "execution_count": 12
  },
  {
   "metadata": {
    "ExecuteTime": {
     "end_time": "2024-11-16T15:12:38.356917Z",
     "start_time": "2024-11-16T15:12:31.950563Z"
    }
   },
   "cell_type": "code",
   "source": [
    "# Guardar el DataFrame limpio en un archivo CSV\n",
    "df_unificado_limpio.to_csv('Limpieza/data/df_unificado_limpio.csv', index=False)\n"
   ],
   "id": "a8195f110d91bb2c",
   "outputs": [],
   "execution_count": 13
  },
  {
   "metadata": {
    "ExecuteTime": {
     "end_time": "2024-11-16T15:12:44.608042Z",
     "start_time": "2024-11-16T15:12:38.385197Z"
    }
   },
   "cell_type": "code",
   "source": [
    "# Opcional: Guardar los datos incompletos para análisis futuro\n",
    "df_incompleto = df_unido[df_unido['Latitud'].isnull() | df_unido['Longitud'].isnull()]\n",
    "df_incompleto.to_csv('Limpieza/data/datos_incompletos.csv', index=False)\n"
   ],
   "id": "7b00629b56cb36d3",
   "outputs": [],
   "execution_count": 14
  },
  {
   "metadata": {
    "ExecuteTime": {
     "end_time": "2024-11-16T15:12:44.673494Z",
     "start_time": "2024-11-16T15:12:44.655652Z"
    }
   },
   "cell_type": "code",
   "source": [
    "# Mostrar las columnas del dataset limpio para validación\n",
    "df_unificado_limpio.columns\n"
   ],
   "id": "3345e4da85254017",
   "outputs": [
    {
     "data": {
      "text/plain": [
       "Index(['AÑO', 'TRIMESTRE', 'PROVEEDOR', 'CÓDIGO DANE', 'DEPARTAMENTO',\n",
       "       'CÓDIGO DANE.1', 'MUNICIPIO', 'SEGMENTO', 'TECNOLOGÍA',\n",
       "       'VELOCIDAD BAJADA', 'VELOCIDAD SUBIDA', 'No. ACCESOS FIJOS A INTERNET',\n",
       "       'Latitud', 'Longitud'],\n",
       "      dtype='object')"
      ]
     },
     "execution_count": 15,
     "metadata": {},
     "output_type": "execute_result"
    }
   ],
   "execution_count": 15
  }
 ],
 "metadata": {
  "kernelspec": {
   "display_name": "Python 3",
   "language": "python",
   "name": "python3"
  },
  "language_info": {
   "codemirror_mode": {
    "name": "ipython",
    "version": 2
   },
   "file_extension": ".py",
   "mimetype": "text/x-python",
   "name": "python",
   "nbconvert_exporter": "python",
   "pygments_lexer": "ipython2",
   "version": "2.7.6"
  }
 },
 "nbformat": 4,
 "nbformat_minor": 5
}
