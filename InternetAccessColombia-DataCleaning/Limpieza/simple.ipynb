{
 "cells": [
  {
   "metadata": {
    "ExecuteTime": {
     "end_time": "2024-09-26T19:36:03.474333Z",
     "start_time": "2024-09-26T19:36:02.992657Z"
    }
   },
   "cell_type": "code",
   "source": "import pandas as pd",
   "id": "458ad1141d42a3a1",
   "outputs": [],
   "execution_count": 1
  },
  {
   "metadata": {
    "ExecuteTime": {
     "end_time": "2024-09-26T19:45:47.692268Z",
     "start_time": "2024-09-26T19:45:47.480633Z"
    }
   },
   "cell_type": "code",
   "source": [
    "# Cargar el archivo Excel\n",
    "file_path = 'data/articles-383732_archivo_xls.xlsx'\n",
    "xls = pd.ExcelFile(file_path)"
   ],
   "id": "316698ffe1cb2396",
   "outputs": [],
   "execution_count": 8
  },
  {
   "metadata": {
    "ExecuteTime": {
     "end_time": "2024-09-26T19:45:48.257480Z",
     "start_time": "2024-09-26T19:45:48.253907Z"
    }
   },
   "cell_type": "code",
   "source": [
    "# Obtener la lista de hojas, excluyendo las que no necesitas\n",
    "sheet_names = [sheet for sheet in xls.sheet_names if sheet not in ['PORTADA', 'CONTENIDO', '18']]"
   ],
   "id": "1a45a43a2af8bb8d",
   "outputs": [],
   "execution_count": 9
  },
  {
   "metadata": {
    "ExecuteTime": {
     "end_time": "2024-09-26T19:45:48.732760Z",
     "start_time": "2024-09-26T19:45:48.727263Z"
    }
   },
   "cell_type": "code",
   "source": "sheet_names",
   "id": "2e6330a336e2368",
   "outputs": [
    {
     "data": {
      "text/plain": [
       "['1',\n",
       " '2',\n",
       " '3',\n",
       " '4,1',\n",
       " '4,2',\n",
       " '4,3',\n",
       " '4,4',\n",
       " '5',\n",
       " '6',\n",
       " '7',\n",
       " '8',\n",
       " '9',\n",
       " '10',\n",
       " '11',\n",
       " '12',\n",
       " '13',\n",
       " '14',\n",
       " '15',\n",
       " '16',\n",
       " '17']"
      ]
     },
     "execution_count": 10,
     "metadata": {},
     "output_type": "execute_result"
    }
   ],
   "execution_count": 10
  },
  {
   "metadata": {
    "ExecuteTime": {
     "end_time": "2024-09-26T19:45:49.138906Z",
     "start_time": "2024-09-26T19:45:49.133892Z"
    }
   },
   "cell_type": "code",
   "source": [
    "# Función para limpiar y exportar datos de cada hoja\n",
    "def export_sheet_to_csv(sheet_name, xls, index):\n",
    "    # Leer la hoja, comenzando desde la fila 6 (excluyendo las 5 primeras)\n",
    "    df = pd.read_excel(xls, sheet_name=sheet_name, skiprows=5)\n",
    "\n",
    "    # Obtener el nombre del archivo desde la fila 1 (segunda fila en el índice 0), columna A (índice 0)\n",
    "    try:\n",
    "        sheet_name_row = pd.read_excel(xls, sheet_name=sheet_name, nrows=2).iloc[0, 0]  # Segunda fila, índice 0\n",
    "    except IndexError:\n",
    "        sheet_name_row = f\"archivo_{sheet_name}\"  # Nombre predeterminado en caso de error\n",
    "\n",
    "    # Crear el nombre del archivo utilizando el contenido de la segunda fila y agregando un sufijo único\n",
    "    clean_file_name = f\"{sheet_name_row}_{index}.csv\".replace(\" \", \"_\").replace(\"/\", \"_\")\n",
    "\n",
    "    # Guardar el CSV con el nombre generado\n",
    "    df.to_csv(clean_file_name, index=False)\n",
    "    print(f\"Archivo {clean_file_name} creado con éxito.\")"
   ],
   "id": "74af5336f7e5294c",
   "outputs": [],
   "execution_count": 11
  },
  {
   "metadata": {
    "ExecuteTime": {
     "end_time": "2024-09-26T19:49:14.221238Z",
     "start_time": "2024-09-26T19:45:51.724266Z"
    }
   },
   "cell_type": "code",
   "source": [
    "# Exportar cada hoja a un archivo CSV\n",
    "for index, sheet in enumerate(sheet_names, start=1):\n",
    "    export_sheet_to_csv(sheet, xls, index)\n",
    "\n",
    "print(\"Exportación completa.\")"
   ],
   "id": "931f7db47a17b506",
   "outputs": [
    {
     "name": "stdout",
     "output_type": "stream",
     "text": [
      "Archivo INFORMACIÓN_TRIMESTRAL_DE_ACCESOS_FIJOS_A_INTERNET_POR_PROVEEDOR__1.csv creado con éxito.\n",
      "Archivo INFORMACIÓN_TRIMESTRAL_DE_ACCESOS_FIJOS_A_INTERNET_POR_DEPARTAMENTO_Y_POBLACIÓN_2.csv creado con éxito.\n",
      "Archivo INFORMACIÓN_TRIMESTRAL_DE_ACCESOS_FIJOS_A_INTERNET_POR_DEPARTAMENTO,_MUNICIPIO_Y_POBLACIÓN_3.csv creado con éxito.\n",
      "Archivo INFORMACIÓN_TRIMESTRAL_DE_ACCESOS_FIJOS_A_INTERNET_POR_PROVEEDOR,_DEPARTAMENTO,_MUNICIPIO,_SEGMENTO,_TECNOLOGIA,_Y_VELOCIDAD_DE_CONEXIÓN_4.csv creado con éxito.\n",
      "Archivo INFORMACIÓN_TRIMESTRAL_DE_ACCESOS_FIJOS_A_INTERNET_POR_PROVEEDOR,_DEPARTAMENTO,_MUNICIPIO,_SEGMENTO,_TECNOLOGIA,_Y_VELOCIDAD_DE_CONEXIÓN_5.csv creado con éxito.\n",
      "Archivo INFORMACIÓN_TRIMESTRAL_DE_ACCESOS_FIJOS_A_INTERNET_POR_PROVEEDOR,_DEPARTAMENTO,_MUNICIPIO,_SEGMENTO,_TECNOLOGIA,_Y_VELOCIDAD_DE_CONEXIÓN_6.csv creado con éxito.\n",
      "Archivo INFORMACIÓN_TRIMESTRAL_DE_ACCESOS_FIJOS_A_INTERNET_POR_PROVEEDOR,_DEPARTAMENTO,_MUNICIPIO,_SEGMENTO,_TECNOLOGIA,_Y_VELOCIDAD_DE_CONEXIÓN_7.csv creado con éxito.\n",
      "Archivo INFORMACIÓN_TRIMESTRAL_DE_INGRESOS_DEL_SERVICIO_DE_ACCESO_FIJO_A_INTERNET_POR_PROVEEDOR__8.csv creado con éxito.\n",
      "Archivo INFORMACIÓN_TRIMESTRAL_ABONADOS_DE_INTERNET_MÓVIL__DEMANDA,_POR_PROVEEDOR_9.csv creado con éxito.\n",
      "Archivo INFORMACIÓN_TRIMESTRAL_DE_INGRESOS_DE_INTERNET_MÓVIL_DEMANDA,_POR_PROVEEDOR_10.csv creado con éxito.\n",
      "Archivo INFORMACIÓN_TRIMESTRAL_DE_TRÁFICO_DE_INTERNET_MÓVIL_DEMANDA,_POR_PROVEEDOR_11.csv creado con éxito.\n",
      "Archivo INFORMACIÓN_TRIMESTRAL_SUSCRIPTORES_DE_INTERNET_MÓVIL_SUSCRIPCIÓN,_POR_PROVEEDOR_12.csv creado con éxito.\n",
      "Archivo INFORMACIÓN_TRIMESTRAL_DE_INGRESOS_DE_INTERNET_MÓVIL_SUSCRIPCIÓN,_POR_PROVEEDOR_13.csv creado con éxito.\n",
      "Archivo INFORMACIÓN_TRIMESTRAL_DE_TRÁFICO_DE_INTERNET_MÓVIL_SUSCRIPCIÓN,_POR_PROVEEDOR_14.csv creado con éxito.\n",
      "Archivo INFORMACIÓN_TRIMESTRAL_ABONADOS_DE_TELEFONÍA_MÓVIL_15.csv creado con éxito.\n",
      "Archivo INFORMACIÓN_TRIMESTRAL_-_TRÁFICO_DE_VOZ_EN_MINUTOS_DE_PROVEEDORES_DE_REDES_Y_SERVICIOS_MÓVILES,_POR_PROVEEDOR_16.csv creado con éxito.\n",
      "Archivo INFORMACIÓN_TRIMESTRAL_DE_INGRESOS_POR_TRÁFICO_DE_VOZ_DE_PROVEEDORES_DE_REDES_Y_SERVICIOS_MÓVILES_17.csv creado con éxito.\n",
      "Archivo INFORMACIÓN_TRIMESTRAL_DE_COBERTURA_MUNICIPAL_DEL_SERVICIO_MÓVIL_18.csv creado con éxito.\n",
      "Archivo LÍNEAS_EN_SERVICIO_POR_ESTRATO_Y_MUNICIPIO_DE_TELEFONÍA_PÚBLICA_BÁSICA_CONMUTADA_19.csv creado con éxito.\n",
      "Archivo INFORMACIÓN_TRIMESTRAL_DE_INGRESOS_DE_TELEFONÍA_FIJA_20.csv creado con éxito.\n",
      "Exportación completa.\n"
     ]
    }
   ],
   "execution_count": 12
  },
  {
   "metadata": {
    "ExecuteTime": {
     "end_time": "2024-09-26T20:29:29.549202Z",
     "start_time": "2024-09-26T20:29:29.509581Z"
    }
   },
   "cell_type": "code",
   "source": [
    "import os\n",
    "import pandas as pd\n",
    "\n",
    "# Ruta de la carpeta donde están los CSVs\n",
    "folder_path = '../Limpieza'\n",
    "\n",
    "# Función para leer las columnas de cada archivo CSV\n",
    "def listar_columnas_csv(folder_path):\n",
    "    archivos_csv = [f for f in os.listdir(folder_path) if f.endswith('.csv')]\n",
    "    columnas_por_archivo = {}\n",
    "\n",
    "    for archivo in archivos_csv:\n",
    "        archivo_path = os.path.join(folder_path, archivo)\n",
    "        try:\n",
    "            df = pd.read_csv(archivo_path, nrows=5)  # Leer solo las primeras filas para obtener las columnas\n",
    "            columnas_por_archivo[archivo] = df.columns.tolist()\n",
    "        except Exception as e:\n",
    "            print(f\"Error al leer {archivo}: {e}\")\n",
    "\n",
    "    return columnas_por_archivo\n",
    "\n",
    "# Ejecutar la función y obtener las columnas de cada archivo CSV\n",
    "columnas_por_archivo = listar_columnas_csv(folder_path)\n",
    "\n",
    "# Mostrar el resultado\n",
    "for archivo, columnas in columnas_por_archivo.items():\n",
    "    print(f\"Archivo: {archivo}\")\n",
    "    print(f\"Columnas: {columnas}\\n\")\n"
   ],
   "id": "d81f78dbb7e4728e",
   "outputs": [
    {
     "name": "stdout",
     "output_type": "stream",
     "text": [
      "Archivo: LÍNEAS_EN_SERVICIO_POR_ESTRATO_Y_MUNICIPIO_DE_TELEFONÍA_PÚBLICA_BÁSICA_CONMUTADA_19.csv\n",
      "Columnas: ['AÑO', 'TRIMESTRE', 'PROVEEDOR', 'CÓDIGO DANE DEPARTAMENTO', 'DEPARTAMENTO', 'CÓDIGO DANE MUNICIPIO', 'MUNICIPIO', 'SEGMENTO', 'LÍNEAS EN SERVICIO']\n",
      "\n",
      "Archivo: INFORMACIÓN_TRIMESTRAL_DE_TRÁFICO_DE_INTERNET_MÓVIL_SUSCRIPCIÓN,_POR_PROVEEDOR_14.csv\n",
      "Columnas: ['AÑO', 'TRIMESTRE', 'PROVEEDOR', 'TRÁFICO (MB)']\n",
      "\n",
      "Archivo: INFORMACIÓN_TRIMESTRAL_DE_COBERTURA_MUNICIPAL_DEL_SERVICIO_MÓVIL_18.csv\n",
      "Columnas: ['AÑO', 'TRIMESTRE', 'PROVEEDOR', 'CÓDIGO DANE', 'DEPARTAMENTO', 'CÓDIGO DANE.1', 'MUNICIPIO', 'CABECERA MUNICIPAL ', 'CÓDIGO DANE.2', 'CENTRO POBLADO', 'COBERTURA 2G', 'COBERTURA 3G', 'COBERTURA HSPA+, HSPA+DC', 'COBERTURA_4G', 'COBERTURA_LTE', 'COBERTURA_5G']\n",
      "\n",
      "Archivo: INFORMACIÓN_TRIMESTRAL_DE_ACCESOS_FIJOS_A_INTERNET_POR_PROVEEDOR,_DEPARTAMENTO,_MUNICIPIO,_SEGMENTO,_TECNOLOGIA,_Y_VELOCIDAD_DE_CONEXIÓN_6.csv\n",
      "Columnas: ['AÑO', 'TRIMESTRE', 'PROVEEDOR', 'CÓDIGO DANE', 'DEPARTAMENTO', 'CÓDIGO DANE.1', 'MUNICIPIO', 'SEGMENTO', 'TECNOLOGÍA', 'VELOCIDAD BAJADA', 'VELOCIDAD SUBIDA', 'No. ACCESOS FIJOS A INTERNET']\n",
      "\n",
      "Archivo: INFORMACIÓN_TRIMESTRAL_DE_ACCESOS_FIJOS_A_INTERNET_POR_DEPARTAMENTO,_MUNICIPIO_Y_POBLACIÓN_3.csv\n",
      "Columnas: ['AÑO', 'TRIMESTRE', 'CÓDIGO DANE', 'DEPARTAMENTO', 'CÓDIGO DANE.1', 'MUNICIPIO', 'No. ACCESOS FIJOS A INTERNET', 'POBLACIÓN DANE', 'PENETRACIÓN']\n",
      "\n",
      "Archivo: INFORMACIÓN_TRIMESTRAL_ABONADOS_DE_TELEFONÍA_MÓVIL_15.csv\n",
      "Columnas: ['AÑO', 'TRIMESTRE', 'PROVEEDOR', 'LÍNEAS EN SERVICIO', 'LÍNEAS PREPAGO', 'LÍNEAS POSPAGO', 'LÍNEAS ACTIVADAS', 'LÍNEAS RETIRADAS']\n",
      "\n",
      "Archivo: INFORMACIÓN_TRIMESTRAL_ABONADOS_DE_INTERNET_MÓVIL__DEMANDA,_POR_PROVEEDOR_9.csv\n",
      "Columnas: ['AÑO', 'TRIMESTRE', 'PROVEEDOR', 'SEGMENTO', 'TERMINAL', 'TECNOLOGÍA', 'No. ABONADOS']\n",
      "\n",
      "Archivo: INFORMACIÓN_TRIMESTRAL_DE_ACCESOS_FIJOS_A_INTERNET_POR_DEPARTAMENTO_Y_POBLACIÓN_2.csv\n",
      "Columnas: ['AÑO', 'TRIMESTRE', 'CÓDIGO DANE', 'DEPARTAMENTO', 'No. ACCESOS FIJOS A INTERNET', 'POBLACIÓN DANE', 'PENETRACIÓN']\n",
      "\n",
      "Archivo: INFORMACIÓN_TRIMESTRAL_-_TRÁFICO_DE_VOZ_EN_MINUTOS_DE_PROVEEDORES_DE_REDES_Y_SERVICIOS_MÓVILES,_POR_PROVEEDOR_16.csv\n",
      "Columnas: ['AÑO', 'TRIMESTRE', 'PROVEEDOR', 'PROVEEDOR DESTINO', 'TRÁFICO PREPAGO', 'TRÁFICO POSPAGO']\n",
      "\n",
      "Archivo: INFORMACIÓN_TRIMESTRAL_DE_ACCESOS_FIJOS_A_INTERNET_POR_PROVEEDOR,_DEPARTAMENTO,_MUNICIPIO,_SEGMENTO,_TECNOLOGIA,_Y_VELOCIDAD_DE_CONEXIÓN_7.csv\n",
      "Columnas: ['AÑO', 'TRIMESTRE', 'PROVEEDOR', 'CÓDIGO DANE', 'DEPARTAMENTO', 'CÓDIGO DANE.1', 'MUNICIPIO', 'SEGMENTO', 'TECNOLOGÍA', 'VELOCIDAD BAJADA', 'VELOCIDAD SUBIDA', 'No. ACCESOS FIJOS A INTERNET']\n",
      "\n",
      "Archivo: INFORMACIÓN_TRIMESTRAL_DE_INGRESOS_DE_INTERNET_MÓVIL_DEMANDA,_POR_PROVEEDOR_10.csv\n",
      "Columnas: ['AÑO', 'TRIMESTRE', 'PROVEEDOR', 'SEGMENTO', 'TERMINAL', 'INGRESOS']\n",
      "\n",
      "Archivo: INFORMACIÓN_TRIMESTRAL_DE_ACCESOS_FIJOS_A_INTERNET_POR_PROVEEDOR__1.csv\n",
      "Columnas: ['AÑO', 'TRIMESTRE', 'PROVEEDOR', 'No. ACCESOS FIJOS A INTERNET']\n",
      "\n",
      "Archivo: INFORMACIÓN_TRIMESTRAL_DE_TRÁFICO_DE_INTERNET_MÓVIL_DEMANDA,_POR_PROVEEDOR_11.csv\n",
      "Columnas: ['AÑO', 'TRIMESTRE', 'PROVEEDOR', 'SEGMENTO', 'TRÁFICO (MB)']\n",
      "\n",
      "Archivo: INFORMACIÓN_TRIMESTRAL_DE_ACCESOS_FIJOS_A_INTERNET_POR_PROVEEDOR,_DEPARTAMENTO,_MUNICIPIO,_SEGMENTO,_TECNOLOGIA,_Y_VELOCIDAD_DE_CONEXIÓN_4.csv\n",
      "Columnas: ['AÑO', 'TRIMESTRE', 'PROVEEDOR', 'CÓDIGO DANE', 'DEPARTAMENTO', 'CÓDIGO DANE.1', 'MUNICIPIO', 'SEGMENTO', 'TECNOLOGÍA', 'VELOCIDAD BAJADA', 'VELOCIDAD SUBIDA', 'No. ACCESOS FIJOS A INTERNET']\n",
      "\n",
      "Archivo: INFORMACIÓN_TRIMESTRAL_DE_ACCESOS_FIJOS_A_INTERNET_POR_PROVEEDOR,_DEPARTAMENTO,_MUNICIPIO,_SEGMENTO,_TECNOLOGIA,_Y_VELOCIDAD_DE_CONEXIÓN_5.csv\n",
      "Columnas: ['AÑO', 'TRIMESTRE', 'PROVEEDOR', 'CÓDIGO DANE', 'DEPARTAMENTO', 'CÓDIGO DANE.1', 'MUNICIPIO', 'SEGMENTO', 'TECNOLOGÍA', 'VELOCIDAD BAJADA', 'VELOCIDAD SUBIDA', 'No. ACCESOS FIJOS A INTERNET']\n",
      "\n",
      "Archivo: INFORMACIÓN_TRIMESTRAL_DE_INGRESOS_POR_TRÁFICO_DE_VOZ_DE_PROVEEDORES_DE_REDES_Y_SERVICIOS_MÓVILES_17.csv\n",
      "Columnas: ['AÑO', 'TRIMESTRE', 'PROVEEDOR', 'CONSUMO PREPAGO', 'CONSUMO POSPAGO', 'INGRESOS OPERACIONALES']\n",
      "\n",
      "Archivo: INFORMACIÓN_TRIMESTRAL_DE_INGRESOS_DEL_SERVICIO_DE_ACCESO_FIJO_A_INTERNET_POR_PROVEEDOR__8.csv\n",
      "Columnas: ['AÑO', 'TRIMESTRE', 'PROVEEDOR', 'INGRESOS (Pesos)']\n",
      "\n",
      "Archivo: INFORMACIÓN_TRIMESTRAL_DE_INGRESOS_DE_TELEFONÍA_FIJA_20.csv\n",
      "Columnas: ['AÑO', 'TRIMESTRE', 'PROVEEDOR', 'INGRESOS TRÁFICO LDIE', 'INGRESOS TRÁFICO LDIS', 'INGRESOS TELEFONIA FIJA']\n",
      "\n",
      "Archivo: INFORMACIÓN_TRIMESTRAL_SUSCRIPTORES_DE_INTERNET_MÓVIL_SUSCRIPCIÓN,_POR_PROVEEDOR_12.csv\n",
      "Columnas: ['AÑO', 'TRIMESTRE', 'PROVEEDOR', 'SEGMENTO', 'TERMINAL', 'TECNOLOGÍA', 'No. SUSCRIPTORES']\n",
      "\n",
      "Archivo: INFORMACIÓN_TRIMESTRAL_DE_INGRESOS_DE_INTERNET_MÓVIL_SUSCRIPCIÓN,_POR_PROVEEDOR_13.csv\n",
      "Columnas: ['AÑO', 'TRIMESTRE', 'PROVEEDOR', 'SEGMENTO', 'TERMINAL', 'INGRESOS']\n",
      "\n"
     ]
    }
   ],
   "execution_count": 18
  },
  {
   "metadata": {},
   "cell_type": "code",
   "outputs": [],
   "execution_count": null,
   "source": "",
   "id": "913d9f555ea8febc"
  }
 ],
 "metadata": {
  "kernelspec": {
   "display_name": "Python 3",
   "language": "python",
   "name": "python3"
  },
  "language_info": {
   "codemirror_mode": {
    "name": "ipython",
    "version": 2
   },
   "file_extension": ".py",
   "mimetype": "text/x-python",
   "name": "python",
   "nbconvert_exporter": "python",
   "pygments_lexer": "ipython2",
   "version": "2.7.6"
  }
 },
 "nbformat": 4,
 "nbformat_minor": 5
}
