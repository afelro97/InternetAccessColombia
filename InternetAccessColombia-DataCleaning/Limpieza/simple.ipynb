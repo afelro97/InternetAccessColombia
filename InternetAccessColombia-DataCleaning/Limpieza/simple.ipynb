{
 "cells": [
  {
   "metadata": {
    "ExecuteTime": {
     "end_time": "2024-10-04T22:14:07.532392Z",
     "start_time": "2024-10-04T22:14:07.529070Z"
    }
   },
   "cell_type": "code",
   "source": [
    "import pandas as pd\n",
    "import boto3\n",
    "import os"
   ],
   "id": "458ad1141d42a3a1",
   "outputs": [],
   "execution_count": 13
  },
  {
   "metadata": {
    "ExecuteTime": {
     "end_time": "2024-10-04T22:11:51.544544Z",
     "start_time": "2024-10-04T22:11:51.449699Z"
    }
   },
   "cell_type": "code",
   "source": "s3 = boto3.client('s3')",
   "id": "923aa03bbfb54190",
   "outputs": [],
   "execution_count": 8
  },
  {
   "metadata": {
    "ExecuteTime": {
     "end_time": "2024-10-04T22:13:36.490459Z",
     "start_time": "2024-10-04T22:13:36.487327Z"
    }
   },
   "cell_type": "code",
   "source": "bucket_name = 'datainternetaccess-cleaning'",
   "id": "8d28797ca5c6a82e",
   "outputs": [],
   "execution_count": 9
  },
  {
   "metadata": {
    "ExecuteTime": {
     "end_time": "2024-09-26T19:45:47.692268Z",
     "start_time": "2024-09-26T19:45:47.480633Z"
    }
   },
   "cell_type": "code",
   "source": [
    "# Cargar el archivo Excel\n",
    "file_path = 'data/articles-383732_archivo_xls.xlsx'\n",
    "xls = pd.ExcelFile(file_path)"
   ],
   "id": "316698ffe1cb2396",
   "outputs": [],
   "execution_count": 8
  },
  {
   "metadata": {
    "ExecuteTime": {
     "end_time": "2024-10-04T22:13:49.487995Z",
     "start_time": "2024-10-04T22:13:48.706034Z"
    }
   },
   "cell_type": "code",
   "source": [
    "# Crear el bucket\n",
    "try:\n",
    "    s3.create_bucket(Bucket=bucket_name, CreateBucketConfiguration={\n",
    "        'LocationConstraint': 'us-west-1'  # Ajusta la región según tus necesidades\n",
    "    })\n",
    "    print(f\"Bucket {bucket_name} creado con éxito.\")\n",
    "except Exception as e:\n",
    "    print(f\"Error al crear el bucket: {e}\")\n"
   ],
   "id": "6072d4adf58c1710",
   "outputs": [
    {
     "name": "stdout",
     "output_type": "stream",
     "text": [
      "Bucket datainternetaccess-cleaning creado con éxito.\n"
     ]
    }
   ],
   "execution_count": 10
  },
  {
   "metadata": {
    "ExecuteTime": {
     "end_time": "2024-10-04T22:13:59.386471Z",
     "start_time": "2024-10-04T22:13:59.383708Z"
    }
   },
   "cell_type": "code",
   "source": [
    "# Subir los archivos de la carpeta 'data'\n",
    "folder_path = 'data/'"
   ],
   "id": "dbe278ca1701ac9a",
   "outputs": [],
   "execution_count": 11
  },
  {
   "metadata": {
    "ExecuteTime": {
     "end_time": "2024-10-04T22:18:59.883143Z",
     "start_time": "2024-10-04T22:14:09.159199Z"
    }
   },
   "cell_type": "code",
   "source": [
    "for file_name in os.listdir(folder_path):\n",
    "    file_path = os.path.join(folder_path, file_name)\n",
    "\n",
    "    if os.path.isfile(file_path):\n",
    "        try:\n",
    "            s3.upload_file(file_path, bucket_name, file_name)\n",
    "            print(f\"Archivo {file_name} subido con éxito al bucket {bucket_name}.\")\n",
    "        except Exception as e:\n",
    "            print(f\"Error al subir el archivo {file_name}: {e}\")"
   ],
   "id": "ed908c6b27d4f95e",
   "outputs": [
    {
     "name": "stdout",
     "output_type": "stream",
     "text": [
      "Archivo LÍNEAS_EN_SERVICIO_POR_ESTRATO_Y_MUNICIPIO_DE_TELEFONÍA_PÚBLICA_BÁSICA_CONMUTADA_19.csv subido con éxito al bucket datainternetaccess-cleaning.\n",
      "Archivo articles-383732_archivo_xls.xlsx:Zone.Identifier subido con éxito al bucket datainternetaccess-cleaning.\n",
      "Archivo INFORMACIÓN_TRIMESTRAL_DE_TRÁFICO_DE_INTERNET_MÓVIL_SUSCRIPCIÓN,_POR_PROVEEDOR_14.csv subido con éxito al bucket datainternetaccess-cleaning.\n",
      "Archivo INFORMACIÓN_TRIMESTRAL_DE_COBERTURA_MUNICIPAL_DEL_SERVICIO_MÓVIL_18.csv subido con éxito al bucket datainternetaccess-cleaning.\n",
      "Archivo INFORMACIÓN_TRIMESTRAL_DE_ACCESOS_FIJOS_A_INTERNET_POR_PROVEEDOR,_DEPARTAMENTO,_MUNICIPIO,_SEGMENTO,_TECNOLOGIA,_Y_VELOCIDAD_DE_CONEXIÓN_6.csv subido con éxito al bucket datainternetaccess-cleaning.\n",
      "Archivo INFORMACIÓN_TRIMESTRAL_DE_ACCESOS_FIJOS_A_INTERNET_POR_DEPARTAMENTO,_MUNICIPIO_Y_POBLACIÓN_3.csv subido con éxito al bucket datainternetaccess-cleaning.\n",
      "Archivo INFORMACIÓN_TRIMESTRAL_ABONADOS_DE_TELEFONÍA_MÓVIL_15.csv subido con éxito al bucket datainternetaccess-cleaning.\n",
      "Archivo INFORMACIÓN_TRIMESTRAL_ABONADOS_DE_INTERNET_MÓVIL__DEMANDA,_POR_PROVEEDOR_9.csv subido con éxito al bucket datainternetaccess-cleaning.\n",
      "Archivo INFORMACIÓN_TRIMESTRAL_DE_ACCESOS_FIJOS_A_INTERNET_POR_DEPARTAMENTO_Y_POBLACIÓN_2.csv subido con éxito al bucket datainternetaccess-cleaning.\n",
      "Archivo INFORMACIÓN_TRIMESTRAL_-_TRÁFICO_DE_VOZ_EN_MINUTOS_DE_PROVEEDORES_DE_REDES_Y_SERVICIOS_MÓVILES,_POR_PROVEEDOR_16.csv subido con éxito al bucket datainternetaccess-cleaning.\n",
      "Archivo INFORMACIÓN_TRIMESTRAL_DE_ACCESOS_FIJOS_A_INTERNET_POR_PROVEEDOR,_DEPARTAMENTO,_MUNICIPIO,_SEGMENTO,_TECNOLOGIA,_Y_VELOCIDAD_DE_CONEXIÓN_7.csv subido con éxito al bucket datainternetaccess-cleaning.\n",
      "Archivo INFORMACIÓN_TRIMESTRAL_DE_INGRESOS_DE_INTERNET_MÓVIL_DEMANDA,_POR_PROVEEDOR_10.csv subido con éxito al bucket datainternetaccess-cleaning.\n",
      "Archivo INFORMACIÓN_TRIMESTRAL_DE_ACCESOS_FIJOS_A_INTERNET_POR_PROVEEDOR__1.csv subido con éxito al bucket datainternetaccess-cleaning.\n",
      "Archivo INFORMACIÓN_TRIMESTRAL_DE_TRÁFICO_DE_INTERNET_MÓVIL_DEMANDA,_POR_PROVEEDOR_11.csv subido con éxito al bucket datainternetaccess-cleaning.\n",
      "Archivo proveedores_floridablanca_santander_fibra_detalle.csv subido con éxito al bucket datainternetaccess-cleaning.\n",
      "Archivo INFORMACIÓN_TRIMESTRAL_DE_ACCESOS_FIJOS_A_INTERNET_POR_PROVEEDOR,_DEPARTAMENTO,_MUNICIPIO,_SEGMENTO,_TECNOLOGIA,_Y_VELOCIDAD_DE_CONEXIÓN_4.csv subido con éxito al bucket datainternetaccess-cleaning.\n",
      "Archivo INFORMACIÓN_TRIMESTRAL_DE_ACCESOS_FIJOS_A_INTERNET_POR_PROVEEDOR,_DEPARTAMENTO,_MUNICIPIO,_SEGMENTO,_TECNOLOGIA,_Y_VELOCIDAD_DE_CONEXIÓN_5.csv subido con éxito al bucket datainternetaccess-cleaning.\n",
      "Archivo INFORMACIÓN_TRIMESTRAL_DE_INGRESOS_POR_TRÁFICO_DE_VOZ_DE_PROVEEDORES_DE_REDES_Y_SERVICIOS_MÓVILES_17.csv subido con éxito al bucket datainternetaccess-cleaning.\n",
      "Archivo INFORMACIÓN_TRIMESTRAL_DE_INGRESOS_DEL_SERVICIO_DE_ACCESO_FIJO_A_INTERNET_POR_PROVEEDOR__8.csv subido con éxito al bucket datainternetaccess-cleaning.\n",
      "Archivo articles-383732_archivo_xls.xlsx subido con éxito al bucket datainternetaccess-cleaning.\n",
      "Archivo INFORMACIÓN_TRIMESTRAL_DE_ACCESOS_FIJOS_A_INTERNET_POR_PROVEEDOR,_DEPARTAMENTO,_MUNICIPIO,_SEGMENTO,_TECNOLOGIA,_Y_VELOCIDAD_DE_CONEXIÓN_COMPLETO.csv subido con éxito al bucket datainternetaccess-cleaning.\n",
      "Archivo INFORMACIÓN_TRIMESTRAL_DE_INGRESOS_DE_TELEFONÍA_FIJA_20.csv subido con éxito al bucket datainternetaccess-cleaning.\n",
      "Archivo INFORMACIÓN_TRIMESTRAL_SUSCRIPTORES_DE_INTERNET_MÓVIL_SUSCRIPCIÓN,_POR_PROVEEDOR_12.csv subido con éxito al bucket datainternetaccess-cleaning.\n",
      "Archivo INFORMACIÓN_TRIMESTRAL_DE_INGRESOS_DE_INTERNET_MÓVIL_SUSCRIPCIÓN,_POR_PROVEEDOR_13.csv subido con éxito al bucket datainternetaccess-cleaning.\n"
     ]
    }
   ],
   "execution_count": 14
  },
  {
   "metadata": {
    "ExecuteTime": {
     "end_time": "2024-10-04T22:21:34.613730Z",
     "start_time": "2024-10-04T22:21:34.610632Z"
    }
   },
   "cell_type": "code",
   "source": [
    "# Directorio local donde guardar los archivos descargados\n",
    "download_folder = 'data/'"
   ],
   "id": "e50d99a142285d27",
   "outputs": [],
   "execution_count": 15
  },
  {
   "metadata": {
    "ExecuteTime": {
     "end_time": "2024-10-04T22:21:44.521488Z",
     "start_time": "2024-10-04T22:21:39.945104Z"
    }
   },
   "cell_type": "code",
   "source": [
    "# Verificar si los archivos están en S3 y descargarlos si no están\n",
    "for file_name in os.listdir(download_folder):\n",
    "    local_file_path = os.path.join(download_folder, file_name)\n",
    "\n",
    "    try:\n",
    "        # Verificar si el archivo existe en el bucket\n",
    "        s3.head_object(Bucket=bucket_name, Key=file_name)\n",
    "        print(f\"El archivo {file_name} ya existe en el bucket {bucket_name}.\")\n",
    "    except Exception as e:\n",
    "        print(f\"El archivo {file_name} no existe en el bucket. Descargando...\")\n",
    "\n",
    "        try:\n",
    "            # Descargar el archivo desde S3\n",
    "            s3.download_file(bucket_name, file_name, local_file_path)\n",
    "            print(f\"Archivo {file_name} descargado con éxito.\")\n",
    "        except Exception as download_error:\n",
    "            print(f\"Error al descargar el archivo {file_name}: {download_error}\")"
   ],
   "id": "4a14158e85f8b3f9",
   "outputs": [
    {
     "name": "stdout",
     "output_type": "stream",
     "text": [
      "El archivo LÍNEAS_EN_SERVICIO_POR_ESTRATO_Y_MUNICIPIO_DE_TELEFONÍA_PÚBLICA_BÁSICA_CONMUTADA_19.csv ya existe en el bucket datainternetaccess-cleaning.\n",
      "El archivo articles-383732_archivo_xls.xlsx:Zone.Identifier ya existe en el bucket datainternetaccess-cleaning.\n",
      "El archivo INFORMACIÓN_TRIMESTRAL_DE_TRÁFICO_DE_INTERNET_MÓVIL_SUSCRIPCIÓN,_POR_PROVEEDOR_14.csv ya existe en el bucket datainternetaccess-cleaning.\n",
      "El archivo INFORMACIÓN_TRIMESTRAL_DE_COBERTURA_MUNICIPAL_DEL_SERVICIO_MÓVIL_18.csv ya existe en el bucket datainternetaccess-cleaning.\n",
      "El archivo INFORMACIÓN_TRIMESTRAL_DE_ACCESOS_FIJOS_A_INTERNET_POR_PROVEEDOR,_DEPARTAMENTO,_MUNICIPIO,_SEGMENTO,_TECNOLOGIA,_Y_VELOCIDAD_DE_CONEXIÓN_6.csv ya existe en el bucket datainternetaccess-cleaning.\n",
      "El archivo INFORMACIÓN_TRIMESTRAL_DE_ACCESOS_FIJOS_A_INTERNET_POR_DEPARTAMENTO,_MUNICIPIO_Y_POBLACIÓN_3.csv ya existe en el bucket datainternetaccess-cleaning.\n",
      "El archivo INFORMACIÓN_TRIMESTRAL_ABONADOS_DE_TELEFONÍA_MÓVIL_15.csv ya existe en el bucket datainternetaccess-cleaning.\n",
      "El archivo INFORMACIÓN_TRIMESTRAL_ABONADOS_DE_INTERNET_MÓVIL__DEMANDA,_POR_PROVEEDOR_9.csv ya existe en el bucket datainternetaccess-cleaning.\n",
      "El archivo INFORMACIÓN_TRIMESTRAL_DE_ACCESOS_FIJOS_A_INTERNET_POR_DEPARTAMENTO_Y_POBLACIÓN_2.csv ya existe en el bucket datainternetaccess-cleaning.\n",
      "El archivo INFORMACIÓN_TRIMESTRAL_-_TRÁFICO_DE_VOZ_EN_MINUTOS_DE_PROVEEDORES_DE_REDES_Y_SERVICIOS_MÓVILES,_POR_PROVEEDOR_16.csv ya existe en el bucket datainternetaccess-cleaning.\n",
      "El archivo INFORMACIÓN_TRIMESTRAL_DE_ACCESOS_FIJOS_A_INTERNET_POR_PROVEEDOR,_DEPARTAMENTO,_MUNICIPIO,_SEGMENTO,_TECNOLOGIA,_Y_VELOCIDAD_DE_CONEXIÓN_7.csv ya existe en el bucket datainternetaccess-cleaning.\n",
      "El archivo INFORMACIÓN_TRIMESTRAL_DE_INGRESOS_DE_INTERNET_MÓVIL_DEMANDA,_POR_PROVEEDOR_10.csv ya existe en el bucket datainternetaccess-cleaning.\n",
      "El archivo INFORMACIÓN_TRIMESTRAL_DE_ACCESOS_FIJOS_A_INTERNET_POR_PROVEEDOR__1.csv ya existe en el bucket datainternetaccess-cleaning.\n",
      "El archivo INFORMACIÓN_TRIMESTRAL_DE_TRÁFICO_DE_INTERNET_MÓVIL_DEMANDA,_POR_PROVEEDOR_11.csv ya existe en el bucket datainternetaccess-cleaning.\n",
      "El archivo proveedores_floridablanca_santander_fibra_detalle.csv ya existe en el bucket datainternetaccess-cleaning.\n",
      "El archivo INFORMACIÓN_TRIMESTRAL_DE_ACCESOS_FIJOS_A_INTERNET_POR_PROVEEDOR,_DEPARTAMENTO,_MUNICIPIO,_SEGMENTO,_TECNOLOGIA,_Y_VELOCIDAD_DE_CONEXIÓN_4.csv ya existe en el bucket datainternetaccess-cleaning.\n",
      "El archivo INFORMACIÓN_TRIMESTRAL_DE_ACCESOS_FIJOS_A_INTERNET_POR_PROVEEDOR,_DEPARTAMENTO,_MUNICIPIO,_SEGMENTO,_TECNOLOGIA,_Y_VELOCIDAD_DE_CONEXIÓN_5.csv ya existe en el bucket datainternetaccess-cleaning.\n",
      "El archivo INFORMACIÓN_TRIMESTRAL_DE_INGRESOS_POR_TRÁFICO_DE_VOZ_DE_PROVEEDORES_DE_REDES_Y_SERVICIOS_MÓVILES_17.csv ya existe en el bucket datainternetaccess-cleaning.\n",
      "El archivo INFORMACIÓN_TRIMESTRAL_DE_INGRESOS_DEL_SERVICIO_DE_ACCESO_FIJO_A_INTERNET_POR_PROVEEDOR__8.csv ya existe en el bucket datainternetaccess-cleaning.\n",
      "El archivo articles-383732_archivo_xls.xlsx ya existe en el bucket datainternetaccess-cleaning.\n",
      "El archivo INFORMACIÓN_TRIMESTRAL_DE_ACCESOS_FIJOS_A_INTERNET_POR_PROVEEDOR,_DEPARTAMENTO,_MUNICIPIO,_SEGMENTO,_TECNOLOGIA,_Y_VELOCIDAD_DE_CONEXIÓN_COMPLETO.csv ya existe en el bucket datainternetaccess-cleaning.\n",
      "El archivo INFORMACIÓN_TRIMESTRAL_DE_INGRESOS_DE_TELEFONÍA_FIJA_20.csv ya existe en el bucket datainternetaccess-cleaning.\n",
      "El archivo INFORMACIÓN_TRIMESTRAL_SUSCRIPTORES_DE_INTERNET_MÓVIL_SUSCRIPCIÓN,_POR_PROVEEDOR_12.csv ya existe en el bucket datainternetaccess-cleaning.\n",
      "El archivo INFORMACIÓN_TRIMESTRAL_DE_INGRESOS_DE_INTERNET_MÓVIL_SUSCRIPCIÓN,_POR_PROVEEDOR_13.csv ya existe en el bucket datainternetaccess-cleaning.\n"
     ]
    }
   ],
   "execution_count": 16
  },
  {
   "metadata": {
    "ExecuteTime": {
     "end_time": "2024-09-26T19:45:48.257480Z",
     "start_time": "2024-09-26T19:45:48.253907Z"
    }
   },
   "cell_type": "code",
   "source": [
    "# Obtener la lista de hojas, excluyendo las que no necesitas\n",
    "sheet_names = [sheet for sheet in xls.sheet_names if sheet not in ['PORTADA', 'CONTENIDO', '18']]"
   ],
   "id": "1a45a43a2af8bb8d",
   "outputs": [],
   "execution_count": 9
  },
  {
   "metadata": {
    "ExecuteTime": {
     "end_time": "2024-09-26T19:45:48.732760Z",
     "start_time": "2024-09-26T19:45:48.727263Z"
    }
   },
   "cell_type": "code",
   "source": "sheet_names",
   "id": "2e6330a336e2368",
   "outputs": [
    {
     "data": {
      "text/plain": [
       "['1',\n",
       " '2',\n",
       " '3',\n",
       " '4,1',\n",
       " '4,2',\n",
       " '4,3',\n",
       " '4,4',\n",
       " '5',\n",
       " '6',\n",
       " '7',\n",
       " '8',\n",
       " '9',\n",
       " '10',\n",
       " '11',\n",
       " '12',\n",
       " '13',\n",
       " '14',\n",
       " '15',\n",
       " '16',\n",
       " '17']"
      ]
     },
     "execution_count": 10,
     "metadata": {},
     "output_type": "execute_result"
    }
   ],
   "execution_count": 10
  },
  {
   "metadata": {
    "ExecuteTime": {
     "end_time": "2024-09-26T19:45:49.138906Z",
     "start_time": "2024-09-26T19:45:49.133892Z"
    }
   },
   "cell_type": "code",
   "source": [
    "# Función para limpiar y exportar datos de cada hoja\n",
    "def export_sheet_to_csv(sheet_name, xls, index):\n",
    "    # Leer la hoja, comenzando desde la fila 6 (excluyendo las 5 primeras)\n",
    "    df = pd.read_excel(xls, sheet_name=sheet_name, skiprows=5)\n",
    "\n",
    "    # Obtener el nombre del archivo desde la fila 1 (segunda fila en el índice 0), columna A (índice 0)\n",
    "    try:\n",
    "        sheet_name_row = pd.read_excel(xls, sheet_name=sheet_name, nrows=2).iloc[0, 0]  # Segunda fila, índice 0\n",
    "    except IndexError:\n",
    "        sheet_name_row = f\"archivo_{sheet_name}\"  # Nombre predeterminado en caso de error\n",
    "\n",
    "    # Crear el nombre del archivo utilizando el contenido de la segunda fila y agregando un sufijo único\n",
    "    clean_file_name = f\"{sheet_name_row}_{index}.csv\".replace(\" \", \"_\").replace(\"/\", \"_\")\n",
    "\n",
    "    # Guardar el CSV con el nombre generado\n",
    "    df.to_csv(clean_file_name, index=False)\n",
    "    print(f\"Archivo {clean_file_name} creado con éxito.\")"
   ],
   "id": "74af5336f7e5294c",
   "outputs": [],
   "execution_count": 11
  },
  {
   "metadata": {
    "ExecuteTime": {
     "end_time": "2024-09-26T19:49:14.221238Z",
     "start_time": "2024-09-26T19:45:51.724266Z"
    }
   },
   "cell_type": "code",
   "source": [
    "# Exportar cada hoja a un archivo CSV\n",
    "for index, sheet in enumerate(sheet_names, start=1):\n",
    "    export_sheet_to_csv(sheet, xls, index)\n",
    "\n",
    "print(\"Exportación completa.\")"
   ],
   "id": "931f7db47a17b506",
   "outputs": [
    {
     "name": "stdout",
     "output_type": "stream",
     "text": [
      "Archivo INFORMACIÓN_TRIMESTRAL_DE_ACCESOS_FIJOS_A_INTERNET_POR_PROVEEDOR__1.csv creado con éxito.\n",
      "Archivo INFORMACIÓN_TRIMESTRAL_DE_ACCESOS_FIJOS_A_INTERNET_POR_DEPARTAMENTO_Y_POBLACIÓN_2.csv creado con éxito.\n",
      "Archivo INFORMACIÓN_TRIMESTRAL_DE_ACCESOS_FIJOS_A_INTERNET_POR_DEPARTAMENTO,_MUNICIPIO_Y_POBLACIÓN_3.csv creado con éxito.\n",
      "Archivo INFORMACIÓN_TRIMESTRAL_DE_ACCESOS_FIJOS_A_INTERNET_POR_PROVEEDOR,_DEPARTAMENTO,_MUNICIPIO,_SEGMENTO,_TECNOLOGIA,_Y_VELOCIDAD_DE_CONEXIÓN_4.csv creado con éxito.\n",
      "Archivo INFORMACIÓN_TRIMESTRAL_DE_ACCESOS_FIJOS_A_INTERNET_POR_PROVEEDOR,_DEPARTAMENTO,_MUNICIPIO,_SEGMENTO,_TECNOLOGIA,_Y_VELOCIDAD_DE_CONEXIÓN_5.csv creado con éxito.\n",
      "Archivo INFORMACIÓN_TRIMESTRAL_DE_ACCESOS_FIJOS_A_INTERNET_POR_PROVEEDOR,_DEPARTAMENTO,_MUNICIPIO,_SEGMENTO,_TECNOLOGIA,_Y_VELOCIDAD_DE_CONEXIÓN_6.csv creado con éxito.\n",
      "Archivo INFORMACIÓN_TRIMESTRAL_DE_ACCESOS_FIJOS_A_INTERNET_POR_PROVEEDOR,_DEPARTAMENTO,_MUNICIPIO,_SEGMENTO,_TECNOLOGIA,_Y_VELOCIDAD_DE_CONEXIÓN_7.csv creado con éxito.\n",
      "Archivo INFORMACIÓN_TRIMESTRAL_DE_INGRESOS_DEL_SERVICIO_DE_ACCESO_FIJO_A_INTERNET_POR_PROVEEDOR__8.csv creado con éxito.\n",
      "Archivo INFORMACIÓN_TRIMESTRAL_ABONADOS_DE_INTERNET_MÓVIL__DEMANDA,_POR_PROVEEDOR_9.csv creado con éxito.\n",
      "Archivo INFORMACIÓN_TRIMESTRAL_DE_INGRESOS_DE_INTERNET_MÓVIL_DEMANDA,_POR_PROVEEDOR_10.csv creado con éxito.\n",
      "Archivo INFORMACIÓN_TRIMESTRAL_DE_TRÁFICO_DE_INTERNET_MÓVIL_DEMANDA,_POR_PROVEEDOR_11.csv creado con éxito.\n",
      "Archivo INFORMACIÓN_TRIMESTRAL_SUSCRIPTORES_DE_INTERNET_MÓVIL_SUSCRIPCIÓN,_POR_PROVEEDOR_12.csv creado con éxito.\n",
      "Archivo INFORMACIÓN_TRIMESTRAL_DE_INGRESOS_DE_INTERNET_MÓVIL_SUSCRIPCIÓN,_POR_PROVEEDOR_13.csv creado con éxito.\n",
      "Archivo INFORMACIÓN_TRIMESTRAL_DE_TRÁFICO_DE_INTERNET_MÓVIL_SUSCRIPCIÓN,_POR_PROVEEDOR_14.csv creado con éxito.\n",
      "Archivo INFORMACIÓN_TRIMESTRAL_ABONADOS_DE_TELEFONÍA_MÓVIL_15.csv creado con éxito.\n",
      "Archivo INFORMACIÓN_TRIMESTRAL_-_TRÁFICO_DE_VOZ_EN_MINUTOS_DE_PROVEEDORES_DE_REDES_Y_SERVICIOS_MÓVILES,_POR_PROVEEDOR_16.csv creado con éxito.\n",
      "Archivo INFORMACIÓN_TRIMESTRAL_DE_INGRESOS_POR_TRÁFICO_DE_VOZ_DE_PROVEEDORES_DE_REDES_Y_SERVICIOS_MÓVILES_17.csv creado con éxito.\n",
      "Archivo INFORMACIÓN_TRIMESTRAL_DE_COBERTURA_MUNICIPAL_DEL_SERVICIO_MÓVIL_18.csv creado con éxito.\n",
      "Archivo LÍNEAS_EN_SERVICIO_POR_ESTRATO_Y_MUNICIPIO_DE_TELEFONÍA_PÚBLICA_BÁSICA_CONMUTADA_19.csv creado con éxito.\n",
      "Archivo INFORMACIÓN_TRIMESTRAL_DE_INGRESOS_DE_TELEFONÍA_FIJA_20.csv creado con éxito.\n",
      "Exportación completa.\n"
     ]
    }
   ],
   "execution_count": 12
  },
  {
   "metadata": {
    "ExecuteTime": {
     "end_time": "2024-09-26T20:29:29.549202Z",
     "start_time": "2024-09-26T20:29:29.509581Z"
    }
   },
   "cell_type": "code",
   "source": [
    "import os\n",
    "import pandas as pd\n",
    "\n",
    "# Ruta de la carpeta donde están los CSVs\n",
    "folder_path = '../Limpieza'\n",
    "\n",
    "# Función para leer las columnas de cada archivo CSV\n",
    "def listar_columnas_csv(folder_path):\n",
    "    archivos_csv = [f for f in os.listdir(folder_path) if f.endswith('.csv')]\n",
    "    columnas_por_archivo = {}\n",
    "\n",
    "    for archivo in archivos_csv:\n",
    "        archivo_path = os.path.join(folder_path, archivo)\n",
    "        try:\n",
    "            df = pd.read_csv(archivo_path, nrows=5)  # Leer solo las primeras filas para obtener las columnas\n",
    "            columnas_por_archivo[archivo] = df.columns.tolist()\n",
    "        except Exception as e:\n",
    "            print(f\"Error al leer {archivo}: {e}\")\n",
    "\n",
    "    return columnas_por_archivo\n",
    "\n",
    "# Ejecutar la función y obtener las columnas de cada archivo CSV\n",
    "columnas_por_archivo = listar_columnas_csv(folder_path)\n",
    "\n",
    "# Mostrar el resultado\n",
    "for archivo, columnas in columnas_por_archivo.items():\n",
    "    print(f\"Archivo: {archivo}\")\n",
    "    print(f\"Columnas: {columnas}\\n\")\n"
   ],
   "id": "d81f78dbb7e4728e",
   "outputs": [
    {
     "name": "stdout",
     "output_type": "stream",
     "text": [
      "Archivo: LÍNEAS_EN_SERVICIO_POR_ESTRATO_Y_MUNICIPIO_DE_TELEFONÍA_PÚBLICA_BÁSICA_CONMUTADA_19.csv\n",
      "Columnas: ['AÑO', 'TRIMESTRE', 'PROVEEDOR', 'CÓDIGO DANE DEPARTAMENTO', 'DEPARTAMENTO', 'CÓDIGO DANE MUNICIPIO', 'MUNICIPIO', 'SEGMENTO', 'LÍNEAS EN SERVICIO']\n",
      "\n",
      "Archivo: INFORMACIÓN_TRIMESTRAL_DE_TRÁFICO_DE_INTERNET_MÓVIL_SUSCRIPCIÓN,_POR_PROVEEDOR_14.csv\n",
      "Columnas: ['AÑO', 'TRIMESTRE', 'PROVEEDOR', 'TRÁFICO (MB)']\n",
      "\n",
      "Archivo: INFORMACIÓN_TRIMESTRAL_DE_COBERTURA_MUNICIPAL_DEL_SERVICIO_MÓVIL_18.csv\n",
      "Columnas: ['AÑO', 'TRIMESTRE', 'PROVEEDOR', 'CÓDIGO DANE', 'DEPARTAMENTO', 'CÓDIGO DANE.1', 'MUNICIPIO', 'CABECERA MUNICIPAL ', 'CÓDIGO DANE.2', 'CENTRO POBLADO', 'COBERTURA 2G', 'COBERTURA 3G', 'COBERTURA HSPA+, HSPA+DC', 'COBERTURA_4G', 'COBERTURA_LTE', 'COBERTURA_5G']\n",
      "\n",
      "Archivo: INFORMACIÓN_TRIMESTRAL_DE_ACCESOS_FIJOS_A_INTERNET_POR_PROVEEDOR,_DEPARTAMENTO,_MUNICIPIO,_SEGMENTO,_TECNOLOGIA,_Y_VELOCIDAD_DE_CONEXIÓN_6.csv\n",
      "Columnas: ['AÑO', 'TRIMESTRE', 'PROVEEDOR', 'CÓDIGO DANE', 'DEPARTAMENTO', 'CÓDIGO DANE.1', 'MUNICIPIO', 'SEGMENTO', 'TECNOLOGÍA', 'VELOCIDAD BAJADA', 'VELOCIDAD SUBIDA', 'No. ACCESOS FIJOS A INTERNET']\n",
      "\n",
      "Archivo: INFORMACIÓN_TRIMESTRAL_DE_ACCESOS_FIJOS_A_INTERNET_POR_DEPARTAMENTO,_MUNICIPIO_Y_POBLACIÓN_3.csv\n",
      "Columnas: ['AÑO', 'TRIMESTRE', 'CÓDIGO DANE', 'DEPARTAMENTO', 'CÓDIGO DANE.1', 'MUNICIPIO', 'No. ACCESOS FIJOS A INTERNET', 'POBLACIÓN DANE', 'PENETRACIÓN']\n",
      "\n",
      "Archivo: INFORMACIÓN_TRIMESTRAL_ABONADOS_DE_TELEFONÍA_MÓVIL_15.csv\n",
      "Columnas: ['AÑO', 'TRIMESTRE', 'PROVEEDOR', 'LÍNEAS EN SERVICIO', 'LÍNEAS PREPAGO', 'LÍNEAS POSPAGO', 'LÍNEAS ACTIVADAS', 'LÍNEAS RETIRADAS']\n",
      "\n",
      "Archivo: INFORMACIÓN_TRIMESTRAL_ABONADOS_DE_INTERNET_MÓVIL__DEMANDA,_POR_PROVEEDOR_9.csv\n",
      "Columnas: ['AÑO', 'TRIMESTRE', 'PROVEEDOR', 'SEGMENTO', 'TERMINAL', 'TECNOLOGÍA', 'No. ABONADOS']\n",
      "\n",
      "Archivo: INFORMACIÓN_TRIMESTRAL_DE_ACCESOS_FIJOS_A_INTERNET_POR_DEPARTAMENTO_Y_POBLACIÓN_2.csv\n",
      "Columnas: ['AÑO', 'TRIMESTRE', 'CÓDIGO DANE', 'DEPARTAMENTO', 'No. ACCESOS FIJOS A INTERNET', 'POBLACIÓN DANE', 'PENETRACIÓN']\n",
      "\n",
      "Archivo: INFORMACIÓN_TRIMESTRAL_-_TRÁFICO_DE_VOZ_EN_MINUTOS_DE_PROVEEDORES_DE_REDES_Y_SERVICIOS_MÓVILES,_POR_PROVEEDOR_16.csv\n",
      "Columnas: ['AÑO', 'TRIMESTRE', 'PROVEEDOR', 'PROVEEDOR DESTINO', 'TRÁFICO PREPAGO', 'TRÁFICO POSPAGO']\n",
      "\n",
      "Archivo: INFORMACIÓN_TRIMESTRAL_DE_ACCESOS_FIJOS_A_INTERNET_POR_PROVEEDOR,_DEPARTAMENTO,_MUNICIPIO,_SEGMENTO,_TECNOLOGIA,_Y_VELOCIDAD_DE_CONEXIÓN_7.csv\n",
      "Columnas: ['AÑO', 'TRIMESTRE', 'PROVEEDOR', 'CÓDIGO DANE', 'DEPARTAMENTO', 'CÓDIGO DANE.1', 'MUNICIPIO', 'SEGMENTO', 'TECNOLOGÍA', 'VELOCIDAD BAJADA', 'VELOCIDAD SUBIDA', 'No. ACCESOS FIJOS A INTERNET']\n",
      "\n",
      "Archivo: INFORMACIÓN_TRIMESTRAL_DE_INGRESOS_DE_INTERNET_MÓVIL_DEMANDA,_POR_PROVEEDOR_10.csv\n",
      "Columnas: ['AÑO', 'TRIMESTRE', 'PROVEEDOR', 'SEGMENTO', 'TERMINAL', 'INGRESOS']\n",
      "\n",
      "Archivo: INFORMACIÓN_TRIMESTRAL_DE_ACCESOS_FIJOS_A_INTERNET_POR_PROVEEDOR__1.csv\n",
      "Columnas: ['AÑO', 'TRIMESTRE', 'PROVEEDOR', 'No. ACCESOS FIJOS A INTERNET']\n",
      "\n",
      "Archivo: INFORMACIÓN_TRIMESTRAL_DE_TRÁFICO_DE_INTERNET_MÓVIL_DEMANDA,_POR_PROVEEDOR_11.csv\n",
      "Columnas: ['AÑO', 'TRIMESTRE', 'PROVEEDOR', 'SEGMENTO', 'TRÁFICO (MB)']\n",
      "\n",
      "Archivo: INFORMACIÓN_TRIMESTRAL_DE_ACCESOS_FIJOS_A_INTERNET_POR_PROVEEDOR,_DEPARTAMENTO,_MUNICIPIO,_SEGMENTO,_TECNOLOGIA,_Y_VELOCIDAD_DE_CONEXIÓN_4.csv\n",
      "Columnas: ['AÑO', 'TRIMESTRE', 'PROVEEDOR', 'CÓDIGO DANE', 'DEPARTAMENTO', 'CÓDIGO DANE.1', 'MUNICIPIO', 'SEGMENTO', 'TECNOLOGÍA', 'VELOCIDAD BAJADA', 'VELOCIDAD SUBIDA', 'No. ACCESOS FIJOS A INTERNET']\n",
      "\n",
      "Archivo: INFORMACIÓN_TRIMESTRAL_DE_ACCESOS_FIJOS_A_INTERNET_POR_PROVEEDOR,_DEPARTAMENTO,_MUNICIPIO,_SEGMENTO,_TECNOLOGIA,_Y_VELOCIDAD_DE_CONEXIÓN_5.csv\n",
      "Columnas: ['AÑO', 'TRIMESTRE', 'PROVEEDOR', 'CÓDIGO DANE', 'DEPARTAMENTO', 'CÓDIGO DANE.1', 'MUNICIPIO', 'SEGMENTO', 'TECNOLOGÍA', 'VELOCIDAD BAJADA', 'VELOCIDAD SUBIDA', 'No. ACCESOS FIJOS A INTERNET']\n",
      "\n",
      "Archivo: INFORMACIÓN_TRIMESTRAL_DE_INGRESOS_POR_TRÁFICO_DE_VOZ_DE_PROVEEDORES_DE_REDES_Y_SERVICIOS_MÓVILES_17.csv\n",
      "Columnas: ['AÑO', 'TRIMESTRE', 'PROVEEDOR', 'CONSUMO PREPAGO', 'CONSUMO POSPAGO', 'INGRESOS OPERACIONALES']\n",
      "\n",
      "Archivo: INFORMACIÓN_TRIMESTRAL_DE_INGRESOS_DEL_SERVICIO_DE_ACCESO_FIJO_A_INTERNET_POR_PROVEEDOR__8.csv\n",
      "Columnas: ['AÑO', 'TRIMESTRE', 'PROVEEDOR', 'INGRESOS (Pesos)']\n",
      "\n",
      "Archivo: INFORMACIÓN_TRIMESTRAL_DE_INGRESOS_DE_TELEFONÍA_FIJA_20.csv\n",
      "Columnas: ['AÑO', 'TRIMESTRE', 'PROVEEDOR', 'INGRESOS TRÁFICO LDIE', 'INGRESOS TRÁFICO LDIS', 'INGRESOS TELEFONIA FIJA']\n",
      "\n",
      "Archivo: INFORMACIÓN_TRIMESTRAL_SUSCRIPTORES_DE_INTERNET_MÓVIL_SUSCRIPCIÓN,_POR_PROVEEDOR_12.csv\n",
      "Columnas: ['AÑO', 'TRIMESTRE', 'PROVEEDOR', 'SEGMENTO', 'TERMINAL', 'TECNOLOGÍA', 'No. SUSCRIPTORES']\n",
      "\n",
      "Archivo: INFORMACIÓN_TRIMESTRAL_DE_INGRESOS_DE_INTERNET_MÓVIL_SUSCRIPCIÓN,_POR_PROVEEDOR_13.csv\n",
      "Columnas: ['AÑO', 'TRIMESTRE', 'PROVEEDOR', 'SEGMENTO', 'TERMINAL', 'INGRESOS']\n",
      "\n"
     ]
    }
   ],
   "execution_count": 18
  },
  {
   "metadata": {
    "ExecuteTime": {
     "end_time": "2024-10-04T21:56:47.435684Z",
     "start_time": "2024-10-04T21:56:45.737623Z"
    }
   },
   "cell_type": "code",
   "source": "!pip install boto3",
   "id": "913d9f555ea8febc",
   "outputs": [
    {
     "name": "stdout",
     "output_type": "stream",
     "text": [
      "/bin/bash: warning: setlocale: LC_ALL: cannot change locale (en_US.UTF-8)\r\n",
      "Defaulting to user installation because normal site-packages is not writeable\r\n",
      "Requirement already satisfied: boto3 in /home/hadoop/.local/lib/python3.10/site-packages (1.35.14)\r\n",
      "Requirement already satisfied: botocore<1.36.0,>=1.35.14 in /home/hadoop/.local/lib/python3.10/site-packages (from boto3) (1.35.14)\r\n",
      "Requirement already satisfied: jmespath<2.0.0,>=0.7.1 in /home/hadoop/.local/lib/python3.10/site-packages (from boto3) (1.0.1)\r\n",
      "Requirement already satisfied: s3transfer<0.11.0,>=0.10.0 in /home/hadoop/.local/lib/python3.10/site-packages (from boto3) (0.10.2)\r\n",
      "Requirement already satisfied: python-dateutil<3.0.0,>=2.1 in /home/hadoop/.local/lib/python3.10/site-packages (from botocore<1.36.0,>=1.35.14->boto3) (2.9.0.post0)\r\n",
      "Requirement already satisfied: urllib3!=2.2.0,<3,>=1.25.4 in /home/hadoop/.local/lib/python3.10/site-packages (from botocore<1.36.0,>=1.35.14->boto3) (2.2.2)\r\n",
      "Requirement already satisfied: six>=1.5 in /usr/lib/python3/dist-packages (from python-dateutil<3.0.0,>=2.1->botocore<1.36.0,>=1.35.14->boto3) (1.16.0)\r\n"
     ]
    }
   ],
   "execution_count": 2
  },
  {
   "metadata": {
    "ExecuteTime": {
     "end_time": "2024-10-04T22:07:12.248314Z",
     "start_time": "2024-10-04T22:07:11.930234Z"
    }
   },
   "cell_type": "code",
   "source": "import boto3",
   "id": "24bed96ea79848c3",
   "outputs": [
    {
     "ename": "ImportError",
     "evalue": "cannot import name 'DEFAULT_CIPHERS' from 'urllib3.util.ssl_' (/home/hadoop/data-projects/InternetAccessColombia/.venv/lib/python3.10/site-packages/urllib3/util/ssl_.py)",
     "output_type": "error",
     "traceback": [
      "\u001B[0;31m---------------------------------------------------------------------------\u001B[0m",
      "\u001B[0;31mImportError\u001B[0m                               Traceback (most recent call last)",
      "Cell \u001B[0;32mIn[6], line 1\u001B[0m\n\u001B[0;32m----> 1\u001B[0m \u001B[38;5;28;01mimport\u001B[39;00m \u001B[38;5;21;01mboto3\u001B[39;00m\n",
      "File \u001B[0;32m~/data-projects/InternetAccessColombia/.venv/lib/python3.10/site-packages/boto3/__init__.py:16\u001B[0m\n\u001B[1;32m      1\u001B[0m \u001B[38;5;66;03m# Copyright 2014 Amazon.com, Inc. or its affiliates. All Rights Reserved.\u001B[39;00m\n\u001B[1;32m      2\u001B[0m \u001B[38;5;66;03m#\u001B[39;00m\n\u001B[1;32m      3\u001B[0m \u001B[38;5;66;03m# Licensed under the Apache License, Version 2.0 (the \"License\"). You\u001B[39;00m\n\u001B[0;32m   (...)\u001B[0m\n\u001B[1;32m     11\u001B[0m \u001B[38;5;66;03m# ANY KIND, either express or implied. See the License for the specific\u001B[39;00m\n\u001B[1;32m     12\u001B[0m \u001B[38;5;66;03m# language governing permissions and limitations under the License.\u001B[39;00m\n\u001B[1;32m     14\u001B[0m \u001B[38;5;28;01mimport\u001B[39;00m \u001B[38;5;21;01mlogging\u001B[39;00m\n\u001B[0;32m---> 16\u001B[0m \u001B[38;5;28;01mfrom\u001B[39;00m \u001B[38;5;21;01mboto3\u001B[39;00m\u001B[38;5;21;01m.\u001B[39;00m\u001B[38;5;21;01msession\u001B[39;00m \u001B[38;5;28;01mimport\u001B[39;00m Session\n\u001B[1;32m     17\u001B[0m \u001B[38;5;28;01mfrom\u001B[39;00m \u001B[38;5;21;01mboto3\u001B[39;00m\u001B[38;5;21;01m.\u001B[39;00m\u001B[38;5;21;01mcompat\u001B[39;00m \u001B[38;5;28;01mimport\u001B[39;00m _warn_deprecated_python\n\u001B[1;32m     20\u001B[0m __author__ \u001B[38;5;241m=\u001B[39m \u001B[38;5;124m'\u001B[39m\u001B[38;5;124mAmazon Web Services\u001B[39m\u001B[38;5;124m'\u001B[39m\n",
      "File \u001B[0;32m~/data-projects/InternetAccessColombia/.venv/lib/python3.10/site-packages/boto3/session.py:17\u001B[0m\n\u001B[1;32m     14\u001B[0m \u001B[38;5;28;01mimport\u001B[39;00m \u001B[38;5;21;01mcopy\u001B[39;00m\n\u001B[1;32m     15\u001B[0m \u001B[38;5;28;01mimport\u001B[39;00m \u001B[38;5;21;01mos\u001B[39;00m\n\u001B[0;32m---> 17\u001B[0m \u001B[38;5;28;01mimport\u001B[39;00m \u001B[38;5;21;01mbotocore\u001B[39;00m\u001B[38;5;21;01m.\u001B[39;00m\u001B[38;5;21;01msession\u001B[39;00m\n\u001B[1;32m     18\u001B[0m \u001B[38;5;28;01mfrom\u001B[39;00m \u001B[38;5;21;01mbotocore\u001B[39;00m\u001B[38;5;21;01m.\u001B[39;00m\u001B[38;5;21;01mclient\u001B[39;00m \u001B[38;5;28;01mimport\u001B[39;00m Config\n\u001B[1;32m     19\u001B[0m \u001B[38;5;28;01mfrom\u001B[39;00m \u001B[38;5;21;01mbotocore\u001B[39;00m\u001B[38;5;21;01m.\u001B[39;00m\u001B[38;5;21;01mexceptions\u001B[39;00m \u001B[38;5;28;01mimport\u001B[39;00m DataNotFoundError, UnknownServiceError\n",
      "File \u001B[0;32m~/data-projects/InternetAccessColombia/.venv/lib/python3.10/site-packages/botocore/session.py:26\u001B[0m\n\u001B[1;32m     23\u001B[0m \u001B[38;5;28;01mimport\u001B[39;00m \u001B[38;5;21;01msocket\u001B[39;00m\n\u001B[1;32m     24\u001B[0m \u001B[38;5;28;01mimport\u001B[39;00m \u001B[38;5;21;01mwarnings\u001B[39;00m\n\u001B[0;32m---> 26\u001B[0m \u001B[38;5;28;01mimport\u001B[39;00m \u001B[38;5;21;01mbotocore\u001B[39;00m\u001B[38;5;21;01m.\u001B[39;00m\u001B[38;5;21;01mclient\u001B[39;00m\n\u001B[1;32m     27\u001B[0m \u001B[38;5;28;01mimport\u001B[39;00m \u001B[38;5;21;01mbotocore\u001B[39;00m\u001B[38;5;21;01m.\u001B[39;00m\u001B[38;5;21;01mconfigloader\u001B[39;00m\n\u001B[1;32m     28\u001B[0m \u001B[38;5;28;01mimport\u001B[39;00m \u001B[38;5;21;01mbotocore\u001B[39;00m\u001B[38;5;21;01m.\u001B[39;00m\u001B[38;5;21;01mcredentials\u001B[39;00m\n",
      "File \u001B[0;32m~/data-projects/InternetAccessColombia/.venv/lib/python3.10/site-packages/botocore/client.py:15\u001B[0m\n\u001B[1;32m      1\u001B[0m \u001B[38;5;66;03m# Copyright 2014 Amazon.com, Inc. or its affiliates. All Rights Reserved.\u001B[39;00m\n\u001B[1;32m      2\u001B[0m \u001B[38;5;66;03m#\u001B[39;00m\n\u001B[1;32m      3\u001B[0m \u001B[38;5;66;03m# Licensed under the Apache License, Version 2.0 (the \"License\"). You\u001B[39;00m\n\u001B[0;32m   (...)\u001B[0m\n\u001B[1;32m     11\u001B[0m \u001B[38;5;66;03m# ANY KIND, either express or implied. See the License for the specific\u001B[39;00m\n\u001B[1;32m     12\u001B[0m \u001B[38;5;66;03m# language governing permissions and limitations under the License.\u001B[39;00m\n\u001B[1;32m     13\u001B[0m \u001B[38;5;28;01mimport\u001B[39;00m \u001B[38;5;21;01mlogging\u001B[39;00m\n\u001B[0;32m---> 15\u001B[0m \u001B[38;5;28;01mfrom\u001B[39;00m \u001B[38;5;21;01mbotocore\u001B[39;00m \u001B[38;5;28;01mimport\u001B[39;00m waiter, xform_name\n\u001B[1;32m     16\u001B[0m \u001B[38;5;28;01mfrom\u001B[39;00m \u001B[38;5;21;01mbotocore\u001B[39;00m\u001B[38;5;21;01m.\u001B[39;00m\u001B[38;5;21;01margs\u001B[39;00m \u001B[38;5;28;01mimport\u001B[39;00m ClientArgsCreator\n\u001B[1;32m     17\u001B[0m \u001B[38;5;28;01mfrom\u001B[39;00m \u001B[38;5;21;01mbotocore\u001B[39;00m\u001B[38;5;21;01m.\u001B[39;00m\u001B[38;5;21;01mauth\u001B[39;00m \u001B[38;5;28;01mimport\u001B[39;00m AUTH_TYPE_MAPS\n",
      "File \u001B[0;32m~/data-projects/InternetAccessColombia/.venv/lib/python3.10/site-packages/botocore/waiter.py:18\u001B[0m\n\u001B[1;32m     14\u001B[0m \u001B[38;5;28;01mimport\u001B[39;00m \u001B[38;5;21;01mtime\u001B[39;00m\n\u001B[1;32m     16\u001B[0m \u001B[38;5;28;01mimport\u001B[39;00m \u001B[38;5;21;01mjmespath\u001B[39;00m\n\u001B[0;32m---> 18\u001B[0m \u001B[38;5;28;01mfrom\u001B[39;00m \u001B[38;5;21;01mbotocore\u001B[39;00m\u001B[38;5;21;01m.\u001B[39;00m\u001B[38;5;21;01mdocs\u001B[39;00m\u001B[38;5;21;01m.\u001B[39;00m\u001B[38;5;21;01mdocstring\u001B[39;00m \u001B[38;5;28;01mimport\u001B[39;00m WaiterDocstring\n\u001B[1;32m     19\u001B[0m \u001B[38;5;28;01mfrom\u001B[39;00m \u001B[38;5;21;01mbotocore\u001B[39;00m\u001B[38;5;21;01m.\u001B[39;00m\u001B[38;5;21;01mutils\u001B[39;00m \u001B[38;5;28;01mimport\u001B[39;00m get_service_module_name\n\u001B[1;32m     21\u001B[0m \u001B[38;5;28;01mfrom\u001B[39;00m \u001B[38;5;21;01m.\u001B[39;00m \u001B[38;5;28;01mimport\u001B[39;00m xform_name\n",
      "File \u001B[0;32m~/data-projects/InternetAccessColombia/.venv/lib/python3.10/site-packages/botocore/docs/__init__.py:15\u001B[0m\n\u001B[1;32m      1\u001B[0m \u001B[38;5;66;03m# Copyright 2015 Amazon.com, Inc. or its affiliates. All Rights Reserved.\u001B[39;00m\n\u001B[1;32m      2\u001B[0m \u001B[38;5;66;03m#\u001B[39;00m\n\u001B[1;32m      3\u001B[0m \u001B[38;5;66;03m# Licensed under the Apache License, Version 2.0 (the \"License\"). You\u001B[39;00m\n\u001B[0;32m   (...)\u001B[0m\n\u001B[1;32m     11\u001B[0m \u001B[38;5;66;03m# ANY KIND, either express or implied. See the License for the specific\u001B[39;00m\n\u001B[1;32m     12\u001B[0m \u001B[38;5;66;03m# language governing permissions and limitations under the License.\u001B[39;00m\n\u001B[1;32m     13\u001B[0m \u001B[38;5;28;01mimport\u001B[39;00m \u001B[38;5;21;01mos\u001B[39;00m\n\u001B[0;32m---> 15\u001B[0m \u001B[38;5;28;01mfrom\u001B[39;00m \u001B[38;5;21;01mbotocore\u001B[39;00m\u001B[38;5;21;01m.\u001B[39;00m\u001B[38;5;21;01mdocs\u001B[39;00m\u001B[38;5;21;01m.\u001B[39;00m\u001B[38;5;21;01mservice\u001B[39;00m \u001B[38;5;28;01mimport\u001B[39;00m ServiceDocumenter\n\u001B[1;32m     18\u001B[0m \u001B[38;5;28;01mdef\u001B[39;00m \u001B[38;5;21mgenerate_docs\u001B[39m(root_dir, session):\n\u001B[1;32m     19\u001B[0m \u001B[38;5;250m    \u001B[39m\u001B[38;5;124;03m\"\"\"Generates the reference documentation for botocore\u001B[39;00m\n\u001B[1;32m     20\u001B[0m \n\u001B[1;32m     21\u001B[0m \u001B[38;5;124;03m    This will go through every available AWS service and output ReSTructured\u001B[39;00m\n\u001B[0;32m   (...)\u001B[0m\n\u001B[1;32m     26\u001B[0m \u001B[38;5;124;03m        root_dir/reference/services/service-name.rst\u001B[39;00m\n\u001B[1;32m     27\u001B[0m \u001B[38;5;124;03m    \"\"\"\u001B[39;00m\n",
      "File \u001B[0;32m~/data-projects/InternetAccessColombia/.venv/lib/python3.10/site-packages/botocore/docs/service.py:14\u001B[0m\n\u001B[1;32m      1\u001B[0m \u001B[38;5;66;03m# Copyright 2015 Amazon.com, Inc. or its affiliates. All Rights Reserved.\u001B[39;00m\n\u001B[1;32m      2\u001B[0m \u001B[38;5;66;03m#\u001B[39;00m\n\u001B[1;32m      3\u001B[0m \u001B[38;5;66;03m# Licensed under the Apache License, Version 2.0 (the \"License\"). You\u001B[39;00m\n\u001B[0;32m   (...)\u001B[0m\n\u001B[1;32m     11\u001B[0m \u001B[38;5;66;03m# ANY KIND, either express or implied. See the License for the specific\u001B[39;00m\n\u001B[1;32m     12\u001B[0m \u001B[38;5;66;03m# language governing permissions and limitations under the License.\u001B[39;00m\n\u001B[1;32m     13\u001B[0m \u001B[38;5;28;01mfrom\u001B[39;00m \u001B[38;5;21;01mbotocore\u001B[39;00m\u001B[38;5;21;01m.\u001B[39;00m\u001B[38;5;21;01mdocs\u001B[39;00m\u001B[38;5;21;01m.\u001B[39;00m\u001B[38;5;21;01mbcdoc\u001B[39;00m\u001B[38;5;21;01m.\u001B[39;00m\u001B[38;5;21;01mrestdoc\u001B[39;00m \u001B[38;5;28;01mimport\u001B[39;00m DocumentStructure\n\u001B[0;32m---> 14\u001B[0m \u001B[38;5;28;01mfrom\u001B[39;00m \u001B[38;5;21;01mbotocore\u001B[39;00m\u001B[38;5;21;01m.\u001B[39;00m\u001B[38;5;21;01mdocs\u001B[39;00m\u001B[38;5;21;01m.\u001B[39;00m\u001B[38;5;21;01mclient\u001B[39;00m \u001B[38;5;28;01mimport\u001B[39;00m ClientDocumenter, ClientExceptionsDocumenter\n\u001B[1;32m     15\u001B[0m \u001B[38;5;28;01mfrom\u001B[39;00m \u001B[38;5;21;01mbotocore\u001B[39;00m\u001B[38;5;21;01m.\u001B[39;00m\u001B[38;5;21;01mdocs\u001B[39;00m\u001B[38;5;21;01m.\u001B[39;00m\u001B[38;5;21;01mpaginator\u001B[39;00m \u001B[38;5;28;01mimport\u001B[39;00m PaginatorDocumenter\n\u001B[1;32m     16\u001B[0m \u001B[38;5;28;01mfrom\u001B[39;00m \u001B[38;5;21;01mbotocore\u001B[39;00m\u001B[38;5;21;01m.\u001B[39;00m\u001B[38;5;21;01mdocs\u001B[39;00m\u001B[38;5;21;01m.\u001B[39;00m\u001B[38;5;21;01mwaiter\u001B[39;00m \u001B[38;5;28;01mimport\u001B[39;00m WaiterDocumenter\n",
      "File \u001B[0;32m~/data-projects/InternetAccessColombia/.venv/lib/python3.10/site-packages/botocore/docs/client.py:14\u001B[0m\n\u001B[1;32m      1\u001B[0m \u001B[38;5;66;03m# Copyright 2015 Amazon.com, Inc. or its affiliates. All Rights Reserved.\u001B[39;00m\n\u001B[1;32m      2\u001B[0m \u001B[38;5;66;03m#\u001B[39;00m\n\u001B[1;32m      3\u001B[0m \u001B[38;5;66;03m# Licensed under the Apache License, Version 2.0 (the \"License\"). You\u001B[39;00m\n\u001B[0;32m   (...)\u001B[0m\n\u001B[1;32m     11\u001B[0m \u001B[38;5;66;03m# ANY KIND, either express or implied. See the License for the specific\u001B[39;00m\n\u001B[1;32m     12\u001B[0m \u001B[38;5;66;03m# language governing permissions and limitations under the License.\u001B[39;00m\n\u001B[1;32m     13\u001B[0m \u001B[38;5;28;01mfrom\u001B[39;00m \u001B[38;5;21;01mbotocore\u001B[39;00m\u001B[38;5;21;01m.\u001B[39;00m\u001B[38;5;21;01mcompat\u001B[39;00m \u001B[38;5;28;01mimport\u001B[39;00m OrderedDict\n\u001B[0;32m---> 14\u001B[0m \u001B[38;5;28;01mfrom\u001B[39;00m \u001B[38;5;21;01mbotocore\u001B[39;00m\u001B[38;5;21;01m.\u001B[39;00m\u001B[38;5;21;01mdocs\u001B[39;00m\u001B[38;5;21;01m.\u001B[39;00m\u001B[38;5;21;01mexample\u001B[39;00m \u001B[38;5;28;01mimport\u001B[39;00m ResponseExampleDocumenter\n\u001B[1;32m     15\u001B[0m \u001B[38;5;28;01mfrom\u001B[39;00m \u001B[38;5;21;01mbotocore\u001B[39;00m\u001B[38;5;21;01m.\u001B[39;00m\u001B[38;5;21;01mdocs\u001B[39;00m\u001B[38;5;21;01m.\u001B[39;00m\u001B[38;5;21;01mmethod\u001B[39;00m \u001B[38;5;28;01mimport\u001B[39;00m (\n\u001B[1;32m     16\u001B[0m     document_custom_method,\n\u001B[1;32m     17\u001B[0m     document_model_driven_method,\n\u001B[1;32m     18\u001B[0m     get_instance_public_methods,\n\u001B[1;32m     19\u001B[0m )\n\u001B[1;32m     20\u001B[0m \u001B[38;5;28;01mfrom\u001B[39;00m \u001B[38;5;21;01mbotocore\u001B[39;00m\u001B[38;5;21;01m.\u001B[39;00m\u001B[38;5;21;01mdocs\u001B[39;00m\u001B[38;5;21;01m.\u001B[39;00m\u001B[38;5;21;01mparams\u001B[39;00m \u001B[38;5;28;01mimport\u001B[39;00m ResponseParamsDocumenter\n",
      "File \u001B[0;32m~/data-projects/InternetAccessColombia/.venv/lib/python3.10/site-packages/botocore/docs/example.py:13\u001B[0m\n\u001B[1;32m      1\u001B[0m \u001B[38;5;66;03m# Copyright 2015 Amazon.com, Inc. or its affiliates. All Rights Reserved.\u001B[39;00m\n\u001B[1;32m      2\u001B[0m \u001B[38;5;66;03m#\u001B[39;00m\n\u001B[1;32m      3\u001B[0m \u001B[38;5;66;03m# Licensed under the Apache License, Version 2.0 (the \"License\"). You\u001B[39;00m\n\u001B[0;32m   (...)\u001B[0m\n\u001B[1;32m     11\u001B[0m \u001B[38;5;66;03m# ANY KIND, either express or implied. See the License for the specific\u001B[39;00m\n\u001B[1;32m     12\u001B[0m \u001B[38;5;66;03m# language governing permissions and limitations under the License.\u001B[39;00m\n\u001B[0;32m---> 13\u001B[0m \u001B[38;5;28;01mfrom\u001B[39;00m \u001B[38;5;21;01mbotocore\u001B[39;00m\u001B[38;5;21;01m.\u001B[39;00m\u001B[38;5;21;01mdocs\u001B[39;00m\u001B[38;5;21;01m.\u001B[39;00m\u001B[38;5;21;01mshape\u001B[39;00m \u001B[38;5;28;01mimport\u001B[39;00m ShapeDocumenter\n\u001B[1;32m     14\u001B[0m \u001B[38;5;28;01mfrom\u001B[39;00m \u001B[38;5;21;01mbotocore\u001B[39;00m\u001B[38;5;21;01m.\u001B[39;00m\u001B[38;5;21;01mdocs\u001B[39;00m\u001B[38;5;21;01m.\u001B[39;00m\u001B[38;5;21;01mutils\u001B[39;00m \u001B[38;5;28;01mimport\u001B[39;00m py_default\n\u001B[1;32m     17\u001B[0m \u001B[38;5;28;01mclass\u001B[39;00m \u001B[38;5;21;01mBaseExampleDocumenter\u001B[39;00m(ShapeDocumenter):\n",
      "File \u001B[0;32m~/data-projects/InternetAccessColombia/.venv/lib/python3.10/site-packages/botocore/docs/shape.py:19\u001B[0m\n\u001B[1;32m      1\u001B[0m \u001B[38;5;66;03m# Copyright 2015 Amazon.com, Inc. or its affiliates. All Rights Reserved.\u001B[39;00m\n\u001B[1;32m      2\u001B[0m \u001B[38;5;66;03m#\u001B[39;00m\n\u001B[1;32m      3\u001B[0m \u001B[38;5;66;03m# Licensed under the Apache License, Version 2.0 (the \"License\"). You\u001B[39;00m\n\u001B[0;32m   (...)\u001B[0m\n\u001B[1;32m     17\u001B[0m \u001B[38;5;66;03m# inherited from a Documenter class with the appropriate methods\u001B[39;00m\n\u001B[1;32m     18\u001B[0m \u001B[38;5;66;03m# and attributes.\u001B[39;00m\n\u001B[0;32m---> 19\u001B[0m \u001B[38;5;28;01mfrom\u001B[39;00m \u001B[38;5;21;01mbotocore\u001B[39;00m\u001B[38;5;21;01m.\u001B[39;00m\u001B[38;5;21;01mutils\u001B[39;00m \u001B[38;5;28;01mimport\u001B[39;00m is_json_value_header\n\u001B[1;32m     22\u001B[0m \u001B[38;5;28;01mclass\u001B[39;00m \u001B[38;5;21;01mShapeDocumenter\u001B[39;00m(\u001B[38;5;28mobject\u001B[39m):\n\u001B[1;32m     23\u001B[0m     EVENT_NAME \u001B[38;5;241m=\u001B[39m \u001B[38;5;124m'\u001B[39m\u001B[38;5;124m'\u001B[39m\n",
      "File \u001B[0;32m~/data-projects/InternetAccessColombia/.venv/lib/python3.10/site-packages/botocore/utils.py:34\u001B[0m\n\u001B[1;32m     32\u001B[0m \u001B[38;5;28;01mimport\u001B[39;00m \u001B[38;5;21;01mbotocore\u001B[39;00m\n\u001B[1;32m     33\u001B[0m \u001B[38;5;28;01mimport\u001B[39;00m \u001B[38;5;21;01mbotocore\u001B[39;00m\u001B[38;5;21;01m.\u001B[39;00m\u001B[38;5;21;01mawsrequest\u001B[39;00m\n\u001B[0;32m---> 34\u001B[0m \u001B[38;5;28;01mimport\u001B[39;00m \u001B[38;5;21;01mbotocore\u001B[39;00m\u001B[38;5;21;01m.\u001B[39;00m\u001B[38;5;21;01mhttpsession\u001B[39;00m\n\u001B[1;32m     36\u001B[0m \u001B[38;5;66;03m# IP Regexes retained for backwards compatibility\u001B[39;00m\n\u001B[1;32m     37\u001B[0m \u001B[38;5;28;01mfrom\u001B[39;00m \u001B[38;5;21;01mbotocore\u001B[39;00m\u001B[38;5;21;01m.\u001B[39;00m\u001B[38;5;21;01mcompat\u001B[39;00m \u001B[38;5;28;01mimport\u001B[39;00m HEX_PAT  \u001B[38;5;66;03m# noqa: F401\u001B[39;00m\n",
      "File \u001B[0;32m~/data-projects/InternetAccessColombia/.venv/lib/python3.10/site-packages/botocore/httpsession.py:21\u001B[0m\n\u001B[1;32m     19\u001B[0m \u001B[38;5;28;01mfrom\u001B[39;00m \u001B[38;5;21;01murllib3\u001B[39;00m\u001B[38;5;21;01m.\u001B[39;00m\u001B[38;5;21;01mexceptions\u001B[39;00m \u001B[38;5;28;01mimport\u001B[39;00m SSLError \u001B[38;5;28;01mas\u001B[39;00m URLLib3SSLError\n\u001B[1;32m     20\u001B[0m \u001B[38;5;28;01mfrom\u001B[39;00m \u001B[38;5;21;01murllib3\u001B[39;00m\u001B[38;5;21;01m.\u001B[39;00m\u001B[38;5;21;01mutil\u001B[39;00m\u001B[38;5;21;01m.\u001B[39;00m\u001B[38;5;21;01mretry\u001B[39;00m \u001B[38;5;28;01mimport\u001B[39;00m Retry\n\u001B[0;32m---> 21\u001B[0m \u001B[38;5;28;01mfrom\u001B[39;00m \u001B[38;5;21;01murllib3\u001B[39;00m\u001B[38;5;21;01m.\u001B[39;00m\u001B[38;5;21;01mutil\u001B[39;00m\u001B[38;5;21;01m.\u001B[39;00m\u001B[38;5;21;01mssl_\u001B[39;00m \u001B[38;5;28;01mimport\u001B[39;00m (\n\u001B[1;32m     22\u001B[0m     DEFAULT_CIPHERS,\n\u001B[1;32m     23\u001B[0m     OP_NO_COMPRESSION,\n\u001B[1;32m     24\u001B[0m     PROTOCOL_TLS,\n\u001B[1;32m     25\u001B[0m     OP_NO_SSLv2,\n\u001B[1;32m     26\u001B[0m     OP_NO_SSLv3,\n\u001B[1;32m     27\u001B[0m     is_ipaddress,\n\u001B[1;32m     28\u001B[0m     ssl,\n\u001B[1;32m     29\u001B[0m )\n\u001B[1;32m     30\u001B[0m \u001B[38;5;28;01mfrom\u001B[39;00m \u001B[38;5;21;01murllib3\u001B[39;00m\u001B[38;5;21;01m.\u001B[39;00m\u001B[38;5;21;01mutil\u001B[39;00m\u001B[38;5;21;01m.\u001B[39;00m\u001B[38;5;21;01murl\u001B[39;00m \u001B[38;5;28;01mimport\u001B[39;00m parse_url\n\u001B[1;32m     32\u001B[0m \u001B[38;5;28;01mtry\u001B[39;00m:\n",
      "\u001B[0;31mImportError\u001B[0m: cannot import name 'DEFAULT_CIPHERS' from 'urllib3.util.ssl_' (/home/hadoop/data-projects/InternetAccessColombia/.venv/lib/python3.10/site-packages/urllib3/util/ssl_.py)"
     ]
    }
   ],
   "execution_count": 6
  },
  {
   "metadata": {},
   "cell_type": "code",
   "outputs": [],
   "execution_count": null,
   "source": "",
   "id": "7ba0747809eab7c2"
  }
 ],
 "metadata": {
  "kernelspec": {
   "display_name": "Python 3",
   "language": "python",
   "name": "python3"
  },
  "language_info": {
   "codemirror_mode": {
    "name": "ipython",
    "version": 2
   },
   "file_extension": ".py",
   "mimetype": "text/x-python",
   "name": "python",
   "nbconvert_exporter": "python",
   "pygments_lexer": "ipython2",
   "version": "2.7.6"
  }
 },
 "nbformat": 4,
 "nbformat_minor": 5
}
