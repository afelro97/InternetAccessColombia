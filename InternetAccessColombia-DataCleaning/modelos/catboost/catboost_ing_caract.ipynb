{
 "cells": [
  {
   "cell_type": "code",
   "id": "initial_id",
   "metadata": {
    "ExecuteTime": {
     "end_time": "2024-12-17T20:55:30.979257Z",
     "start_time": "2024-12-17T20:55:29.195634Z"
    }
   },
   "source": [
    "# Importar librerías necesarias\n",
    "import pandas as pd\n",
    "from sklearn.model_selection import train_test_split\n",
    "from sklearn.metrics import mean_squared_error, r2_score\n",
    "from catboost import CatBoostRegressor\n",
    "import matplotlib.pyplot as plt"
   ],
   "outputs": [],
   "execution_count": 1
  },
  {
   "cell_type": "code",
   "id": "7da8b338066a426a",
   "metadata": {
    "ExecuteTime": {
     "end_time": "2024-12-17T20:56:27.412015Z",
     "start_time": "2024-12-17T20:56:24.362923Z"
    }
   },
   "source": [
    "ruta_dataset_mejorado = \"../../Limpieza/data/df_mejorado_ing_caract.csv\"\n",
    "df = pd.read_csv(ruta_dataset_mejorado)"
   ],
   "outputs": [],
   "execution_count": 2
  },
  {
   "metadata": {
    "ExecuteTime": {
     "end_time": "2024-12-17T20:56:32.783017Z",
     "start_time": "2024-12-17T20:56:32.680296Z"
    }
   },
   "cell_type": "code",
   "source": [
    "# Revisar la estructura del dataset\n",
    "print(\"Estructura del dataset:\")\n",
    "print(df.info())"
   ],
   "id": "af203cff05ec8da9",
   "outputs": [
    {
     "name": "stdout",
     "output_type": "stream",
     "text": [
      "Estructura del dataset:\n",
      "<class 'pandas.core.frame.DataFrame'>\n",
      "RangeIndex: 917885 entries, 0 to 917884\n",
      "Data columns (total 39 columns):\n",
      " #   Column                                                           Non-Null Count   Dtype  \n",
      "---  ------                                                           --------------   -----  \n",
      " 0   AÑO                                                              917885 non-null  int64  \n",
      " 1   TRIMESTRE                                                        917885 non-null  float64\n",
      " 2   PROVEEDOR                                                        917885 non-null  object \n",
      " 3   CÓDIGO DANE                                                      917885 non-null  float64\n",
      " 4   DEPARTAMENTO                                                     917885 non-null  object \n",
      " 5   CÓDIGO DANE.1                                                    917885 non-null  float64\n",
      " 6   MUNICIPIO                                                        917885 non-null  object \n",
      " 7   VELOCIDAD BAJADA                                                 917885 non-null  float64\n",
      " 8   VELOCIDAD SUBIDA                                                 917885 non-null  float64\n",
      " 9   No. ACCESOS FIJOS A INTERNET                                     917885 non-null  int64  \n",
      " 10  Latitud                                                          917885 non-null  float64\n",
      " 11  Longitud                                                         917885 non-null  float64\n",
      " 12  Tasa_Crecimiento                                                 917885 non-null  float64\n",
      " 13  Densidad_Accesos                                                 917885 non-null  float64\n",
      " 14  Promedio_Movil                                                   917885 non-null  float64\n",
      " 15  Indice_Velocidad                                                 917885 non-null  float64\n",
      " 16  SEGMENTO_RESIDENCIAL - ESTRATO 1                                 917885 non-null  bool   \n",
      " 17  SEGMENTO_RESIDENCIAL - ESTRATO 2                                 917885 non-null  bool   \n",
      " 18  SEGMENTO_RESIDENCIAL - ESTRATO 3                                 917885 non-null  bool   \n",
      " 19  SEGMENTO_RESIDENCIAL - ESTRATO 4                                 917885 non-null  bool   \n",
      " 20  SEGMENTO_RESIDENCIAL - ESTRATO 5                                 917885 non-null  bool   \n",
      " 21  SEGMENTO_RESIDENCIAL - ESTRATO 6                                 917885 non-null  bool   \n",
      " 22  SEGMENTO_SIN ESTRATIFICAR                                        917885 non-null  bool   \n",
      " 23  SEGMENTO_USO PROPIO INTERNO DEL OPERADOR                         917885 non-null  bool   \n",
      " 24  TECNOLOGÍA_FIBER TO THE ANTENNA (FTTA)                           917885 non-null  bool   \n",
      " 25  TECNOLOGÍA_FIBER TO THE BUILDING O FIBER TO THE BASEMENT (FTTB)  917885 non-null  bool   \n",
      " 26  TECNOLOGÍA_FIBER TO THE CABINET (FTTC)                           917885 non-null  bool   \n",
      " 27  TECNOLOGÍA_FIBER TO THE HOME (FTTH)                              917885 non-null  bool   \n",
      " 28  TECNOLOGÍA_FIBER TO THE NODE (FTTN)                              917885 non-null  bool   \n",
      " 29  TECNOLOGÍA_FIBER TO THE PREMISES                                 917885 non-null  bool   \n",
      " 30  TECNOLOGÍA_HYBRID FIBER COAXIAL (HFC)                            917885 non-null  bool   \n",
      " 31  TECNOLOGÍA_NA (NO APLICA)                                        917885 non-null  bool   \n",
      " 32  TECNOLOGÍA_OTRAS TECNOLOGÍAS DE FIBRA (ANTES FTTX)               917885 non-null  bool   \n",
      " 33  TECNOLOGÍA_OTRAS TECNOLOGÍAS FIJAS                               917885 non-null  bool   \n",
      " 34  TECNOLOGÍA_OTRAS TECNOLOGÍAS INALÁMBRICAS                        917885 non-null  bool   \n",
      " 35  TECNOLOGÍA_SATELITAL                                             917885 non-null  bool   \n",
      " 36  TECNOLOGÍA_WIFI                                                  917885 non-null  bool   \n",
      " 37  TECNOLOGÍA_WIMAX                                                 917885 non-null  bool   \n",
      " 38  TECNOLOGÍA_XDSL                                                  917885 non-null  bool   \n",
      "dtypes: bool(23), float64(11), int64(2), object(3)\n",
      "memory usage: 132.2+ MB\n",
      "None\n"
     ]
    }
   ],
   "execution_count": 3
  },
  {
   "metadata": {
    "ExecuteTime": {
     "end_time": "2024-12-17T20:56:40.878790Z",
     "start_time": "2024-12-17T20:56:40.844202Z"
    }
   },
   "cell_type": "code",
   "source": [
    "# Seleccionar variables predictoras y objetivo\n",
    "columnas_predictoras = ['AÑO', 'TRIMESTRE', 'VELOCIDAD BAJADA', 'VELOCIDAD SUBIDA',\n",
    "                        'Latitud', 'Longitud', 'Tasa_Crecimiento', 'Densidad_Accesos',\n",
    "                        'Promedio_Movil', 'Indice_Velocidad']\n",
    "X = df[columnas_predictoras]\n",
    "y = df['No. ACCESOS FIJOS A INTERNET']\n"
   ],
   "id": "806e4bb5a5ea0dc8",
   "outputs": [],
   "execution_count": 4
  },
  {
   "metadata": {
    "ExecuteTime": {
     "end_time": "2024-12-17T20:56:49.510728Z",
     "start_time": "2024-12-17T20:56:49.358315Z"
    }
   },
   "cell_type": "code",
   "source": [
    "# Dividir el dataset en entrenamiento y prueba\n",
    "X_train, X_test, y_train, y_test = train_test_split(X, y, test_size=0.2, random_state=42)"
   ],
   "id": "fec26682ee50c792",
   "outputs": [],
   "execution_count": 5
  },
  {
   "metadata": {
    "ExecuteTime": {
     "end_time": "2024-12-17T20:57:13.686792Z",
     "start_time": "2024-12-17T20:56:56.989603Z"
    }
   },
   "cell_type": "code",
   "source": [
    "# Crear y entrenar el modelo CatBoost\n",
    "modelo = CatBoostRegressor(iterations=500, learning_rate=0.1, depth=6, verbose=100, random_state=42)\n",
    "modelo.fit(X_train, y_train)"
   ],
   "id": "37c88498e9a42b0c",
   "outputs": [
    {
     "name": "stdout",
     "output_type": "stream",
     "text": [
      "0:\tlearn: 693.7417928\ttotal: 90.7ms\tremaining: 45.3s\n",
      "100:\tlearn: 543.3653894\ttotal: 3.5s\tremaining: 13.8s\n",
      "200:\tlearn: 542.3755196\ttotal: 6.91s\tremaining: 10.3s\n",
      "300:\tlearn: 541.9904472\ttotal: 9.91s\tremaining: 6.55s\n",
      "400:\tlearn: 541.7220144\ttotal: 12.9s\tremaining: 3.17s\n",
      "499:\tlearn: 541.5441403\ttotal: 16.1s\tremaining: 0us\n"
     ]
    },
    {
     "data": {
      "text/plain": [
       "<catboost.core.CatBoostRegressor at 0x7f68fe6f8250>"
      ]
     },
     "execution_count": 6,
     "metadata": {},
     "output_type": "execute_result"
    }
   ],
   "execution_count": 6
  },
  {
   "metadata": {
    "ExecuteTime": {
     "end_time": "2024-12-17T20:57:17.315041Z",
     "start_time": "2024-12-17T20:57:17.291526Z"
    }
   },
   "cell_type": "code",
   "source": [
    "# Realizar predicciones y evaluar el modelo\n",
    "y_pred = modelo.predict(X_test)\n",
    "mse = mean_squared_error(y_test, y_pred)\n",
    "r2 = r2_score(y_test, y_pred)\n"
   ],
   "id": "abe9248ba434077d",
   "outputs": [],
   "execution_count": 7
  },
  {
   "metadata": {
    "ExecuteTime": {
     "end_time": "2024-12-17T20:57:18.098101Z",
     "start_time": "2024-12-17T20:57:18.094038Z"
    }
   },
   "cell_type": "code",
   "source": [
    "# Mostrar resultados\n",
    "print(f\"Error cuadrático medio (MSE): {mse}\")\n",
    "print(f\"Coeficiente de determinación (R²): {r2}\")"
   ],
   "id": "2d4286bad2231d2c",
   "outputs": [
    {
     "name": "stdout",
     "output_type": "stream",
     "text": [
      "Error cuadrático medio (MSE): 144540.99545398893\n",
      "Coeficiente de determinación (R²): 0.37479943407338645\n"
     ]
    }
   ],
   "execution_count": 8
  },
  {
   "metadata": {
    "ExecuteTime": {
     "end_time": "2024-12-17T20:57:24.735Z",
     "start_time": "2024-12-17T20:57:24.729168Z"
    }
   },
   "cell_type": "code",
   "source": [
    "# Importancia de las variables\n",
    "importancia = modelo.get_feature_importance()\n",
    "variables = columnas_predictoras"
   ],
   "id": "4b44a0c0099665a7",
   "outputs": [],
   "execution_count": 9
  },
  {
   "metadata": {
    "ExecuteTime": {
     "end_time": "2024-12-17T20:57:28.792335Z",
     "start_time": "2024-12-17T20:57:28.666608Z"
    }
   },
   "cell_type": "code",
   "source": [
    "plt.figure(figsize=(10, 6))\n",
    "plt.barh(variables, importancia, color='steelblue')\n",
    "plt.xlabel(\"Importancia\")\n",
    "plt.ylabel(\"Variables\")\n",
    "plt.title(\"Importancia de las variables en CatBoost\")\n",
    "plt.show()"
   ],
   "id": "db6ba745fbbbdfc7",
   "outputs": [
    {
     "data": {
      "text/plain": [
       "<Figure size 1000x600 with 1 Axes>"
      ],
      "image/png": "[encoded data removed]"
     },
     "metadata": {},
     "output_type": "display_data"
    }
   ],
   "execution_count": 10
  },
  {
   "metadata": {},
   "cell_type": "markdown",
   "source": [
    "### Conclusiones del Modelo CatBoost\n",
    "\n",
    "---\n",
    "\n",
    "#### **Desempeño del Modelo**\n",
    "| **Métrica**                     | **Datos Base**          | **Datos con Ingeniería de Características** |\n",
    "|---------------------------------|-------------------------|--------------------------------------------|\n",
    "| **MSE (Error Cuadrático Medio)** | 303,333.87              | 144,540.99                                |\n",
    "| **R² (Coeficiente de Determinación)** | 0.2188                  | 0.3748                                    |\n",
    "\n",
    "1. **Error Cuadrático Medio (MSE):**\n",
    "   - El **MSE** pasó de **303,333.87** con los datos base a **144,540.99** con las nuevas características, lo que representa una **reducción del 52.3%**.\n",
    "   - Esto refleja una mejora significativa en la precisión de las predicciones.\n",
    "\n",
    "2. **Coeficiente de Determinación (R²):**\n",
    "   - El **R²** aumentó de **0.2188** a **0.3748**, lo que indica que el modelo ahora puede explicar el **37.5% de la variabilidad** en los datos, en comparación con solo el 21.8% anteriormente.\n",
    "   - Aunque sigue existiendo margen para mejorar, el incremento demuestra que las nuevas características aportan información adicional útil al modelo.\n",
    "\n",
    "---\n",
    "\n",
    "#### **Importancia de las Variables**\n",
    "- La variable **`AÑO`** continúa siendo la más importante, alineada con los resultados de modelos anteriores.\n",
    "- Las nuevas características derivadas, como:\n",
    "   - **`VELOCIDAD BAJADA`** y **`VELOCIDAD SUBIDA`**, han ganado mayor relevancia.\n",
    "   - Características adicionales como **`Tasa_Crecimiento`**, **`Densidad_Accesos`**, **`Promedio_Movil`**, e **`Indice_Velocidad`** deben ser evaluadas más a fondo para entender su impacto específico en el modelo.\n",
    "\n",
    "---\n",
    "\n",
    "#### **Conclusiones Generales**\n",
    "- La aplicación de **ingeniería de características** mejoró notablemente el rendimiento del modelo **CatBoost**.\n",
    "- La reducción en el MSE y el aumento del R² reflejan que el modelo ahora produce predicciones más precisas y captura mejor las relaciones en los datos.\n",
    "- Las nuevas variables derivadas aportan información valiosa que permite al modelo aprender patrones más complejos.\n",
    "- **Recomendación:** \n",
    "   - Seguir optimizando el modelo con ajustes en los hiperparámetros.\n",
    "   - Explorar técnicas adicionales de **feature engineering** o probar otros modelos avanzados para continuar mejorando el desempeño.\n",
    "\n",
    "---\n"
   ],
   "id": "ffe9bf55e405d494"
  },
  {
   "metadata": {},
   "cell_type": "code",
   "outputs": [],
   "execution_count": null,
   "source": "",
   "id": "5627d2ee39497db9"
  }
 ],
 "metadata": {
  "kernelspec": {
   "display_name": "Python 3 (ipykernel)",
   "language": "python",
   "name": "python3"
  },
  "language_info": {
   "codemirror_mode": {
    "name": "ipython",
    "version": 3
   },
   "file_extension": ".py",
   "mimetype": "text/x-python",
   "name": "python",
   "nbconvert_exporter": "python",
   "pygments_lexer": "ipython3",
   "version": "3.10.12"
  }
 },
 "nbformat": 4,
 "nbformat_minor": 5
}
