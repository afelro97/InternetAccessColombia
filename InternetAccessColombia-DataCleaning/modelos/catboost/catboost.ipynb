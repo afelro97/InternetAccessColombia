{
 "cells": [
  {
   "metadata": {
    "ExecuteTime": {
     "end_time": "2024-12-16T20:46:48.160920Z",
     "start_time": "2024-12-16T20:46:47.966805Z"
    }
   },
   "cell_type": "code",
   "source": "!which python",
   "id": "6426012e451abf98",
   "outputs": [
    {
     "name": "stdout",
     "output_type": "stream",
     "text": [
      "/bin/bash: warning: setlocale: LC_ALL: cannot change locale (en_US.UTF-8)\r\n"
     ]
    }
   ],
   "execution_count": 13
  },
  {
   "cell_type": "code",
   "id": "initial_id",
   "metadata": {
    "collapsed": true,
    "ExecuteTime": {
     "end_time": "2024-12-16T20:53:03.843773Z",
     "start_time": "2024-12-16T20:53:02.860059Z"
    }
   },
   "source": [
    "#Importar librerías necesarias\n",
    "import pandas as pd\n",
    "from sklearn.model_selection import train_test_split\n",
    "from sklearn.metrics import mean_squared_error, r2_score\n",
    "from catboost import CatBoostRegressor, Pool\n",
    "import matplotlib.pyplot as plt"
   ],
   "outputs": [],
   "execution_count": 1
  },
  {
   "metadata": {
    "ExecuteTime": {
     "end_time": "2024-12-16T20:36:28.377311Z",
     "start_time": "2024-12-16T20:36:27.094817Z"
    }
   },
   "cell_type": "code",
   "source": [
    "# Ruta del dataset\n",
    "ruta_dataset = \"../../Limpieza/data/df_unificado_limpio_imputado.csv\"\n",
    "df = pd.read_csv(ruta_dataset)"
   ],
   "id": "d920a020718555dd",
   "outputs": [],
   "execution_count": 2
  },
  {
   "metadata": {
    "ExecuteTime": {
     "end_time": "2024-12-16T20:36:37.407291Z",
     "start_time": "2024-12-16T20:36:37.282709Z"
    }
   },
   "cell_type": "code",
   "source": [
    "# Mostrar la estructura del dataset\n",
    "print(\"Estructura del dataset:\")\n",
    "print(df.info())"
   ],
   "id": "e2e912b77862e3bf",
   "outputs": [
    {
     "name": "stdout",
     "output_type": "stream",
     "text": [
      "Estructura del dataset:\n",
      "<class 'pandas.core.frame.DataFrame'>\n",
      "RangeIndex: 917885 entries, 0 to 917884\n",
      "Data columns (total 14 columns):\n",
      " #   Column                        Non-Null Count   Dtype  \n",
      "---  ------                        --------------   -----  \n",
      " 0   AÑO                           917885 non-null  int64  \n",
      " 1   TRIMESTRE                     917885 non-null  float64\n",
      " 2   PROVEEDOR                     917885 non-null  object \n",
      " 3   CÓDIGO DANE                   917885 non-null  float64\n",
      " 4   DEPARTAMENTO                  917885 non-null  object \n",
      " 5   CÓDIGO DANE.1                 917885 non-null  float64\n",
      " 6   MUNICIPIO                     917885 non-null  object \n",
      " 7   SEGMENTO                      917885 non-null  object \n",
      " 8   TECNOLOGÍA                    917885 non-null  object \n",
      " 9   VELOCIDAD BAJADA              917885 non-null  float64\n",
      " 10  VELOCIDAD SUBIDA              917885 non-null  float64\n",
      " 11  No. ACCESOS FIJOS A INTERNET  917885 non-null  int64  \n",
      " 12  Latitud                       917885 non-null  float64\n",
      " 13  Longitud                      917885 non-null  float64\n",
      "dtypes: float64(7), int64(2), object(5)\n",
      "memory usage: 98.0+ MB\n",
      "None\n"
     ]
    }
   ],
   "execution_count": 3
  },
  {
   "metadata": {
    "ExecuteTime": {
     "end_time": "2024-12-16T20:36:43.377328Z",
     "start_time": "2024-12-16T20:36:43.355261Z"
    }
   },
   "cell_type": "code",
   "source": [
    "# Definir variables predictoras y variable objetivo\n",
    "columnas_predictoras = ['AÑO', 'TRIMESTRE', 'VELOCIDAD BAJADA', 'VELOCIDAD SUBIDA', 'Latitud', 'Longitud']\n",
    "X = df[columnas_predictoras]\n",
    "y = df['No. ACCESOS FIJOS A INTERNET']"
   ],
   "id": "40301a9855859923",
   "outputs": [],
   "execution_count": 4
  },
  {
   "metadata": {
    "ExecuteTime": {
     "end_time": "2024-12-16T20:36:50.660225Z",
     "start_time": "2024-12-16T20:36:50.563176Z"
    }
   },
   "cell_type": "code",
   "source": [
    "# Dividir en entrenamiento y prueba\n",
    "X_train, X_test, y_train, y_test = train_test_split(X, y, test_size=0.2, random_state=42)"
   ],
   "id": "8cb72ddcdce1d49",
   "outputs": [],
   "execution_count": 5
  },
  {
   "metadata": {
    "ExecuteTime": {
     "end_time": "2024-12-16T20:37:13.466998Z",
     "start_time": "2024-12-16T20:36:57.150189Z"
    }
   },
   "cell_type": "code",
   "source": [
    "# Definir y entrenar el modelo CatBoost\n",
    "modelo_cb = CatBoostRegressor(iterations=500, learning_rate=0.1, depth=6, random_state=42, verbose=0)\n",
    "modelo_cb.fit(X_train, y_train)"
   ],
   "id": "eb69552fc3e7949b",
   "outputs": [
    {
     "data": {
      "text/plain": [
       "<catboost.core.CatBoostRegressor at 0x7fd35a8e0850>"
      ]
     },
     "execution_count": 6,
     "metadata": {},
     "output_type": "execute_result"
    }
   ],
   "execution_count": 6
  },
  {
   "metadata": {
    "ExecuteTime": {
     "end_time": "2024-12-16T20:37:17.076602Z",
     "start_time": "2024-12-16T20:37:17.060292Z"
    }
   },
   "cell_type": "code",
   "source": [
    "# Realizar predicciones\n",
    "y_pred = modelo_cb.predict(X_test)"
   ],
   "id": "17e9fcc56e6387e7",
   "outputs": [],
   "execution_count": 7
  },
  {
   "metadata": {
    "ExecuteTime": {
     "end_time": "2024-12-16T20:37:18.455087Z",
     "start_time": "2024-12-16T20:37:18.445918Z"
    }
   },
   "cell_type": "code",
   "source": [
    "# Evaluar el modelo\n",
    "mse = mean_squared_error(y_test, y_pred)\n",
    "r2 = r2_score(y_test, y_pred)"
   ],
   "id": "8196cccd1a030f77",
   "outputs": [],
   "execution_count": 8
  },
  {
   "metadata": {
    "ExecuteTime": {
     "end_time": "2024-12-16T20:37:21.947449Z",
     "start_time": "2024-12-16T20:37:21.943975Z"
    }
   },
   "cell_type": "code",
   "source": [
    "print(f\"Error cuadrático medio (MSE): {mse}\")\n",
    "print(f\"Coeficiente de determinación (R²): {r2}\")"
   ],
   "id": "ad20a361e89c0166",
   "outputs": [
    {
     "name": "stdout",
     "output_type": "stream",
     "text": [
      "Error cuadrático medio (MSE): 303333.8729210619\n",
      "Coeficiente de determinación (R²): 0.2187904290252234\n"
     ]
    }
   ],
   "execution_count": 9
  },
  {
   "metadata": {
    "ExecuteTime": {
     "end_time": "2024-12-16T20:37:29.271200Z",
     "start_time": "2024-12-16T20:37:29.268051Z"
    }
   },
   "cell_type": "code",
   "source": [
    "# Importancia de las variables\n",
    "importancia = modelo_cb.feature_importances_\n",
    "variables = columnas_predictoras"
   ],
   "id": "6e4de1f3045a8045",
   "outputs": [],
   "execution_count": 10
  },
  {
   "metadata": {
    "ExecuteTime": {
     "end_time": "2024-12-16T20:37:33.957994Z",
     "start_time": "2024-12-16T20:37:33.851385Z"
    }
   },
   "cell_type": "code",
   "source": [
    "plt.barh(variables, importancia, color='skyblue')\n",
    "plt.xlabel('Importancia')\n",
    "plt.ylabel('Variables')\n",
    "plt.title('Importancia de las variables en CatBoost')\n",
    "plt.show()"
   ],
   "id": "f02d6fc35da467d6",
   "outputs": [
    {
     "data": {
      "text/plain": [
       "<Figure size 640x480 with 1 Axes>"
      ],
      "image/png": "[encoded data removed]"
     },
     "metadata": {},
     "output_type": "display_data"
    }
   ],
   "execution_count": 11
  },
  {
   "metadata": {},
   "cell_type": "markdown",
   "source": [
    "### Conclusiones del Modelo **CatBoost**\n",
    "\n",
    "---\n",
    "\n",
    "#### **Desempeño del Modelo**\n",
    "- **Error Cuadrático Medio (MSE):** `303,333.87`\n",
    "  - Aunque el MSE sigue siendo alto, se observa que está en el mismo rango que otros modelos probados anteriormente, como Random Forest y Gradient Boosting.\n",
    "- **Coeficiente de Determinación (R²):** `0.2188`\n",
    "  - El modelo **CatBoost** es capaz de explicar aproximadamente el **21.88%** de la variabilidad de los datos.\n",
    "  - A pesar de la mejora en la técnica utilizada, el bajo valor de R² indica que el modelo sigue teniendo dificultades para capturar patrones complejos.\n",
    "\n",
    "---\n",
    "\n",
    "#### **Importancia de las Variables**\n",
    "- La variable **AÑO** sigue siendo **la más relevante**, con una importancia significativamente mayor al resto.\n",
    "- Las variables **VELOCIDAD BAJADA**, **VELOCIDAD SUBIDA**, **Latitud** y **Longitud** presentan una **contribución mínima**.\n",
    "- **TRIMESTRE** prácticamente no tiene relevancia en el modelo.\n",
    "\n",
    "---\n",
    "\n",
    "#### **Comparación con Otros Modelos**\n",
    "| Modelo                    | MSE          | R²          |\n",
    "|---------------------------|--------------|-------------|\n",
    "| CatBoost                 | 303,333.87   | 0.2188      |\n",
    "| LightGBM                 | 303,885.37   | 0.2173      |\n",
    "| Gradient Boosting (GBM)   | 303,288.97   | 0.2189      |\n",
    "| XGBoost                  | 303,949.16   | 0.2172      |\n",
    "| Random Forest            | 215,128.71   | 0.22        |\n",
    "\n",
    "- CatBoost y GBM tienen un desempeño muy similar en términos de MSE y R².\n",
    "- Ningún modelo logra capturar adecuadamente la variabilidad de los datos.\n",
    "\n",
    "---\n",
    "\n",
    "#### **Posibles Problemas**\n",
    "1. **Dependencia Temporal:** El predominio de la variable **AÑO** indica que los accesos fijos a internet tienen una dependencia temporal muy fuerte, lo que podría limitar el poder predictivo.\n",
    "2. **Poca Variabilidad en Datos:** Las variables **VELOCIDAD BAJADA** y **VELOCIDAD SUBIDA** muestran muy baja relevancia, posiblemente por falta de variabilidad en los datos.\n",
    "3. **Sub-representación de otras variables:** Las variables geográficas (Latitud y Longitud) y trimestrales parecen aportar muy poco valor al modelo.\n",
    "\n",
    "---"
   ],
   "id": "90e37765037557bc"
  },
  {
   "metadata": {},
   "cell_type": "code",
   "outputs": [],
   "execution_count": null,
   "source": "",
   "id": "41ba6cc29aa736ad"
  }
 ],
 "metadata": {
  "kernelspec": {
   "display_name": "Python 3",
   "language": "python",
   "name": "python3"
  },
  "language_info": {
   "codemirror_mode": {
    "name": "ipython",
    "version": 2
   },
   "file_extension": ".py",
   "mimetype": "text/x-python",
   "name": "python",
   "nbconvert_exporter": "python",
   "pygments_lexer": "ipython2",
   "version": "2.7.6"
  }
 },
 "nbformat": 4,
 "nbformat_minor": 5
}
